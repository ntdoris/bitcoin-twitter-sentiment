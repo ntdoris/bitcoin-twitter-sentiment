{
 "cells": [
  {
   "cell_type": "markdown",
   "id": "50d1602e",
   "metadata": {},
   "source": [
    "### Import Statements, Loading Data"
   ]
  },
  {
   "cell_type": "code",
   "execution_count": 88,
   "id": "445839da",
   "metadata": {
    "ExecuteTime": {
     "end_time": "2022-12-12T23:12:16.160174Z",
     "start_time": "2022-12-12T23:12:15.422232Z"
    }
   },
   "outputs": [],
   "source": [
    "import pandas as pd\n",
    "import numpy as np\n",
    "\n",
    "import nltk\n",
    "from nltk.probability import FreqDist\n",
    "from nltk.corpus import stopwords, gutenberg\n",
    "from nltk.tokenize import regexp_tokenize, word_tokenize, RegexpTokenizer\n",
    "from nltk.collocations import *\n",
    "from wordcloud import WordCloud\n",
    "from gensim.models import Word2Vec\n",
    "from nltk.stem.snowball import SnowballStemmer\n",
    "\n",
    "import string\n",
    "import re\n",
    "import datetime\n",
    "\n",
    "import matplotlib.pyplot as plt\n",
    "from matplotlib.ticker import MaxNLocator\n",
    "import seaborn as sns\n",
    "\n",
    "from sklearn.model_selection import train_test_split\n",
    "from sklearn.feature_extraction.text import TfidfVectorizer\n",
    "from sklearn.metrics import accuracy_score, f1_score, recall_score, \\\n",
    "precision_score, confusion_matrix, classification_report, roc_curve, auc, \\\n",
    "average_precision_score\n",
    "from sklearn.ensemble import RandomForestClassifier\n",
    "from sklearn.svm import SVC\n",
    "from sklearn.linear_model import LogisticRegression\n",
    "from sklearn.pipeline import Pipeline\n",
    "from sklearn.model_selection import cross_val_score\n",
    "from sklearn.naive_bayes import MultinomialNB\n",
    "\n",
    "np.random.seed(42)\n",
    "\n",
    "#nltk.download(\"gutenberg\")\n",
    "#nltk.download(\"stopwords\")\n",
    "#pip install tweepy"
   ]
  },
  {
   "cell_type": "markdown",
   "id": "b95a6f87",
   "metadata": {},
   "source": [
    "#### Loading and inpecting data"
   ]
  },
  {
   "cell_type": "code",
   "execution_count": 2,
   "id": "518dcf13",
   "metadata": {
    "ExecuteTime": {
     "end_time": "2022-12-12T17:32:43.198472Z",
     "start_time": "2022-12-12T17:32:27.976596Z"
    }
   },
   "outputs": [
    {
     "name": "stderr",
     "output_type": "stream",
     "text": [
      "/Users/natalyadoris/opt/anaconda3/envs/learn-env/lib/python3.8/site-packages/IPython/core/interactiveshell.py:3145: DtypeWarning: Columns (0,5,6,7,8,13) have mixed types.Specify dtype option on import or set low_memory=False.\n",
      "  has_raised = await self.run_ast_nodes(code_ast.body, cell_name,\n"
     ]
    },
    {
     "data": {
      "text/html": [
       "<div>\n",
       "<style scoped>\n",
       "    .dataframe tbody tr th:only-of-type {\n",
       "        vertical-align: middle;\n",
       "    }\n",
       "\n",
       "    .dataframe tbody tr th {\n",
       "        vertical-align: top;\n",
       "    }\n",
       "\n",
       "    .dataframe thead th {\n",
       "        text-align: right;\n",
       "    }\n",
       "</style>\n",
       "<table border=\"1\" class=\"dataframe\">\n",
       "  <thead>\n",
       "    <tr style=\"text-align: right;\">\n",
       "      <th></th>\n",
       "      <th>user_name</th>\n",
       "      <th>user_location</th>\n",
       "      <th>user_description</th>\n",
       "      <th>user_created</th>\n",
       "      <th>user_followers</th>\n",
       "      <th>user_friends</th>\n",
       "      <th>user_favourites</th>\n",
       "      <th>user_verified</th>\n",
       "      <th>date</th>\n",
       "      <th>text</th>\n",
       "      <th>hashtags</th>\n",
       "      <th>source</th>\n",
       "      <th>is_retweet</th>\n",
       "      <th>cleanText</th>\n",
       "      <th>Polarity Score</th>\n",
       "      <th>sentiment</th>\n",
       "    </tr>\n",
       "  </thead>\n",
       "  <tbody>\n",
       "    <tr>\n",
       "      <th>0</th>\n",
       "      <td>DeSota Wilson</td>\n",
       "      <td>Atlanta, GA</td>\n",
       "      <td>Biz Consultant, real estate, fintech, startups...</td>\n",
       "      <td>2009-04-26 20:05:09</td>\n",
       "      <td>8534</td>\n",
       "      <td>7605</td>\n",
       "      <td>4838</td>\n",
       "      <td>False</td>\n",
       "      <td>2021-02-10 23:59:04</td>\n",
       "      <td>Blue Ridge Bank shares halted by NYSE after #b...</td>\n",
       "      <td>['bitcoin']</td>\n",
       "      <td>Twitter Web App</td>\n",
       "      <td>False</td>\n",
       "      <td>blue ridge bank shares halted nyse bitcoin atm...</td>\n",
       "      <td>0.00</td>\n",
       "      <td>0.0</td>\n",
       "    </tr>\n",
       "    <tr>\n",
       "      <th>1</th>\n",
       "      <td>CryptoND</td>\n",
       "      <td>NaN</td>\n",
       "      <td>ð BITCOINLIVE is a Dutch platform aimed at ...</td>\n",
       "      <td>2019-10-17 20:12:10</td>\n",
       "      <td>6769</td>\n",
       "      <td>1532</td>\n",
       "      <td>25483</td>\n",
       "      <td>False</td>\n",
       "      <td>2021-02-10 23:58:48</td>\n",
       "      <td>ð Today, that's this #Thursday, we will do ...</td>\n",
       "      <td>['Thursday', 'Btc', 'wallet', 'security']</td>\n",
       "      <td>Twitter for Android</td>\n",
       "      <td>False</td>\n",
       "      <td>today thursday take friend leowandersleb btc w...</td>\n",
       "      <td>0.00</td>\n",
       "      <td>0.0</td>\n",
       "    </tr>\n",
       "    <tr>\n",
       "      <th>2</th>\n",
       "      <td>Tdlmatias</td>\n",
       "      <td>London, England</td>\n",
       "      <td>IM Academy : The best #forex, #SelfEducation, ...</td>\n",
       "      <td>2014-11-10 10:50:37</td>\n",
       "      <td>128</td>\n",
       "      <td>332</td>\n",
       "      <td>924</td>\n",
       "      <td>False</td>\n",
       "      <td>2021-02-10 23:54:48</td>\n",
       "      <td>Guys evening, I have read this article about B...</td>\n",
       "      <td>NaN</td>\n",
       "      <td>Twitter Web App</td>\n",
       "      <td>False</td>\n",
       "      <td>guys evening read article btc would like share</td>\n",
       "      <td>0.00</td>\n",
       "      <td>0.0</td>\n",
       "    </tr>\n",
       "    <tr>\n",
       "      <th>3</th>\n",
       "      <td>Crypto is the future</td>\n",
       "      <td>NaN</td>\n",
       "      <td>I will post a lot of buying signals for BTC tr...</td>\n",
       "      <td>2019-09-28 16:48:12</td>\n",
       "      <td>625</td>\n",
       "      <td>129</td>\n",
       "      <td>14</td>\n",
       "      <td>False</td>\n",
       "      <td>2021-02-10 23:54:33</td>\n",
       "      <td>$BTC A big chance in a billion! Price: \\487264...</td>\n",
       "      <td>['Bitcoin', 'FX', 'BTC', 'crypto']</td>\n",
       "      <td>dlvr.it</td>\n",
       "      <td>False</td>\n",
       "      <td>btc big chance billion price bitcoin btc crypto</td>\n",
       "      <td>0.00</td>\n",
       "      <td>0.0</td>\n",
       "    </tr>\n",
       "    <tr>\n",
       "      <th>4</th>\n",
       "      <td>Alex Kirchmaier ð¦ð¹ð¸ðª #FactsSupersp...</td>\n",
       "      <td>Europa</td>\n",
       "      <td>Co-founder @RENJERJerky | Forbes 30Under30 | I...</td>\n",
       "      <td>2016-02-03 13:15:55</td>\n",
       "      <td>1249</td>\n",
       "      <td>1472</td>\n",
       "      <td>10482</td>\n",
       "      <td>False</td>\n",
       "      <td>2021-02-10 23:54:06</td>\n",
       "      <td>This network is secured by 9 508 nodes as of t...</td>\n",
       "      <td>['BTC']</td>\n",
       "      <td>Twitter Web App</td>\n",
       "      <td>False</td>\n",
       "      <td>network secured nodes today soon biggest bears...</td>\n",
       "      <td>-0.25</td>\n",
       "      <td>0.0</td>\n",
       "    </tr>\n",
       "  </tbody>\n",
       "</table>\n",
       "</div>"
      ],
      "text/plain": [
       "                                           user_name    user_location  \\\n",
       "0                                      DeSota Wilson      Atlanta, GA   \n",
       "1                                           CryptoND              NaN   \n",
       "2                                          Tdlmatias  London, England   \n",
       "3                               Crypto is the future              NaN   \n",
       "4  Alex Kirchmaier ð¦ð¹ð¸ðª #FactsSupersp...           Europa   \n",
       "\n",
       "                                    user_description         user_created  \\\n",
       "0  Biz Consultant, real estate, fintech, startups...  2009-04-26 20:05:09   \n",
       "1  ð BITCOINLIVE is a Dutch platform aimed at ...  2019-10-17 20:12:10   \n",
       "2  IM Academy : The best #forex, #SelfEducation, ...  2014-11-10 10:50:37   \n",
       "3  I will post a lot of buying signals for BTC tr...  2019-09-28 16:48:12   \n",
       "4  Co-founder @RENJERJerky | Forbes 30Under30 | I...  2016-02-03 13:15:55   \n",
       "\n",
       "  user_followers user_friends user_favourites user_verified  \\\n",
       "0           8534         7605            4838         False   \n",
       "1           6769         1532           25483         False   \n",
       "2            128          332             924         False   \n",
       "3            625          129              14         False   \n",
       "4           1249         1472           10482         False   \n",
       "\n",
       "                  date                                               text  \\\n",
       "0  2021-02-10 23:59:04  Blue Ridge Bank shares halted by NYSE after #b...   \n",
       "1  2021-02-10 23:58:48  ð Today, that's this #Thursday, we will do ...   \n",
       "2  2021-02-10 23:54:48  Guys evening, I have read this article about B...   \n",
       "3  2021-02-10 23:54:33  $BTC A big chance in a billion! Price: \\487264...   \n",
       "4  2021-02-10 23:54:06  This network is secured by 9 508 nodes as of t...   \n",
       "\n",
       "                                    hashtags               source is_retweet  \\\n",
       "0                                ['bitcoin']      Twitter Web App      False   \n",
       "1  ['Thursday', 'Btc', 'wallet', 'security']  Twitter for Android      False   \n",
       "2                                        NaN      Twitter Web App      False   \n",
       "3         ['Bitcoin', 'FX', 'BTC', 'crypto']              dlvr.it      False   \n",
       "4                                    ['BTC']      Twitter Web App      False   \n",
       "\n",
       "                                           cleanText  Polarity Score  \\\n",
       "0  blue ridge bank shares halted nyse bitcoin atm...            0.00   \n",
       "1  today thursday take friend leowandersleb btc w...            0.00   \n",
       "2     guys evening read article btc would like share            0.00   \n",
       "3    btc big chance billion price bitcoin btc crypto            0.00   \n",
       "4  network secured nodes today soon biggest bears...           -0.25   \n",
       "\n",
       "   sentiment  \n",
       "0        0.0  \n",
       "1        0.0  \n",
       "2        0.0  \n",
       "3        0.0  \n",
       "4        0.0  "
      ]
     },
     "execution_count": 2,
     "metadata": {},
     "output_type": "execute_result"
    }
   ],
   "source": [
    "data = pd.read_csv('data/bitcoin_tweets1000000.csv', encoding='ISO-8859-1', index_col=[0])\n",
    "data.head()"
   ]
  },
  {
   "cell_type": "code",
   "execution_count": 3,
   "id": "0bb5416c",
   "metadata": {
    "ExecuteTime": {
     "end_time": "2022-12-12T17:32:44.250634Z",
     "start_time": "2022-12-12T17:32:43.202460Z"
    }
   },
   "outputs": [
    {
     "name": "stdout",
     "output_type": "stream",
     "text": [
      "<class 'pandas.core.frame.DataFrame'>\n",
      "Index: 1000025 entries, 0 to 999999\n",
      "Data columns (total 16 columns):\n",
      " #   Column            Non-Null Count    Dtype  \n",
      "---  ------            --------------    -----  \n",
      " 0   user_name         999981 non-null   object \n",
      " 1   user_location     536681 non-null   object \n",
      " 2   user_description  889249 non-null   object \n",
      " 3   user_created      1000000 non-null  object \n",
      " 4   user_followers    1000000 non-null  object \n",
      " 5   user_friends      1000000 non-null  object \n",
      " 6   user_favourites   999997 non-null   object \n",
      " 7   user_verified     999996 non-null   object \n",
      " 8   date              999995 non-null   object \n",
      " 9   text              999993 non-null   object \n",
      " 10  hashtags          983199 non-null   object \n",
      " 11  source            996633 non-null   object \n",
      " 12  is_retweet        999946 non-null   object \n",
      " 13  cleanText         999987 non-null   object \n",
      " 14  Polarity Score    999988 non-null   float64\n",
      " 15  sentiment         999986 non-null   float64\n",
      "dtypes: float64(2), object(14)\n",
      "memory usage: 129.7+ MB\n"
     ]
    }
   ],
   "source": [
    "data.info()"
   ]
  },
  {
   "cell_type": "code",
   "execution_count": 4,
   "id": "1807a8e2",
   "metadata": {
    "ExecuteTime": {
     "end_time": "2022-12-12T17:32:44.280413Z",
     "start_time": "2022-12-12T17:32:44.265292Z"
    }
   },
   "outputs": [
    {
     "data": {
      "text/plain": [
       "(1000025, 16)"
      ]
     },
     "execution_count": 4,
     "metadata": {},
     "output_type": "execute_result"
    }
   ],
   "source": [
    "data.shape"
   ]
  },
  {
   "cell_type": "code",
   "execution_count": 5,
   "id": "5b0e9747",
   "metadata": {
    "ExecuteTime": {
     "end_time": "2022-12-12T17:32:44.636159Z",
     "start_time": "2022-12-12T17:32:44.296816Z"
    }
   },
   "outputs": [
    {
     "data": {
      "text/html": [
       "<div>\n",
       "<style scoped>\n",
       "    .dataframe tbody tr th:only-of-type {\n",
       "        vertical-align: middle;\n",
       "    }\n",
       "\n",
       "    .dataframe tbody tr th {\n",
       "        vertical-align: top;\n",
       "    }\n",
       "\n",
       "    .dataframe thead th {\n",
       "        text-align: right;\n",
       "    }\n",
       "</style>\n",
       "<table border=\"1\" class=\"dataframe\">\n",
       "  <thead>\n",
       "    <tr style=\"text-align: right;\">\n",
       "      <th></th>\n",
       "      <th>Polarity Score</th>\n",
       "      <th>sentiment</th>\n",
       "    </tr>\n",
       "  </thead>\n",
       "  <tbody>\n",
       "    <tr>\n",
       "      <th>count</th>\n",
       "      <td>999988.000000</td>\n",
       "      <td>999986.000000</td>\n",
       "    </tr>\n",
       "    <tr>\n",
       "      <th>mean</th>\n",
       "      <td>0.144692</td>\n",
       "      <td>0.472943</td>\n",
       "    </tr>\n",
       "    <tr>\n",
       "      <th>std</th>\n",
       "      <td>0.271044</td>\n",
       "      <td>0.499268</td>\n",
       "    </tr>\n",
       "    <tr>\n",
       "      <th>min</th>\n",
       "      <td>-1.000000</td>\n",
       "      <td>0.000000</td>\n",
       "    </tr>\n",
       "    <tr>\n",
       "      <th>25%</th>\n",
       "      <td>0.000000</td>\n",
       "      <td>0.000000</td>\n",
       "    </tr>\n",
       "    <tr>\n",
       "      <th>50%</th>\n",
       "      <td>0.000000</td>\n",
       "      <td>0.000000</td>\n",
       "    </tr>\n",
       "    <tr>\n",
       "      <th>75%</th>\n",
       "      <td>0.286508</td>\n",
       "      <td>1.000000</td>\n",
       "    </tr>\n",
       "    <tr>\n",
       "      <th>max</th>\n",
       "      <td>1.000000</td>\n",
       "      <td>1.000000</td>\n",
       "    </tr>\n",
       "  </tbody>\n",
       "</table>\n",
       "</div>"
      ],
      "text/plain": [
       "       Polarity Score      sentiment\n",
       "count   999988.000000  999986.000000\n",
       "mean         0.144692       0.472943\n",
       "std          0.271044       0.499268\n",
       "min         -1.000000       0.000000\n",
       "25%          0.000000       0.000000\n",
       "50%          0.000000       0.000000\n",
       "75%          0.286508       1.000000\n",
       "max          1.000000       1.000000"
      ]
     },
     "execution_count": 5,
     "metadata": {},
     "output_type": "execute_result"
    }
   ],
   "source": [
    "data.describe()"
   ]
  },
  {
   "cell_type": "code",
   "execution_count": 6,
   "id": "b4593956",
   "metadata": {
    "ExecuteTime": {
     "end_time": "2022-12-12T17:32:45.531587Z",
     "start_time": "2022-12-12T17:32:44.642381Z"
    }
   },
   "outputs": [
    {
     "data": {
      "text/plain": [
       "user_name               44\n",
       "user_location       463344\n",
       "user_description    110776\n",
       "user_created            25\n",
       "user_followers          25\n",
       "user_friends            25\n",
       "user_favourites         28\n",
       "user_verified           29\n",
       "date                    30\n",
       "text                    32\n",
       "hashtags             16826\n",
       "source                3392\n",
       "is_retweet              79\n",
       "cleanText               38\n",
       "Polarity Score          37\n",
       "sentiment               39\n",
       "dtype: int64"
      ]
     },
     "execution_count": 6,
     "metadata": {},
     "output_type": "execute_result"
    }
   ],
   "source": [
    "data.isna().sum()"
   ]
  },
  {
   "cell_type": "code",
   "execution_count": 18,
   "id": "f427d77a",
   "metadata": {
    "ExecuteTime": {
     "end_time": "2022-12-12T17:36:58.214031Z",
     "start_time": "2022-12-12T17:36:58.194093Z"
    }
   },
   "outputs": [
    {
     "data": {
      "text/html": [
       "<div>\n",
       "<style scoped>\n",
       "    .dataframe tbody tr th:only-of-type {\n",
       "        vertical-align: middle;\n",
       "    }\n",
       "\n",
       "    .dataframe tbody tr th {\n",
       "        vertical-align: top;\n",
       "    }\n",
       "\n",
       "    .dataframe thead th {\n",
       "        text-align: right;\n",
       "    }\n",
       "</style>\n",
       "<table border=\"1\" class=\"dataframe\">\n",
       "  <thead>\n",
       "    <tr style=\"text-align: right;\">\n",
       "      <th></th>\n",
       "      <th>Date</th>\n",
       "      <th>Open</th>\n",
       "      <th>High</th>\n",
       "      <th>Low</th>\n",
       "      <th>Close</th>\n",
       "      <th>Adj Close</th>\n",
       "      <th>Volume</th>\n",
       "    </tr>\n",
       "  </thead>\n",
       "  <tbody>\n",
       "    <tr>\n",
       "      <th>0</th>\n",
       "      <td>2021-02-01</td>\n",
       "      <td>33114.578125</td>\n",
       "      <td>34638.214844</td>\n",
       "      <td>32384.228516</td>\n",
       "      <td>33537.175781</td>\n",
       "      <td>33537.175781</td>\n",
       "      <td>61400400660</td>\n",
       "    </tr>\n",
       "    <tr>\n",
       "      <th>1</th>\n",
       "      <td>2021-02-02</td>\n",
       "      <td>33533.199219</td>\n",
       "      <td>35896.882813</td>\n",
       "      <td>33489.218750</td>\n",
       "      <td>35510.289063</td>\n",
       "      <td>35510.289063</td>\n",
       "      <td>63088585433</td>\n",
       "    </tr>\n",
       "    <tr>\n",
       "      <th>2</th>\n",
       "      <td>2021-02-03</td>\n",
       "      <td>35510.820313</td>\n",
       "      <td>37480.187500</td>\n",
       "      <td>35443.984375</td>\n",
       "      <td>37472.089844</td>\n",
       "      <td>37472.089844</td>\n",
       "      <td>61166818159</td>\n",
       "    </tr>\n",
       "    <tr>\n",
       "      <th>3</th>\n",
       "      <td>2021-02-04</td>\n",
       "      <td>37475.105469</td>\n",
       "      <td>38592.175781</td>\n",
       "      <td>36317.500000</td>\n",
       "      <td>36926.066406</td>\n",
       "      <td>36926.066406</td>\n",
       "      <td>68838074392</td>\n",
       "    </tr>\n",
       "    <tr>\n",
       "      <th>4</th>\n",
       "      <td>2021-02-05</td>\n",
       "      <td>36931.546875</td>\n",
       "      <td>38225.906250</td>\n",
       "      <td>36658.761719</td>\n",
       "      <td>38144.308594</td>\n",
       "      <td>38144.308594</td>\n",
       "      <td>58598066402</td>\n",
       "    </tr>\n",
       "  </tbody>\n",
       "</table>\n",
       "</div>"
      ],
      "text/plain": [
       "         Date          Open          High           Low         Close  \\\n",
       "0  2021-02-01  33114.578125  34638.214844  32384.228516  33537.175781   \n",
       "1  2021-02-02  33533.199219  35896.882813  33489.218750  35510.289063   \n",
       "2  2021-02-03  35510.820313  37480.187500  35443.984375  37472.089844   \n",
       "3  2021-02-04  37475.105469  38592.175781  36317.500000  36926.066406   \n",
       "4  2021-02-05  36931.546875  38225.906250  36658.761719  38144.308594   \n",
       "\n",
       "      Adj Close       Volume  \n",
       "0  33537.175781  61400400660  \n",
       "1  35510.289063  63088585433  \n",
       "2  37472.089844  61166818159  \n",
       "3  36926.066406  68838074392  \n",
       "4  38144.308594  58598066402  "
      ]
     },
     "execution_count": 18,
     "metadata": {},
     "output_type": "execute_result"
    }
   ],
   "source": [
    "# loading in bitcoin price data from feb 2021 to aug 2021\n",
    "btc_price = pd.read_csv('data/BTC-USD.csv')\n",
    "btc_price.head()"
   ]
  },
  {
   "cell_type": "code",
   "execution_count": 17,
   "id": "3bb3670f",
   "metadata": {
    "ExecuteTime": {
     "end_time": "2022-12-12T17:36:09.814623Z",
     "start_time": "2022-12-12T17:36:09.799698Z"
    }
   },
   "outputs": [
    {
     "name": "stdout",
     "output_type": "stream",
     "text": [
      "<class 'pandas.core.frame.DataFrame'>\n",
      "RangeIndex: 212 entries, 0 to 211\n",
      "Data columns (total 7 columns):\n",
      " #   Column     Non-Null Count  Dtype  \n",
      "---  ------     --------------  -----  \n",
      " 0   Date       212 non-null    object \n",
      " 1   Open       212 non-null    float64\n",
      " 2   High       212 non-null    float64\n",
      " 3   Low        212 non-null    float64\n",
      " 4   Close      212 non-null    float64\n",
      " 5   Adj Close  212 non-null    float64\n",
      " 6   Volume     212 non-null    int64  \n",
      "dtypes: float64(5), int64(1), object(1)\n",
      "memory usage: 11.7+ KB\n"
     ]
    }
   ],
   "source": [
    "btc_price.info()"
   ]
  },
  {
   "cell_type": "markdown",
   "id": "79b4d97e",
   "metadata": {},
   "source": [
    "#### Cleaning Data"
   ]
  },
  {
   "cell_type": "code",
   "execution_count": 7,
   "id": "cd43bf07",
   "metadata": {
    "ExecuteTime": {
     "end_time": "2022-12-12T17:34:46.202536Z",
     "start_time": "2022-12-12T17:34:46.018691Z"
    }
   },
   "outputs": [],
   "source": [
    "# remove columns we don't need\n",
    "data = data.drop(columns=['user_created', 'cleanText', 'user_location', \n",
    "                          'user_description'])"
   ]
  },
  {
   "cell_type": "code",
   "execution_count": 8,
   "id": "93dd0555",
   "metadata": {
    "ExecuteTime": {
     "end_time": "2022-12-12T17:34:48.410433Z",
     "start_time": "2022-12-12T17:34:47.305168Z"
    }
   },
   "outputs": [
    {
     "name": "stdout",
     "output_type": "stream",
     "text": [
      "(999986, 12)\n"
     ]
    },
    {
     "data": {
      "text/plain": [
       "user_name             19\n",
       "user_followers         0\n",
       "user_friends           0\n",
       "user_favourites        0\n",
       "user_verified          0\n",
       "date                   0\n",
       "text                   0\n",
       "hashtags           16792\n",
       "source              3357\n",
       "is_retweet            43\n",
       "Polarity Score         0\n",
       "sentiment              0\n",
       "dtype: int64"
      ]
     },
     "execution_count": 8,
     "metadata": {},
     "output_type": "execute_result"
    }
   ],
   "source": [
    "# drop rows where date, text or sentiment is NaN\n",
    "data = data.dropna(subset=['text', 'date', 'sentiment'])\n",
    "print(data.shape)\n",
    "data.isna().sum()"
   ]
  },
  {
   "cell_type": "code",
   "execution_count": 9,
   "id": "471036b1",
   "metadata": {
    "ExecuteTime": {
     "end_time": "2022-12-12T17:34:53.377406Z",
     "start_time": "2022-12-12T17:34:50.782948Z"
    }
   },
   "outputs": [
    {
     "ename": "ValueError",
     "evalue": "time data \"['ETH', 'BTC', 'Bitcoin']\" does not match format '%Y-%m-%d %H:%M:%S'",
     "output_type": "error",
     "traceback": [
      "\u001b[0;31m---------------------------------------------------------------------------\u001b[0m",
      "\u001b[0;31mValueError\u001b[0m                                Traceback (most recent call last)",
      "\u001b[0;32m<ipython-input-9-1f5eb927341b>\u001b[0m in \u001b[0;36m<module>\u001b[0;34m\u001b[0m\n\u001b[1;32m      2\u001b[0m \u001b[0;32mimport\u001b[0m \u001b[0mdatetime\u001b[0m\u001b[0;34m\u001b[0m\u001b[0;34m\u001b[0m\u001b[0m\n\u001b[1;32m      3\u001b[0m \u001b[0;34m\u001b[0m\u001b[0m\n\u001b[0;32m----> 4\u001b[0;31m \u001b[0mdata\u001b[0m\u001b[0;34m[\u001b[0m\u001b[0;34m'date'\u001b[0m\u001b[0;34m]\u001b[0m \u001b[0;34m=\u001b[0m \u001b[0;34m[\u001b[0m\u001b[0mdatetime\u001b[0m\u001b[0;34m.\u001b[0m\u001b[0mdatetime\u001b[0m\u001b[0;34m.\u001b[0m\u001b[0mstrptime\u001b[0m\u001b[0;34m(\u001b[0m\u001b[0mdate\u001b[0m\u001b[0;34m,\u001b[0m \u001b[0;34m'%Y-%m-%d %H:%M:%S'\u001b[0m\u001b[0;34m)\u001b[0m \u001b[0;32mfor\u001b[0m \u001b[0mdate\u001b[0m \u001b[0;32min\u001b[0m \u001b[0mdata\u001b[0m\u001b[0;34m[\u001b[0m\u001b[0;34m'date'\u001b[0m\u001b[0;34m]\u001b[0m\u001b[0;34m]\u001b[0m\u001b[0;34m\u001b[0m\u001b[0;34m\u001b[0m\u001b[0m\n\u001b[0m\u001b[1;32m      5\u001b[0m \u001b[0mdata\u001b[0m\u001b[0;34m.\u001b[0m\u001b[0mhead\u001b[0m\u001b[0;34m(\u001b[0m\u001b[0;34m)\u001b[0m\u001b[0;34m\u001b[0m\u001b[0;34m\u001b[0m\u001b[0m\n",
      "\u001b[0;32m<ipython-input-9-1f5eb927341b>\u001b[0m in \u001b[0;36m<listcomp>\u001b[0;34m(.0)\u001b[0m\n\u001b[1;32m      2\u001b[0m \u001b[0;32mimport\u001b[0m \u001b[0mdatetime\u001b[0m\u001b[0;34m\u001b[0m\u001b[0;34m\u001b[0m\u001b[0m\n\u001b[1;32m      3\u001b[0m \u001b[0;34m\u001b[0m\u001b[0m\n\u001b[0;32m----> 4\u001b[0;31m \u001b[0mdata\u001b[0m\u001b[0;34m[\u001b[0m\u001b[0;34m'date'\u001b[0m\u001b[0;34m]\u001b[0m \u001b[0;34m=\u001b[0m \u001b[0;34m[\u001b[0m\u001b[0mdatetime\u001b[0m\u001b[0;34m.\u001b[0m\u001b[0mdatetime\u001b[0m\u001b[0;34m.\u001b[0m\u001b[0mstrptime\u001b[0m\u001b[0;34m(\u001b[0m\u001b[0mdate\u001b[0m\u001b[0;34m,\u001b[0m \u001b[0;34m'%Y-%m-%d %H:%M:%S'\u001b[0m\u001b[0;34m)\u001b[0m \u001b[0;32mfor\u001b[0m \u001b[0mdate\u001b[0m \u001b[0;32min\u001b[0m \u001b[0mdata\u001b[0m\u001b[0;34m[\u001b[0m\u001b[0;34m'date'\u001b[0m\u001b[0;34m]\u001b[0m\u001b[0;34m]\u001b[0m\u001b[0;34m\u001b[0m\u001b[0;34m\u001b[0m\u001b[0m\n\u001b[0m\u001b[1;32m      5\u001b[0m \u001b[0mdata\u001b[0m\u001b[0;34m.\u001b[0m\u001b[0mhead\u001b[0m\u001b[0;34m(\u001b[0m\u001b[0;34m)\u001b[0m\u001b[0;34m\u001b[0m\u001b[0;34m\u001b[0m\u001b[0m\n",
      "\u001b[0;32m~/opt/anaconda3/envs/learn-env/lib/python3.8/_strptime.py\u001b[0m in \u001b[0;36m_strptime_datetime\u001b[0;34m(cls, data_string, format)\u001b[0m\n\u001b[1;32m    566\u001b[0m     \"\"\"Return a class cls instance based on the input string and the\n\u001b[1;32m    567\u001b[0m     format string.\"\"\"\n\u001b[0;32m--> 568\u001b[0;31m     \u001b[0mtt\u001b[0m\u001b[0;34m,\u001b[0m \u001b[0mfraction\u001b[0m\u001b[0;34m,\u001b[0m \u001b[0mgmtoff_fraction\u001b[0m \u001b[0;34m=\u001b[0m \u001b[0m_strptime\u001b[0m\u001b[0;34m(\u001b[0m\u001b[0mdata_string\u001b[0m\u001b[0;34m,\u001b[0m \u001b[0mformat\u001b[0m\u001b[0;34m)\u001b[0m\u001b[0;34m\u001b[0m\u001b[0;34m\u001b[0m\u001b[0m\n\u001b[0m\u001b[1;32m    569\u001b[0m     \u001b[0mtzname\u001b[0m\u001b[0;34m,\u001b[0m \u001b[0mgmtoff\u001b[0m \u001b[0;34m=\u001b[0m \u001b[0mtt\u001b[0m\u001b[0;34m[\u001b[0m\u001b[0;34m-\u001b[0m\u001b[0;36m2\u001b[0m\u001b[0;34m:\u001b[0m\u001b[0;34m]\u001b[0m\u001b[0;34m\u001b[0m\u001b[0;34m\u001b[0m\u001b[0m\n\u001b[1;32m    570\u001b[0m     \u001b[0margs\u001b[0m \u001b[0;34m=\u001b[0m \u001b[0mtt\u001b[0m\u001b[0;34m[\u001b[0m\u001b[0;34m:\u001b[0m\u001b[0;36m6\u001b[0m\u001b[0;34m]\u001b[0m \u001b[0;34m+\u001b[0m \u001b[0;34m(\u001b[0m\u001b[0mfraction\u001b[0m\u001b[0;34m,\u001b[0m\u001b[0;34m)\u001b[0m\u001b[0;34m\u001b[0m\u001b[0;34m\u001b[0m\u001b[0m\n",
      "\u001b[0;32m~/opt/anaconda3/envs/learn-env/lib/python3.8/_strptime.py\u001b[0m in \u001b[0;36m_strptime\u001b[0;34m(data_string, format)\u001b[0m\n\u001b[1;32m    347\u001b[0m     \u001b[0mfound\u001b[0m \u001b[0;34m=\u001b[0m \u001b[0mformat_regex\u001b[0m\u001b[0;34m.\u001b[0m\u001b[0mmatch\u001b[0m\u001b[0;34m(\u001b[0m\u001b[0mdata_string\u001b[0m\u001b[0;34m)\u001b[0m\u001b[0;34m\u001b[0m\u001b[0;34m\u001b[0m\u001b[0m\n\u001b[1;32m    348\u001b[0m     \u001b[0;32mif\u001b[0m \u001b[0;32mnot\u001b[0m \u001b[0mfound\u001b[0m\u001b[0;34m:\u001b[0m\u001b[0;34m\u001b[0m\u001b[0;34m\u001b[0m\u001b[0m\n\u001b[0;32m--> 349\u001b[0;31m         raise ValueError(\"time data %r does not match format %r\" %\n\u001b[0m\u001b[1;32m    350\u001b[0m                          (data_string, format))\n\u001b[1;32m    351\u001b[0m     \u001b[0;32mif\u001b[0m \u001b[0mlen\u001b[0m\u001b[0;34m(\u001b[0m\u001b[0mdata_string\u001b[0m\u001b[0;34m)\u001b[0m \u001b[0;34m!=\u001b[0m \u001b[0mfound\u001b[0m\u001b[0;34m.\u001b[0m\u001b[0mend\u001b[0m\u001b[0;34m(\u001b[0m\u001b[0;34m)\u001b[0m\u001b[0;34m:\u001b[0m\u001b[0;34m\u001b[0m\u001b[0;34m\u001b[0m\u001b[0m\n",
      "\u001b[0;31mValueError\u001b[0m: time data \"['ETH', 'BTC', 'Bitcoin']\" does not match format '%Y-%m-%d %H:%M:%S'"
     ]
    }
   ],
   "source": [
    "# date column needs to be transformed to proper format - the below code\n",
    "# results in error given there is text in some of the dates\n",
    "\n",
    "#data['date'] = [datetime.datetime.strptime(date, '%Y-%m-%d %H:%M:%S') for date in data['date']]\n",
    "#data.head()"
   ]
  },
  {
   "cell_type": "code",
   "execution_count": 10,
   "id": "db2fe324",
   "metadata": {
    "ExecuteTime": {
     "end_time": "2022-12-12T17:35:02.108696Z",
     "start_time": "2022-12-12T17:35:01.160861Z"
    }
   },
   "outputs": [
    {
     "data": {
      "text/html": [
       "<div>\n",
       "<style scoped>\n",
       "    .dataframe tbody tr th:only-of-type {\n",
       "        vertical-align: middle;\n",
       "    }\n",
       "\n",
       "    .dataframe tbody tr th {\n",
       "        vertical-align: top;\n",
       "    }\n",
       "\n",
       "    .dataframe thead th {\n",
       "        text-align: right;\n",
       "    }\n",
       "</style>\n",
       "<table border=\"1\" class=\"dataframe\">\n",
       "  <thead>\n",
       "    <tr style=\"text-align: right;\">\n",
       "      <th></th>\n",
       "      <th>user_name</th>\n",
       "      <th>user_followers</th>\n",
       "      <th>user_friends</th>\n",
       "      <th>user_favourites</th>\n",
       "      <th>user_verified</th>\n",
       "      <th>date</th>\n",
       "      <th>text</th>\n",
       "      <th>hashtags</th>\n",
       "      <th>source</th>\n",
       "      <th>is_retweet</th>\n",
       "      <th>Polarity Score</th>\n",
       "      <th>sentiment</th>\n",
       "    </tr>\n",
       "  </thead>\n",
       "  <tbody>\n",
       "    <tr>\n",
       "      <th>64943</th>\n",
       "      <td>Can roam the worldï¼It's nine to five againáµ...</td>\n",
       "      <td>36</td>\n",
       "      <td>False</td>\n",
       "      <td>2021-04-07 16:23:03</td>\n",
       "      <td>@krakenfx  #ETH #BTC  If you want to become po...</td>\n",
       "      <td>['ETH', 'BTC', 'Bitcoin']</td>\n",
       "      <td>Twitter Web App</td>\n",
       "      <td>False</td>\n",
       "      <td>NaN</td>\n",
       "      <td>NaN</td>\n",
       "      <td>0.0</td>\n",
       "      <td>0.0</td>\n",
       "    </tr>\n",
       "    <tr>\n",
       "      <th>137068</th>\n",
       "      <td>*Muhammad Yasir* hello stalker nice to tweet ...</td>\n",
       "      <td>499</td>\n",
       "      <td>False</td>\n",
       "      <td>2021-06-23 14:51:12</td>\n",
       "      <td>Official ESHOP Airdrop. If You Missed Meme Tok...</td>\n",
       "      <td>['cryptocurrency', 'BSC', 'Bitcoin', 'Ethereum...</td>\n",
       "      <td>Twitter for Android</td>\n",
       "      <td>False</td>\n",
       "      <td>NaN</td>\n",
       "      <td>NaN</td>\n",
       "      <td>0.0</td>\n",
       "      <td>0.0</td>\n",
       "    </tr>\n",
       "    <tr>\n",
       "      <th>180575</th>\n",
       "      <td>â¢ Learn n To Do d'Best...!!!!!!!!</td>\n",
       "      <td>127</td>\n",
       "      <td>False</td>\n",
       "      <td>2021-06-22 13:31:16</td>\n",
       "      <td>@pufferswap Nice project\\n\\n@karnoto_hendrik \\...</td>\n",
       "      <td>['YieldFarming', 'Airdrop', 'Binance', 'Bitcoi...</td>\n",
       "      <td>Twitter Web App</td>\n",
       "      <td>False</td>\n",
       "      <td>NaN</td>\n",
       "      <td>NaN</td>\n",
       "      <td>0.0</td>\n",
       "      <td>0.0</td>\n",
       "    </tr>\n",
       "    <tr>\n",
       "      <th>693194</th>\n",
       "      <td>FB- Xiomara CastaÃ±eda</td>\n",
       "      <td>531</td>\n",
       "      <td>False</td>\n",
       "      <td>2021-07-26 11:54:15</td>\n",
       "      <td>#btc to the moon ðð 77774</td>\n",
       "      <td>['btc']</td>\n",
       "      <td>Twitter Web App</td>\n",
       "      <td>False</td>\n",
       "      <td>NaN</td>\n",
       "      <td>NaN</td>\n",
       "      <td>0.0</td>\n",
       "      <td>0.0</td>\n",
       "    </tr>\n",
       "    <tr>\n",
       "      <th>697397</th>\n",
       "      <td>Pin bb : 26ea62f8 . Line : baliratih_bali</td>\n",
       "      <td>21</td>\n",
       "      <td>False</td>\n",
       "      <td>2021-07-26 11:48:46</td>\n",
       "      <td>#btc to the moon ðð 46059</td>\n",
       "      <td>['btc']</td>\n",
       "      <td>Twitter Web App</td>\n",
       "      <td>False</td>\n",
       "      <td>NaN</td>\n",
       "      <td>NaN</td>\n",
       "      <td>0.0</td>\n",
       "      <td>0.0</td>\n",
       "    </tr>\n",
       "  </tbody>\n",
       "</table>\n",
       "</div>"
      ],
      "text/plain": [
       "                                                user_name user_followers  \\\n",
       "64943   Can roam the worldï¼It's nine to five againáµ...             36   \n",
       "137068   *Muhammad Yasir* hello stalker nice to tweet ...            499   \n",
       "180575                â¢ Learn n To Do d'Best...!!!!!!!!            127   \n",
       "693194                             FB- Xiomara CastaÃ±eda            531   \n",
       "697397          Pin bb : 26ea62f8 . Line : baliratih_bali             21   \n",
       "\n",
       "       user_friends      user_favourites  \\\n",
       "64943         False  2021-04-07 16:23:03   \n",
       "137068        False  2021-06-23 14:51:12   \n",
       "180575        False  2021-06-22 13:31:16   \n",
       "693194        False  2021-07-26 11:54:15   \n",
       "697397        False  2021-07-26 11:48:46   \n",
       "\n",
       "                                            user_verified  \\\n",
       "64943   @krakenfx  #ETH #BTC  If you want to become po...   \n",
       "137068  Official ESHOP Airdrop. If You Missed Meme Tok...   \n",
       "180575  @pufferswap Nice project\\n\\n@karnoto_hendrik \\...   \n",
       "693194                    #btc to the moon ðð 77774   \n",
       "697397                    #btc to the moon ðð 46059   \n",
       "\n",
       "                                                     date  \\\n",
       "64943                           ['ETH', 'BTC', 'Bitcoin']   \n",
       "137068  ['cryptocurrency', 'BSC', 'Bitcoin', 'Ethereum...   \n",
       "180575  ['YieldFarming', 'Airdrop', 'Binance', 'Bitcoi...   \n",
       "693194                                            ['btc']   \n",
       "697397                                            ['btc']   \n",
       "\n",
       "                       text hashtags source is_retweet  Polarity Score  \\\n",
       "64943       Twitter Web App    False    NaN        NaN             0.0   \n",
       "137068  Twitter for Android    False    NaN        NaN             0.0   \n",
       "180575      Twitter Web App    False    NaN        NaN             0.0   \n",
       "693194      Twitter Web App    False    NaN        NaN             0.0   \n",
       "697397      Twitter Web App    False    NaN        NaN             0.0   \n",
       "\n",
       "        sentiment  \n",
       "64943         0.0  \n",
       "137068        0.0  \n",
       "180575        0.0  \n",
       "693194        0.0  \n",
       "697397        0.0  "
      ]
     },
     "metadata": {},
     "output_type": "display_data"
    },
    {
     "data": {
      "text/html": [
       "<div>\n",
       "<style scoped>\n",
       "    .dataframe tbody tr th:only-of-type {\n",
       "        vertical-align: middle;\n",
       "    }\n",
       "\n",
       "    .dataframe tbody tr th {\n",
       "        vertical-align: top;\n",
       "    }\n",
       "\n",
       "    .dataframe thead th {\n",
       "        text-align: right;\n",
       "    }\n",
       "</style>\n",
       "<table border=\"1\" class=\"dataframe\">\n",
       "  <thead>\n",
       "    <tr style=\"text-align: right;\">\n",
       "      <th></th>\n",
       "      <th>user_name</th>\n",
       "      <th>user_followers</th>\n",
       "      <th>user_friends</th>\n",
       "      <th>user_favourites</th>\n",
       "      <th>user_verified</th>\n",
       "      <th>date</th>\n",
       "      <th>text</th>\n",
       "      <th>hashtags</th>\n",
       "      <th>source</th>\n",
       "      <th>is_retweet</th>\n",
       "      <th>Polarity Score</th>\n",
       "      <th>sentiment</th>\n",
       "    </tr>\n",
       "  </thead>\n",
       "  <tbody>\n",
       "    <tr>\n",
       "      <th>64943</th>\n",
       "      <td>Can roam the worldï¼It's nine to five againáµ...</td>\n",
       "      <td>36</td>\n",
       "      <td>False</td>\n",
       "      <td>2021-04-07 16:23:03</td>\n",
       "      <td>@krakenfx  #ETH #BTC  If you want to become po...</td>\n",
       "      <td>['ETH', 'BTC', 'Bitcoin']</td>\n",
       "      <td>Twitter Web App</td>\n",
       "      <td>False</td>\n",
       "      <td>NaN</td>\n",
       "      <td>NaN</td>\n",
       "      <td>0.000000</td>\n",
       "      <td>0.0</td>\n",
       "    </tr>\n",
       "    <tr>\n",
       "      <th>137068</th>\n",
       "      <td>*Muhammad Yasir* hello stalker nice to tweet ...</td>\n",
       "      <td>499</td>\n",
       "      <td>False</td>\n",
       "      <td>2021-06-23 14:51:12</td>\n",
       "      <td>Official ESHOP Airdrop. If You Missed Meme Tok...</td>\n",
       "      <td>['cryptocurrency', 'BSC', 'Bitcoin', 'Ethereum...</td>\n",
       "      <td>Twitter for Android</td>\n",
       "      <td>False</td>\n",
       "      <td>NaN</td>\n",
       "      <td>NaN</td>\n",
       "      <td>0.000000</td>\n",
       "      <td>0.0</td>\n",
       "    </tr>\n",
       "    <tr>\n",
       "      <th>180575</th>\n",
       "      <td>â¢ Learn n To Do d'Best...!!!!!!!!</td>\n",
       "      <td>127</td>\n",
       "      <td>False</td>\n",
       "      <td>2021-06-22 13:31:16</td>\n",
       "      <td>@pufferswap Nice project\\n\\n@karnoto_hendrik \\...</td>\n",
       "      <td>['YieldFarming', 'Airdrop', 'Binance', 'Bitcoi...</td>\n",
       "      <td>Twitter Web App</td>\n",
       "      <td>False</td>\n",
       "      <td>NaN</td>\n",
       "      <td>NaN</td>\n",
       "      <td>0.000000</td>\n",
       "      <td>0.0</td>\n",
       "    </tr>\n",
       "    <tr>\n",
       "      <th>228487</th>\n",
       "      <td>DayTradeIdeas</td>\n",
       "      <td>9190</td>\n",
       "      <td>287</td>\n",
       "      <td>2229</td>\n",
       "      <td>False</td>\n",
       "      <td>2021-06-21 12:17:24</td>\n",
       "      <td>#Bitcoin topped exactly at 1st resistance at 3...</td>\n",
       "      <td>NaN</td>\n",
       "      <td>NaN</td>\n",
       "      <td>NaN</td>\n",
       "      <td>0.250000</td>\n",
       "      <td>1.0</td>\n",
       "    </tr>\n",
       "    <tr>\n",
       "      <th>240490</th>\n",
       "      <td>DayTradeIdeas</td>\n",
       "      <td>9191</td>\n",
       "      <td>287</td>\n",
       "      <td>2229</td>\n",
       "      <td>False</td>\n",
       "      <td>2021-06-21 05:19:28</td>\n",
       "      <td>#Bitcoin holding 1st resistance at 36700/37700...</td>\n",
       "      <td>NaN</td>\n",
       "      <td>NaN</td>\n",
       "      <td>NaN</td>\n",
       "      <td>0.000000</td>\n",
       "      <td>0.0</td>\n",
       "    </tr>\n",
       "    <tr>\n",
       "      <th>316615</th>\n",
       "      <td>Millionaire Box</td>\n",
       "      <td>225</td>\n",
       "      <td>158</td>\n",
       "      <td>229</td>\n",
       "      <td>False</td>\n",
       "      <td>2021-07-03 12:55:52</td>\n",
       "      <td>Get Paid For Your Opinions! Real Survey Jobs -...</td>\n",
       "      <td>NaN</td>\n",
       "      <td>NaN</td>\n",
       "      <td>NaN</td>\n",
       "      <td>0.200000</td>\n",
       "      <td>1.0</td>\n",
       "    </tr>\n",
       "    <tr>\n",
       "      <th>378317</th>\n",
       "      <td>Aldrich Baron</td>\n",
       "      <td>5</td>\n",
       "      <td>12</td>\n",
       "      <td>12</td>\n",
       "      <td>False</td>\n",
       "      <td>2021-07-24 15:45:42</td>\n",
       "      <td>@ShikokuBaby This project looks interesting an...</td>\n",
       "      <td>NaN</td>\n",
       "      <td>NaN</td>\n",
       "      <td>NaN</td>\n",
       "      <td>0.433333</td>\n",
       "      <td>1.0</td>\n",
       "    </tr>\n",
       "    <tr>\n",
       "      <th>398481</th>\n",
       "      <td>Evan</td>\n",
       "      <td>57</td>\n",
       "      <td>331</td>\n",
       "      <td>727</td>\n",
       "      <td>False</td>\n",
       "      <td>2021-07-23 17:38:35</td>\n",
       "      <td>@mindfulbtcboss The best way to predict the fu...</td>\n",
       "      <td>NaN</td>\n",
       "      <td>NaN</td>\n",
       "      <td>NaN</td>\n",
       "      <td>0.500000</td>\n",
       "      <td>1.0</td>\n",
       "    </tr>\n",
       "    <tr>\n",
       "      <th>398693</th>\n",
       "      <td>Evan</td>\n",
       "      <td>57</td>\n",
       "      <td>331</td>\n",
       "      <td>727</td>\n",
       "      <td>False</td>\n",
       "      <td>2021-07-23 17:27:05</td>\n",
       "      <td>@brucefenton @UofNH @UNH_Police @UNHWildcats @...</td>\n",
       "      <td>NaN</td>\n",
       "      <td>NaN</td>\n",
       "      <td>NaN</td>\n",
       "      <td>0.500000</td>\n",
       "      <td>1.0</td>\n",
       "    </tr>\n",
       "    <tr>\n",
       "      <th>398716</th>\n",
       "      <td>Evan</td>\n",
       "      <td>57</td>\n",
       "      <td>331</td>\n",
       "      <td>727</td>\n",
       "      <td>False</td>\n",
       "      <td>2021-07-23 17:25:54</td>\n",
       "      <td>@business The best way to predict the future i...</td>\n",
       "      <td>NaN</td>\n",
       "      <td>NaN</td>\n",
       "      <td>NaN</td>\n",
       "      <td>0.500000</td>\n",
       "      <td>1.0</td>\n",
       "    </tr>\n",
       "    <tr>\n",
       "      <th>398738</th>\n",
       "      <td>Evan</td>\n",
       "      <td>57</td>\n",
       "      <td>331</td>\n",
       "      <td>727</td>\n",
       "      <td>False</td>\n",
       "      <td>2021-07-23 17:24:34</td>\n",
       "      <td>@Bybit_Official The best way to predict the fu...</td>\n",
       "      <td>NaN</td>\n",
       "      <td>NaN</td>\n",
       "      <td>NaN</td>\n",
       "      <td>0.500000</td>\n",
       "      <td>1.0</td>\n",
       "    </tr>\n",
       "    <tr>\n",
       "      <th>398749</th>\n",
       "      <td>Evan</td>\n",
       "      <td>57</td>\n",
       "      <td>331</td>\n",
       "      <td>727</td>\n",
       "      <td>False</td>\n",
       "      <td>2021-07-23 17:23:52</td>\n",
       "      <td>@krakenfx The best way to predict the future i...</td>\n",
       "      <td>NaN</td>\n",
       "      <td>NaN</td>\n",
       "      <td>NaN</td>\n",
       "      <td>0.500000</td>\n",
       "      <td>1.0</td>\n",
       "    </tr>\n",
       "    <tr>\n",
       "      <th>398760</th>\n",
       "      <td>Evan</td>\n",
       "      <td>57</td>\n",
       "      <td>331</td>\n",
       "      <td>727</td>\n",
       "      <td>False</td>\n",
       "      <td>2021-07-23 17:23:06</td>\n",
       "      <td>@Cointelegraph The best way to predict the fut...</td>\n",
       "      <td>NaN</td>\n",
       "      <td>NaN</td>\n",
       "      <td>NaN</td>\n",
       "      <td>0.500000</td>\n",
       "      <td>1.0</td>\n",
       "    </tr>\n",
       "    <tr>\n",
       "      <th>398771</th>\n",
       "      <td>Evan</td>\n",
       "      <td>57</td>\n",
       "      <td>331</td>\n",
       "      <td>727</td>\n",
       "      <td>False</td>\n",
       "      <td>2021-07-23 17:22:35</td>\n",
       "      <td>@GoldTelegraph_ The best way to predict the fu...</td>\n",
       "      <td>NaN</td>\n",
       "      <td>NaN</td>\n",
       "      <td>NaN</td>\n",
       "      <td>0.500000</td>\n",
       "      <td>1.0</td>\n",
       "    </tr>\n",
       "    <tr>\n",
       "      <th>398784</th>\n",
       "      <td>Evan</td>\n",
       "      <td>57</td>\n",
       "      <td>331</td>\n",
       "      <td>727</td>\n",
       "      <td>False</td>\n",
       "      <td>2021-07-23 17:21:37</td>\n",
       "      <td>@RadioCacaNFT The best way to predict the futu...</td>\n",
       "      <td>NaN</td>\n",
       "      <td>NaN</td>\n",
       "      <td>NaN</td>\n",
       "      <td>0.500000</td>\n",
       "      <td>1.0</td>\n",
       "    </tr>\n",
       "    <tr>\n",
       "      <th>419332</th>\n",
       "      <td>Adi Gualterio</td>\n",
       "      <td>8</td>\n",
       "      <td>10</td>\n",
       "      <td>12</td>\n",
       "      <td>False</td>\n",
       "      <td>2021-07-22 21:21:29</td>\n",
       "      <td>@ShikokuBaby @PancakeSwap This project has str...</td>\n",
       "      <td>NaN</td>\n",
       "      <td>NaN</td>\n",
       "      <td>NaN</td>\n",
       "      <td>-0.033333</td>\n",
       "      <td>0.0</td>\n",
       "    </tr>\n",
       "    <tr>\n",
       "      <th>580682</th>\n",
       "      <td>topstonks</td>\n",
       "      <td>2094</td>\n",
       "      <td>1194</td>\n",
       "      <td>150</td>\n",
       "      <td>False</td>\n",
       "      <td>2021-07-24 16:52:50</td>\n",
       "      <td>$BTC seeing sustained chatter on 4chan over th...</td>\n",
       "      <td>NaN</td>\n",
       "      <td>NaN</td>\n",
       "      <td>NaN</td>\n",
       "      <td>0.000000</td>\n",
       "      <td>0.0</td>\n",
       "    </tr>\n",
       "    <tr>\n",
       "      <th>583965</th>\n",
       "      <td>topstonks</td>\n",
       "      <td>2094</td>\n",
       "      <td>1194</td>\n",
       "      <td>150</td>\n",
       "      <td>False</td>\n",
       "      <td>2021-07-24 09:11:43</td>\n",
       "      <td>$BTC seeing sustained chatter on twitch over t...</td>\n",
       "      <td>NaN</td>\n",
       "      <td>NaN</td>\n",
       "      <td>NaN</td>\n",
       "      <td>0.000000</td>\n",
       "      <td>0.0</td>\n",
       "    </tr>\n",
       "    <tr>\n",
       "      <th>588624</th>\n",
       "      <td>topstonks</td>\n",
       "      <td>2094</td>\n",
       "      <td>1194</td>\n",
       "      <td>150</td>\n",
       "      <td>False</td>\n",
       "      <td>2021-07-23 20:30:43</td>\n",
       "      <td>$BTC working it's way into the top 10 most men...</td>\n",
       "      <td>NaN</td>\n",
       "      <td>NaN</td>\n",
       "      <td>NaN</td>\n",
       "      <td>0.250000</td>\n",
       "      <td>1.0</td>\n",
       "    </tr>\n",
       "    <tr>\n",
       "      <th>594259</th>\n",
       "      <td>topstonks</td>\n",
       "      <td>2094</td>\n",
       "      <td>1194</td>\n",
       "      <td>150</td>\n",
       "      <td>False</td>\n",
       "      <td>2021-07-23 08:59:20</td>\n",
       "      <td>$BTC seeing an uptick in chatter on 4chan over...</td>\n",
       "      <td>NaN</td>\n",
       "      <td>NaN</td>\n",
       "      <td>NaN</td>\n",
       "      <td>0.000000</td>\n",
       "      <td>0.0</td>\n",
       "    </tr>\n",
       "    <tr>\n",
       "      <th>622716</th>\n",
       "      <td>topstonks</td>\n",
       "      <td>2132</td>\n",
       "      <td>1193</td>\n",
       "      <td>150</td>\n",
       "      <td>False</td>\n",
       "      <td>2021-07-30 21:44:59</td>\n",
       "      <td>$BTC seeing an uptick in chatter on twitch ove...</td>\n",
       "      <td>NaN</td>\n",
       "      <td>NaN</td>\n",
       "      <td>NaN</td>\n",
       "      <td>0.000000</td>\n",
       "      <td>0.0</td>\n",
       "    </tr>\n",
       "    <tr>\n",
       "      <th>630083</th>\n",
       "      <td>topstonks</td>\n",
       "      <td>2131</td>\n",
       "      <td>1193</td>\n",
       "      <td>150</td>\n",
       "      <td>False</td>\n",
       "      <td>2021-07-30 07:23:35</td>\n",
       "      <td>$BTC one of the most mentioned on 4chan over t...</td>\n",
       "      <td>NaN</td>\n",
       "      <td>NaN</td>\n",
       "      <td>NaN</td>\n",
       "      <td>0.000000</td>\n",
       "      <td>0.0</td>\n",
       "    </tr>\n",
       "    <tr>\n",
       "      <th>633045</th>\n",
       "      <td>topstonks</td>\n",
       "      <td>2131</td>\n",
       "      <td>1193</td>\n",
       "      <td>150</td>\n",
       "      <td>False</td>\n",
       "      <td>2021-07-30 00:02:51</td>\n",
       "      <td>$BTC one of the most mentioned on twitch over ...</td>\n",
       "      <td>NaN</td>\n",
       "      <td>NaN</td>\n",
       "      <td>NaN</td>\n",
       "      <td>0.000000</td>\n",
       "      <td>0.0</td>\n",
       "    </tr>\n",
       "    <tr>\n",
       "      <th>635741</th>\n",
       "      <td>topstonks</td>\n",
       "      <td>2131</td>\n",
       "      <td>1193</td>\n",
       "      <td>150</td>\n",
       "      <td>False</td>\n",
       "      <td>2021-07-29 19:22:24</td>\n",
       "      <td>$BTC working it's way into the top 10 most men...</td>\n",
       "      <td>NaN</td>\n",
       "      <td>NaN</td>\n",
       "      <td>NaN</td>\n",
       "      <td>0.250000</td>\n",
       "      <td>1.0</td>\n",
       "    </tr>\n",
       "    <tr>\n",
       "      <th>636724</th>\n",
       "      <td>topstonks</td>\n",
       "      <td>2131</td>\n",
       "      <td>1193</td>\n",
       "      <td>150</td>\n",
       "      <td>False</td>\n",
       "      <td>2021-07-29 18:02:21</td>\n",
       "      <td>$BTC was the 1st most mentioned on twitch over...</td>\n",
       "      <td>NaN</td>\n",
       "      <td>NaN</td>\n",
       "      <td>NaN</td>\n",
       "      <td>0.000000</td>\n",
       "      <td>0.0</td>\n",
       "    </tr>\n",
       "    <tr>\n",
       "      <th>643994</th>\n",
       "      <td>topstonks</td>\n",
       "      <td>2131</td>\n",
       "      <td>1193</td>\n",
       "      <td>150</td>\n",
       "      <td>False</td>\n",
       "      <td>2021-07-29 10:21:48</td>\n",
       "      <td>$BTC was the 1st most mentioned on 4chan over ...</td>\n",
       "      <td>NaN</td>\n",
       "      <td>NaN</td>\n",
       "      <td>NaN</td>\n",
       "      <td>0.000000</td>\n",
       "      <td>0.0</td>\n",
       "    </tr>\n",
       "    <tr>\n",
       "      <th>651480</th>\n",
       "      <td>topstonks</td>\n",
       "      <td>2131</td>\n",
       "      <td>1193</td>\n",
       "      <td>150</td>\n",
       "      <td>False</td>\n",
       "      <td>2021-07-29 00:31:09</td>\n",
       "      <td>$BTC was the 1st most mentioned on twitch over...</td>\n",
       "      <td>NaN</td>\n",
       "      <td>NaN</td>\n",
       "      <td>NaN</td>\n",
       "      <td>0.000000</td>\n",
       "      <td>0.0</td>\n",
       "    </tr>\n",
       "    <tr>\n",
       "      <th>651777</th>\n",
       "      <td>Teddy wood</td>\n",
       "      <td>20</td>\n",
       "      <td>12</td>\n",
       "      <td>5</td>\n",
       "      <td>False</td>\n",
       "      <td>2021-07-28 23:58:26</td>\n",
       "      <td>@PupDoge7 it has all the ingredients of being ...</td>\n",
       "      <td>NaN</td>\n",
       "      <td>NaN</td>\n",
       "      <td>NaN</td>\n",
       "      <td>0.750000</td>\n",
       "      <td>1.0</td>\n",
       "    </tr>\n",
       "    <tr>\n",
       "      <th>677577</th>\n",
       "      <td>topstonks</td>\n",
       "      <td>2132</td>\n",
       "      <td>1193</td>\n",
       "      <td>150</td>\n",
       "      <td>False</td>\n",
       "      <td>2021-07-27 07:37:38</td>\n",
       "      <td>$BTC one of the most mentioned on twitch over ...</td>\n",
       "      <td>NaN</td>\n",
       "      <td>NaN</td>\n",
       "      <td>NaN</td>\n",
       "      <td>0.000000</td>\n",
       "      <td>0.0</td>\n",
       "    </tr>\n",
       "    <tr>\n",
       "      <th>678707</th>\n",
       "      <td>topstonks</td>\n",
       "      <td>2132</td>\n",
       "      <td>1193</td>\n",
       "      <td>150</td>\n",
       "      <td>False</td>\n",
       "      <td>2021-07-27 05:17:07</td>\n",
       "      <td>$BTC working it's way into the top 10 most men...</td>\n",
       "      <td>NaN</td>\n",
       "      <td>NaN</td>\n",
       "      <td>NaN</td>\n",
       "      <td>0.250000</td>\n",
       "      <td>1.0</td>\n",
       "    </tr>\n",
       "    <tr>\n",
       "      <th>679901</th>\n",
       "      <td>topstonks</td>\n",
       "      <td>2132</td>\n",
       "      <td>1193</td>\n",
       "      <td>150</td>\n",
       "      <td>False</td>\n",
       "      <td>2021-07-27 02:47:04</td>\n",
       "      <td>$BTC working it's way into the top 10 most men...</td>\n",
       "      <td>NaN</td>\n",
       "      <td>NaN</td>\n",
       "      <td>NaN</td>\n",
       "      <td>0.250000</td>\n",
       "      <td>1.0</td>\n",
       "    </tr>\n",
       "    <tr>\n",
       "      <th>683604</th>\n",
       "      <td>topstonks</td>\n",
       "      <td>2132</td>\n",
       "      <td>1193</td>\n",
       "      <td>150</td>\n",
       "      <td>False</td>\n",
       "      <td>2021-07-26 20:26:18</td>\n",
       "      <td>$BTC was the 1st most mentioned on 4chan over ...</td>\n",
       "      <td>NaN</td>\n",
       "      <td>NaN</td>\n",
       "      <td>NaN</td>\n",
       "      <td>0.000000</td>\n",
       "      <td>0.0</td>\n",
       "    </tr>\n",
       "    <tr>\n",
       "      <th>693194</th>\n",
       "      <td>FB- Xiomara CastaÃ±eda</td>\n",
       "      <td>531</td>\n",
       "      <td>False</td>\n",
       "      <td>2021-07-26 11:54:15</td>\n",
       "      <td>#btc to the moon ðð 77774</td>\n",
       "      <td>['btc']</td>\n",
       "      <td>Twitter Web App</td>\n",
       "      <td>False</td>\n",
       "      <td>NaN</td>\n",
       "      <td>NaN</td>\n",
       "      <td>0.000000</td>\n",
       "      <td>0.0</td>\n",
       "    </tr>\n",
       "    <tr>\n",
       "      <th>697397</th>\n",
       "      <td>Pin bb : 26ea62f8 . Line : baliratih_bali</td>\n",
       "      <td>21</td>\n",
       "      <td>False</td>\n",
       "      <td>2021-07-26 11:48:46</td>\n",
       "      <td>#btc to the moon ðð 46059</td>\n",
       "      <td>['btc']</td>\n",
       "      <td>Twitter Web App</td>\n",
       "      <td>False</td>\n",
       "      <td>NaN</td>\n",
       "      <td>NaN</td>\n",
       "      <td>0.000000</td>\n",
       "      <td>0.0</td>\n",
       "    </tr>\n",
       "    <tr>\n",
       "      <th>703630</th>\n",
       "      <td>SynchroBitâ¢ Hybrid Exchange</td>\n",
       "      <td>11107</td>\n",
       "      <td>19</td>\n",
       "      <td>226</td>\n",
       "      <td>False</td>\n",
       "      <td>2021-07-26 04:41:34</td>\n",
       "      <td>Trade #Matic (#MATIC) At Best Rates on @synchr...</td>\n",
       "      <td>NaN</td>\n",
       "      <td>NaN</td>\n",
       "      <td>NaN</td>\n",
       "      <td>1.000000</td>\n",
       "      <td>1.0</td>\n",
       "    </tr>\n",
       "    <tr>\n",
       "      <th>718123</th>\n",
       "      <td>Aldrich Baron</td>\n",
       "      <td>6</td>\n",
       "      <td>19</td>\n",
       "      <td>11</td>\n",
       "      <td>False</td>\n",
       "      <td>2021-07-25 06:25:39</td>\n",
       "      <td>@binance_doge @elonmusk OMG this project it's ...</td>\n",
       "      <td>NaN</td>\n",
       "      <td>NaN</td>\n",
       "      <td>NaN</td>\n",
       "      <td>0.800000</td>\n",
       "      <td>1.0</td>\n",
       "    </tr>\n",
       "    <tr>\n",
       "      <th>737926</th>\n",
       "      <td>Crypto Joe</td>\n",
       "      <td>845</td>\n",
       "      <td>219</td>\n",
       "      <td>239</td>\n",
       "      <td>False</td>\n",
       "      <td>2021-08-09 16:13:14</td>\n",
       "      <td>@IcedKnife Best Cryptocurrency to Invest 2021</td>\n",
       "      <td>NaN</td>\n",
       "      <td>NaN</td>\n",
       "      <td>NaN</td>\n",
       "      <td>1.000000</td>\n",
       "      <td>1.0</td>\n",
       "    </tr>\n",
       "    <tr>\n",
       "      <th>738150</th>\n",
       "      <td>Crypto Joe</td>\n",
       "      <td>845</td>\n",
       "      <td>219</td>\n",
       "      <td>239</td>\n",
       "      <td>False</td>\n",
       "      <td>2021-08-09 16:05:33</td>\n",
       "      <td>Best Cryptocurrency to Invest 2021</td>\n",
       "      <td>NaN</td>\n",
       "      <td>NaN</td>\n",
       "      <td>NaN</td>\n",
       "      <td>1.000000</td>\n",
       "      <td>1.0</td>\n",
       "    </tr>\n",
       "    <tr>\n",
       "      <th>808576</th>\n",
       "      <td>topstonks</td>\n",
       "      <td>2177</td>\n",
       "      <td>1195</td>\n",
       "      <td>149</td>\n",
       "      <td>False</td>\n",
       "      <td>2021-08-07 21:41:58</td>\n",
       "      <td>$BTC was the 3rd most mentioned on 4chan over ...</td>\n",
       "      <td>NaN</td>\n",
       "      <td>NaN</td>\n",
       "      <td>NaN</td>\n",
       "      <td>0.000000</td>\n",
       "      <td>0.0</td>\n",
       "    </tr>\n",
       "    <tr>\n",
       "      <th>813984</th>\n",
       "      <td>topstonks</td>\n",
       "      <td>2177</td>\n",
       "      <td>1195</td>\n",
       "      <td>149</td>\n",
       "      <td>False</td>\n",
       "      <td>2021-08-07 13:01:08</td>\n",
       "      <td>$BTC one of the most mentioned on 4chan over t...</td>\n",
       "      <td>NaN</td>\n",
       "      <td>NaN</td>\n",
       "      <td>NaN</td>\n",
       "      <td>0.000000</td>\n",
       "      <td>0.0</td>\n",
       "    </tr>\n",
       "    <tr>\n",
       "      <th>864616</th>\n",
       "      <td>Millionaire Box</td>\n",
       "      <td>233</td>\n",
       "      <td>158</td>\n",
       "      <td>229</td>\n",
       "      <td>False</td>\n",
       "      <td>2021-08-20 21:51:14</td>\n",
       "      <td>ðµ The Power of Contribution ð Click here...</td>\n",
       "      <td>NaN</td>\n",
       "      <td>NaN</td>\n",
       "      <td>NaN</td>\n",
       "      <td>0.000000</td>\n",
       "      <td>0.0</td>\n",
       "    </tr>\n",
       "    <tr>\n",
       "      <th>870434</th>\n",
       "      <td>Our Tokenomics</td>\n",
       "      <td>313</td>\n",
       "      <td>75</td>\n",
       "      <td>128</td>\n",
       "      <td>False</td>\n",
       "      <td>2021-08-20 17:10:53</td>\n",
       "      <td>Here at Our Tokenomics we educate about crytpo...</td>\n",
       "      <td>NaN</td>\n",
       "      <td>NaN</td>\n",
       "      <td>NaN</td>\n",
       "      <td>0.000000</td>\n",
       "      <td>0.0</td>\n",
       "    </tr>\n",
       "    <tr>\n",
       "      <th>875897</th>\n",
       "      <td>Our Tokenomics</td>\n",
       "      <td>313</td>\n",
       "      <td>75</td>\n",
       "      <td>128</td>\n",
       "      <td>False</td>\n",
       "      <td>2021-08-20 14:04:06</td>\n",
       "      <td>This just in!  The cryptoverse is growing!</td>\n",
       "      <td>NaN</td>\n",
       "      <td>NaN</td>\n",
       "      <td>NaN</td>\n",
       "      <td>0.000000</td>\n",
       "      <td>0.0</td>\n",
       "    </tr>\n",
       "  </tbody>\n",
       "</table>\n",
       "</div>"
      ],
      "text/plain": [
       "                                                user_name user_followers  \\\n",
       "64943   Can roam the worldï¼It's nine to five againáµ...             36   \n",
       "137068   *Muhammad Yasir* hello stalker nice to tweet ...            499   \n",
       "180575                â¢ Learn n To Do d'Best...!!!!!!!!            127   \n",
       "228487                                      DayTradeIdeas           9190   \n",
       "240490                                      DayTradeIdeas           9191   \n",
       "316615                                    Millionaire Box            225   \n",
       "378317                                      Aldrich Baron              5   \n",
       "398481                                               Evan             57   \n",
       "398693                                               Evan             57   \n",
       "398716                                               Evan             57   \n",
       "398738                                               Evan             57   \n",
       "398749                                               Evan             57   \n",
       "398760                                               Evan             57   \n",
       "398771                                               Evan             57   \n",
       "398784                                               Evan             57   \n",
       "419332                                      Adi Gualterio              8   \n",
       "580682                                          topstonks           2094   \n",
       "583965                                          topstonks           2094   \n",
       "588624                                          topstonks           2094   \n",
       "594259                                          topstonks           2094   \n",
       "622716                                          topstonks           2132   \n",
       "630083                                          topstonks           2131   \n",
       "633045                                          topstonks           2131   \n",
       "635741                                          topstonks           2131   \n",
       "636724                                          topstonks           2131   \n",
       "643994                                          topstonks           2131   \n",
       "651480                                          topstonks           2131   \n",
       "651777                                         Teddy wood             20   \n",
       "677577                                          topstonks           2132   \n",
       "678707                                          topstonks           2132   \n",
       "679901                                          topstonks           2132   \n",
       "683604                                          topstonks           2132   \n",
       "693194                             FB- Xiomara CastaÃ±eda            531   \n",
       "697397          Pin bb : 26ea62f8 . Line : baliratih_bali             21   \n",
       "703630                      SynchroBitâ¢ Hybrid Exchange          11107   \n",
       "718123                                      Aldrich Baron              6   \n",
       "737926                                         Crypto Joe            845   \n",
       "738150                                         Crypto Joe            845   \n",
       "808576                                          topstonks           2177   \n",
       "813984                                          topstonks           2177   \n",
       "864616                                    Millionaire Box            233   \n",
       "870434                                     Our Tokenomics            313   \n",
       "875897                                     Our Tokenomics            313   \n",
       "\n",
       "       user_friends      user_favourites  \\\n",
       "64943         False  2021-04-07 16:23:03   \n",
       "137068        False  2021-06-23 14:51:12   \n",
       "180575        False  2021-06-22 13:31:16   \n",
       "228487          287                 2229   \n",
       "240490          287                 2229   \n",
       "316615          158                  229   \n",
       "378317           12                   12   \n",
       "398481          331                  727   \n",
       "398693          331                  727   \n",
       "398716          331                  727   \n",
       "398738          331                  727   \n",
       "398749          331                  727   \n",
       "398760          331                  727   \n",
       "398771          331                  727   \n",
       "398784          331                  727   \n",
       "419332           10                   12   \n",
       "580682         1194                  150   \n",
       "583965         1194                  150   \n",
       "588624         1194                  150   \n",
       "594259         1194                  150   \n",
       "622716         1193                  150   \n",
       "630083         1193                  150   \n",
       "633045         1193                  150   \n",
       "635741         1193                  150   \n",
       "636724         1193                  150   \n",
       "643994         1193                  150   \n",
       "651480         1193                  150   \n",
       "651777           12                    5   \n",
       "677577         1193                  150   \n",
       "678707         1193                  150   \n",
       "679901         1193                  150   \n",
       "683604         1193                  150   \n",
       "693194        False  2021-07-26 11:54:15   \n",
       "697397        False  2021-07-26 11:48:46   \n",
       "703630           19                  226   \n",
       "718123           19                   11   \n",
       "737926          219                  239   \n",
       "738150          219                  239   \n",
       "808576         1195                  149   \n",
       "813984         1195                  149   \n",
       "864616          158                  229   \n",
       "870434           75                  128   \n",
       "875897           75                  128   \n",
       "\n",
       "                                            user_verified  \\\n",
       "64943   @krakenfx  #ETH #BTC  If you want to become po...   \n",
       "137068  Official ESHOP Airdrop. If You Missed Meme Tok...   \n",
       "180575  @pufferswap Nice project\\n\\n@karnoto_hendrik \\...   \n",
       "228487                                              False   \n",
       "240490                                              False   \n",
       "316615                                              False   \n",
       "378317                                              False   \n",
       "398481                                              False   \n",
       "398693                                              False   \n",
       "398716                                              False   \n",
       "398738                                              False   \n",
       "398749                                              False   \n",
       "398760                                              False   \n",
       "398771                                              False   \n",
       "398784                                              False   \n",
       "419332                                              False   \n",
       "580682                                              False   \n",
       "583965                                              False   \n",
       "588624                                              False   \n",
       "594259                                              False   \n",
       "622716                                              False   \n",
       "630083                                              False   \n",
       "633045                                              False   \n",
       "635741                                              False   \n",
       "636724                                              False   \n",
       "643994                                              False   \n",
       "651480                                              False   \n",
       "651777                                              False   \n",
       "677577                                              False   \n",
       "678707                                              False   \n",
       "679901                                              False   \n",
       "683604                                              False   \n",
       "693194                    #btc to the moon ðð 77774   \n",
       "697397                    #btc to the moon ðð 46059   \n",
       "703630                                              False   \n",
       "718123                                              False   \n",
       "737926                                              False   \n",
       "738150                                              False   \n",
       "808576                                              False   \n",
       "813984                                              False   \n",
       "864616                                              False   \n",
       "870434                                              False   \n",
       "875897                                              False   \n",
       "\n",
       "                                                     date  \\\n",
       "64943                           ['ETH', 'BTC', 'Bitcoin']   \n",
       "137068  ['cryptocurrency', 'BSC', 'Bitcoin', 'Ethereum...   \n",
       "180575  ['YieldFarming', 'Airdrop', 'Binance', 'Bitcoi...   \n",
       "228487                                2021-06-21 12:17:24   \n",
       "240490                                2021-06-21 05:19:28   \n",
       "316615                                2021-07-03 12:55:52   \n",
       "378317                                2021-07-24 15:45:42   \n",
       "398481                                2021-07-23 17:38:35   \n",
       "398693                                2021-07-23 17:27:05   \n",
       "398716                                2021-07-23 17:25:54   \n",
       "398738                                2021-07-23 17:24:34   \n",
       "398749                                2021-07-23 17:23:52   \n",
       "398760                                2021-07-23 17:23:06   \n",
       "398771                                2021-07-23 17:22:35   \n",
       "398784                                2021-07-23 17:21:37   \n",
       "419332                                2021-07-22 21:21:29   \n",
       "580682                                2021-07-24 16:52:50   \n",
       "583965                                2021-07-24 09:11:43   \n",
       "588624                                2021-07-23 20:30:43   \n",
       "594259                                2021-07-23 08:59:20   \n",
       "622716                                2021-07-30 21:44:59   \n",
       "630083                                2021-07-30 07:23:35   \n",
       "633045                                2021-07-30 00:02:51   \n",
       "635741                                2021-07-29 19:22:24   \n",
       "636724                                2021-07-29 18:02:21   \n",
       "643994                                2021-07-29 10:21:48   \n",
       "651480                                2021-07-29 00:31:09   \n",
       "651777                                2021-07-28 23:58:26   \n",
       "677577                                2021-07-27 07:37:38   \n",
       "678707                                2021-07-27 05:17:07   \n",
       "679901                                2021-07-27 02:47:04   \n",
       "683604                                2021-07-26 20:26:18   \n",
       "693194                                            ['btc']   \n",
       "697397                                            ['btc']   \n",
       "703630                                2021-07-26 04:41:34   \n",
       "718123                                2021-07-25 06:25:39   \n",
       "737926                                2021-08-09 16:13:14   \n",
       "738150                                2021-08-09 16:05:33   \n",
       "808576                                2021-08-07 21:41:58   \n",
       "813984                                2021-08-07 13:01:08   \n",
       "864616                                2021-08-20 21:51:14   \n",
       "870434                                2021-08-20 17:10:53   \n",
       "875897                                2021-08-20 14:04:06   \n",
       "\n",
       "                                                     text hashtags source  \\\n",
       "64943                                     Twitter Web App    False    NaN   \n",
       "137068                                Twitter for Android    False    NaN   \n",
       "180575                                    Twitter Web App    False    NaN   \n",
       "228487  #Bitcoin topped exactly at 1st resistance at 3...      NaN    NaN   \n",
       "240490  #Bitcoin holding 1st resistance at 36700/37700...      NaN    NaN   \n",
       "316615  Get Paid For Your Opinions! Real Survey Jobs -...      NaN    NaN   \n",
       "378317  @ShikokuBaby This project looks interesting an...      NaN    NaN   \n",
       "398481  @mindfulbtcboss The best way to predict the fu...      NaN    NaN   \n",
       "398693  @brucefenton @UofNH @UNH_Police @UNHWildcats @...      NaN    NaN   \n",
       "398716  @business The best way to predict the future i...      NaN    NaN   \n",
       "398738  @Bybit_Official The best way to predict the fu...      NaN    NaN   \n",
       "398749  @krakenfx The best way to predict the future i...      NaN    NaN   \n",
       "398760  @Cointelegraph The best way to predict the fut...      NaN    NaN   \n",
       "398771  @GoldTelegraph_ The best way to predict the fu...      NaN    NaN   \n",
       "398784  @RadioCacaNFT The best way to predict the futu...      NaN    NaN   \n",
       "419332  @ShikokuBaby @PancakeSwap This project has str...      NaN    NaN   \n",
       "580682  $BTC seeing sustained chatter on 4chan over th...      NaN    NaN   \n",
       "583965  $BTC seeing sustained chatter on twitch over t...      NaN    NaN   \n",
       "588624  $BTC working it's way into the top 10 most men...      NaN    NaN   \n",
       "594259  $BTC seeing an uptick in chatter on 4chan over...      NaN    NaN   \n",
       "622716  $BTC seeing an uptick in chatter on twitch ove...      NaN    NaN   \n",
       "630083  $BTC one of the most mentioned on 4chan over t...      NaN    NaN   \n",
       "633045  $BTC one of the most mentioned on twitch over ...      NaN    NaN   \n",
       "635741  $BTC working it's way into the top 10 most men...      NaN    NaN   \n",
       "636724  $BTC was the 1st most mentioned on twitch over...      NaN    NaN   \n",
       "643994  $BTC was the 1st most mentioned on 4chan over ...      NaN    NaN   \n",
       "651480  $BTC was the 1st most mentioned on twitch over...      NaN    NaN   \n",
       "651777  @PupDoge7 it has all the ingredients of being ...      NaN    NaN   \n",
       "677577  $BTC one of the most mentioned on twitch over ...      NaN    NaN   \n",
       "678707  $BTC working it's way into the top 10 most men...      NaN    NaN   \n",
       "679901  $BTC working it's way into the top 10 most men...      NaN    NaN   \n",
       "683604  $BTC was the 1st most mentioned on 4chan over ...      NaN    NaN   \n",
       "693194                                    Twitter Web App    False    NaN   \n",
       "697397                                    Twitter Web App    False    NaN   \n",
       "703630  Trade #Matic (#MATIC) At Best Rates on @synchr...      NaN    NaN   \n",
       "718123  @binance_doge @elonmusk OMG this project it's ...      NaN    NaN   \n",
       "737926      @IcedKnife Best Cryptocurrency to Invest 2021      NaN    NaN   \n",
       "738150                 Best Cryptocurrency to Invest 2021      NaN    NaN   \n",
       "808576  $BTC was the 3rd most mentioned on 4chan over ...      NaN    NaN   \n",
       "813984  $BTC one of the most mentioned on 4chan over t...      NaN    NaN   \n",
       "864616  ðµ The Power of Contribution ð Click here...      NaN    NaN   \n",
       "870434  Here at Our Tokenomics we educate about crytpo...      NaN    NaN   \n",
       "875897        This just in!  The cryptoverse is growing!       NaN    NaN   \n",
       "\n",
       "       is_retweet  Polarity Score  sentiment  \n",
       "64943         NaN        0.000000        0.0  \n",
       "137068        NaN        0.000000        0.0  \n",
       "180575        NaN        0.000000        0.0  \n",
       "228487        NaN        0.250000        1.0  \n",
       "240490        NaN        0.000000        0.0  \n",
       "316615        NaN        0.200000        1.0  \n",
       "378317        NaN        0.433333        1.0  \n",
       "398481        NaN        0.500000        1.0  \n",
       "398693        NaN        0.500000        1.0  \n",
       "398716        NaN        0.500000        1.0  \n",
       "398738        NaN        0.500000        1.0  \n",
       "398749        NaN        0.500000        1.0  \n",
       "398760        NaN        0.500000        1.0  \n",
       "398771        NaN        0.500000        1.0  \n",
       "398784        NaN        0.500000        1.0  \n",
       "419332        NaN       -0.033333        0.0  \n",
       "580682        NaN        0.000000        0.0  \n",
       "583965        NaN        0.000000        0.0  \n",
       "588624        NaN        0.250000        1.0  \n",
       "594259        NaN        0.000000        0.0  \n",
       "622716        NaN        0.000000        0.0  \n",
       "630083        NaN        0.000000        0.0  \n",
       "633045        NaN        0.000000        0.0  \n",
       "635741        NaN        0.250000        1.0  \n",
       "636724        NaN        0.000000        0.0  \n",
       "643994        NaN        0.000000        0.0  \n",
       "651480        NaN        0.000000        0.0  \n",
       "651777        NaN        0.750000        1.0  \n",
       "677577        NaN        0.000000        0.0  \n",
       "678707        NaN        0.250000        1.0  \n",
       "679901        NaN        0.250000        1.0  \n",
       "683604        NaN        0.000000        0.0  \n",
       "693194        NaN        0.000000        0.0  \n",
       "697397        NaN        0.000000        0.0  \n",
       "703630        NaN        1.000000        1.0  \n",
       "718123        NaN        0.800000        1.0  \n",
       "737926        NaN        1.000000        1.0  \n",
       "738150        NaN        1.000000        1.0  \n",
       "808576        NaN        0.000000        0.0  \n",
       "813984        NaN        0.000000        0.0  \n",
       "864616        NaN        0.000000        0.0  \n",
       "870434        NaN        0.000000        0.0  \n",
       "875897        NaN        0.000000        0.0  "
      ]
     },
     "execution_count": 10,
     "metadata": {},
     "output_type": "execute_result"
    }
   ],
   "source": [
    "# visually inspecting rows with improperly formatted date data\n",
    "display(data[data['date'].str.contains('ETH|BTC|btc')]) \n",
    "# these columns are shifted two to the right\n",
    "\n",
    "# what about all columns with missing source and retweet?\n",
    "data[data['source'].isna() & data['is_retweet'].isna()] # the rest of them look normal"
   ]
  },
  {
   "cell_type": "code",
   "execution_count": 11,
   "id": "3b995bd2",
   "metadata": {
    "ExecuteTime": {
     "end_time": "2022-12-12T17:35:07.364651Z",
     "start_time": "2022-12-12T17:35:06.207594Z"
    }
   },
   "outputs": [],
   "source": [
    "# dropping rows where date contains text\n",
    "data = data[~data['date'].str.contains('ETH|BTC|btc')].reset_index(drop=True)"
   ]
  },
  {
   "cell_type": "code",
   "execution_count": 12,
   "id": "27c91aae",
   "metadata": {
    "ExecuteTime": {
     "end_time": "2022-12-12T17:35:23.647248Z",
     "start_time": "2022-12-12T17:35:07.673315Z"
    }
   },
   "outputs": [],
   "source": [
    "# transforming text data into date format\n",
    "data['date'] = [datetime.datetime.strptime(date, '%Y-%m-%d %H:%M:%S') for date in data['date']]\n",
    "data['date'] = pd.to_datetime(data['date']).dt.date"
   ]
  },
  {
   "cell_type": "code",
   "execution_count": 13,
   "id": "9f8b5f85",
   "metadata": {
    "ExecuteTime": {
     "end_time": "2022-12-12T17:35:24.702610Z",
     "start_time": "2022-12-12T17:35:23.653796Z"
    }
   },
   "outputs": [
    {
     "name": "stdout",
     "output_type": "stream",
     "text": [
      "<class 'pandas.core.frame.DataFrame'>\n",
      "RangeIndex: 999981 entries, 0 to 999980\n",
      "Data columns (total 12 columns):\n",
      " #   Column           Non-Null Count   Dtype  \n",
      "---  ------           --------------   -----  \n",
      " 0   user_name        999962 non-null  object \n",
      " 1   user_followers   999981 non-null  object \n",
      " 2   user_friends     999981 non-null  object \n",
      " 3   user_favourites  999981 non-null  object \n",
      " 4   user_verified    999981 non-null  object \n",
      " 5   date             999981 non-null  object \n",
      " 6   text             999981 non-null  object \n",
      " 7   hashtags         983189 non-null  object \n",
      " 8   source           996629 non-null  object \n",
      " 9   is_retweet       999943 non-null  object \n",
      " 10  Polarity Score   999981 non-null  float64\n",
      " 11  sentiment        999981 non-null  float64\n",
      "dtypes: float64(2), object(10)\n",
      "memory usage: 91.6+ MB\n"
     ]
    }
   ],
   "source": [
    "data.info() # reinspecting data types"
   ]
  },
  {
   "cell_type": "code",
   "execution_count": 14,
   "id": "79bba6c0",
   "metadata": {
    "ExecuteTime": {
     "end_time": "2022-12-12T17:35:24.803752Z",
     "start_time": "2022-12-12T17:35:24.705720Z"
    }
   },
   "outputs": [
    {
     "name": "stderr",
     "output_type": "stream",
     "text": [
      "<ipython-input-14-7d0b5dd7c753>:1: SettingWithCopyWarning: \n",
      "A value is trying to be set on a copy of a slice from a DataFrame\n",
      "\n",
      "See the caveats in the documentation: https://pandas.pydata.org/pandas-docs/stable/user_guide/indexing.html#returning-a-view-versus-a-copy\n",
      "  data['is_retweet'][data['is_retweet'].isna()] = 'n/a'\n"
     ]
    }
   ],
   "source": [
    "# replacing empty retweets with string\n",
    "data['is_retweet'][data['is_retweet'].isna()] = 'n/a'"
   ]
  },
  {
   "cell_type": "code",
   "execution_count": 15,
   "id": "f1c73d27",
   "metadata": {
    "ExecuteTime": {
     "end_time": "2022-12-12T17:36:04.128037Z",
     "start_time": "2022-12-12T17:36:03.915130Z"
    }
   },
   "outputs": [
    {
     "data": {
      "text/plain": [
       "datetime.date(2021, 8, 21)"
      ]
     },
     "metadata": {},
     "output_type": "display_data"
    },
    {
     "data": {
      "text/plain": [
       "datetime.date(2021, 2, 5)"
      ]
     },
     "metadata": {},
     "output_type": "display_data"
    }
   ],
   "source": [
    "# checking that the dates look right\n",
    "display(data['date'].max())\n",
    "display(data['date'].min())"
   ]
  },
  {
   "cell_type": "code",
   "execution_count": 19,
   "id": "7d325558",
   "metadata": {
    "ExecuteTime": {
     "end_time": "2022-12-12T17:37:02.044730Z",
     "start_time": "2022-12-12T17:37:02.023419Z"
    }
   },
   "outputs": [
    {
     "name": "stdout",
     "output_type": "stream",
     "text": [
      "<class 'pandas.core.frame.DataFrame'>\n",
      "RangeIndex: 212 entries, 0 to 211\n",
      "Data columns (total 2 columns):\n",
      " #   Column  Non-Null Count  Dtype  \n",
      "---  ------  --------------  -----  \n",
      " 0   Date    212 non-null    object \n",
      " 1   Close   212 non-null    float64\n",
      "dtypes: float64(1), object(1)\n",
      "memory usage: 3.4+ KB\n"
     ]
    }
   ],
   "source": [
    "# converting date to datetime format\n",
    "btc_price['Date'] = [datetime.datetime.strptime(date, '%Y-%m-%d') \\\n",
    "                     for date in btc_price['Date']]\n",
    "btc_price['Date'] = pd.to_datetime(btc_price['Date']).dt.date\n",
    "\n",
    "# dataframe with just date and closing price\n",
    "price_df = btc_price[['Date', 'Close']]\n",
    "price_df.info()"
   ]
  },
  {
   "cell_type": "markdown",
   "id": "2f925f3a",
   "metadata": {},
   "source": [
    "### Text Preprocessing"
   ]
  },
  {
   "cell_type": "code",
   "execution_count": 20,
   "id": "97106e48",
   "metadata": {
    "ExecuteTime": {
     "end_time": "2022-12-12T17:37:04.963186Z",
     "start_time": "2022-12-12T17:37:04.681515Z"
    }
   },
   "outputs": [
    {
     "name": "stdout",
     "output_type": "stream",
     "text": [
      "<class 'pandas.core.frame.DataFrame'>\n",
      "RangeIndex: 999981 entries, 0 to 999980\n",
      "Data columns (total 4 columns):\n",
      " #   Column      Non-Null Count   Dtype  \n",
      "---  ------      --------------   -----  \n",
      " 0   text        999981 non-null  object \n",
      " 1   date        999981 non-null  object \n",
      " 2   sentiment   999981 non-null  float64\n",
      " 3   is_retweet  999981 non-null  object \n",
      "dtypes: float64(1), object(3)\n",
      "memory usage: 30.5+ MB\n"
     ]
    }
   ],
   "source": [
    "text_data = data[['text', 'date', 'sentiment', 'is_retweet']]\n",
    "text_data.info()"
   ]
  },
  {
   "cell_type": "code",
   "execution_count": 21,
   "id": "27558c3c",
   "metadata": {
    "ExecuteTime": {
     "end_time": "2022-12-12T17:37:07.091565Z",
     "start_time": "2022-12-12T17:37:07.078055Z"
    }
   },
   "outputs": [
    {
     "data": {
      "text/plain": [
       "'ð\\x9f\\x98\\x8e Today, that\\'s this #Thursday, we will do a \"ð\\x9f\\x8e¬ Take 2\" with our friend @LeoWandersleb, #Btc #wallet #security expeâ\\x80¦ https://t.co/go6aDgRml5'"
      ]
     },
     "execution_count": 21,
     "metadata": {},
     "output_type": "execute_result"
    }
   ],
   "source": [
    "text_data['text'][1]"
   ]
  },
  {
   "cell_type": "code",
   "execution_count": 22,
   "id": "87e6f0bb",
   "metadata": {
    "ExecuteTime": {
     "end_time": "2022-12-12T17:37:08.616642Z",
     "start_time": "2022-12-12T17:37:08.602103Z"
    }
   },
   "outputs": [
    {
     "name": "stdout",
     "output_type": "stream",
     "text": [
      "[('https', 't.co', '/xaaZmaJKiV'), ('https', 't.co', '/sgBxMkP1SI')]\n",
      "[('https', 't.co/xaaZmaJK'), ('https', 't.co/sgBxMkP1')]\n",
      "['https://t.co/xaaZmaJK', 'https://t.co/sgBxMkP1']\n",
      "['Blue', 'Ridge', 'Bank', 'shares', 'halted', 'by', 'NYSE', 'after', 'bitcoin', 'ATM', 'announcement', 'https', 't', 'co', 'xaaZmaJKiV', 'MyBlueRidgeBank', 'https', 't', 'co', 'sgBxMkP', 'SI']\n"
     ]
    }
   ],
   "source": [
    "#url pattern - want to remove\n",
    "pattern = \"(http|ftp|https):\\/\\/([\\w_-]+(?:(?:\\.[\\w_-]+)+))([\\w.,@?^=%&:\\/~+#-]*[\\w@?^=%&\\/~+#-])\"\n",
    "print(re.findall(pattern, text_data['text'][0]))\n",
    "\n",
    "#pattern = \"(http|ftp|https):\\/\\/t.co\\/[a-zA-Z0-9\\-\\.]{8}\"\n",
    "pattern = \"(http|ftp|https):\\/\\/(t.co\\/[a-zA-Z0-9\\-\\.]{8})\"\n",
    "print(re.findall(pattern, text_data['text'][0]))\n",
    "\n",
    "pattern = \"https:\\/\\/t.co\\/[a-zA-Z0-9\\-\\.]{8}\"\n",
    "print(re.findall(pattern, text_data['text'][0]))\n",
    "\n",
    "# apostrophe pattern\n",
    "pattern = \"([a-zA-Z]+(?:'[a-z]+)?)\"\n",
    "print(re.findall(pattern, text_data['text'][0]))"
   ]
  },
  {
   "cell_type": "code",
   "execution_count": 23,
   "id": "71709295",
   "metadata": {
    "ExecuteTime": {
     "end_time": "2022-12-12T17:37:28.110029Z",
     "start_time": "2022-12-12T17:37:11.625182Z"
    }
   },
   "outputs": [
    {
     "name": "stderr",
     "output_type": "stream",
     "text": [
      "<ipython-input-23-f020dda00306>:10: SettingWithCopyWarning: \n",
      "A value is trying to be set on a copy of a slice from a DataFrame.\n",
      "Try using .loc[row_indexer,col_indexer] = value instead\n",
      "\n",
      "See the caveats in the documentation: https://pandas.pydata.org/pandas-docs/stable/user_guide/indexing.html#returning-a-view-versus-a-copy\n",
      "  text_data['text'] = [re.sub(pattern_https, repl, string, count=0, flags=0)\\\n",
      "<ipython-input-23-f020dda00306>:12: SettingWithCopyWarning: \n",
      "A value is trying to be set on a copy of a slice from a DataFrame.\n",
      "Try using .loc[row_indexer,col_indexer] = value instead\n",
      "\n",
      "See the caveats in the documentation: https://pandas.pydata.org/pandas-docs/stable/user_guide/indexing.html#returning-a-view-versus-a-copy\n",
      "  text_data['text'] = [re.sub(pattern_www, repl, string, count=0, flags=0)\\\n"
     ]
    },
    {
     "data": {
      "text/plain": [
       "'ð\\x9f\\x98\\x8e Today, that\\'s this #Thursday, we will do a \"ð\\x9f\\x8e¬ Take 2\" with our friend @LeoWandersleb, #Btc #wallet #security expeâ\\x80¦ l5'"
      ]
     },
     "execution_count": 23,
     "metadata": {},
     "output_type": "execute_result"
    }
   ],
   "source": [
    "# removing all urls\n",
    "\n",
    "pattern_https = \"https:\\/\\/t.co\\/[a-zA-Z0-9\\-\\.]{8}\"\n",
    "pattern_www = \"www\\.[a-z]?\\.?(com)+|[a-z]+\\.(com)\"\n",
    "#string = text_data['text'][1]\n",
    "repl = ''\n",
    "\n",
    "#text_ex = re.sub(pattern_http, repl, string, count=0, flags=0)\n",
    "\n",
    "text_data['text'] = [re.sub(pattern_https, repl, string, count=0, flags=0)\\\n",
    "                     for string in text_data['text']]\n",
    "text_data['text'] = [re.sub(pattern_www, repl, string, count=0, flags=0)\\\n",
    "                     for string in text_data['text']]\n",
    "\n",
    "text_data['text'][1]\n",
    "\n",
    "#pattern = \"([a-zA-Z]+(?:'[a-z]+)?)\"\n",
    "#print(re.findall(pattern, text_ex))"
   ]
  },
  {
   "cell_type": "code",
   "execution_count": 24,
   "id": "34920a8e",
   "metadata": {
    "ExecuteTime": {
     "end_time": "2022-12-12T17:37:30.413421Z",
     "start_time": "2022-12-12T17:37:28.113162Z"
    }
   },
   "outputs": [
    {
     "name": "stderr",
     "output_type": "stream",
     "text": [
      "<ipython-input-24-265c887e34dc>:6: SettingWithCopyWarning: \n",
      "A value is trying to be set on a copy of a slice from a DataFrame.\n",
      "Try using .loc[row_indexer,col_indexer] = value instead\n",
      "\n",
      "See the caveats in the documentation: https://pandas.pydata.org/pandas-docs/stable/user_guide/indexing.html#returning-a-view-versus-a-copy\n",
      "  text_data['text'] = [re.sub(pattern_handle, repl, string, count=0, flags=0)\\\n"
     ]
    }
   ],
   "source": [
    "# remove twitter handles\n",
    "\n",
    "pattern_handle = \"@[A-Za-z0-9]+\"\n",
    "repl = ''\n",
    "\n",
    "text_data['text'] = [re.sub(pattern_handle, repl, string, count=0, flags=0)\\\n",
    "                     for string in text_data['text']]"
   ]
  },
  {
   "cell_type": "code",
   "execution_count": 25,
   "id": "c5a0a376",
   "metadata": {
    "ExecuteTime": {
     "end_time": "2022-12-12T17:37:36.486805Z",
     "start_time": "2022-12-12T17:37:30.419720Z"
    }
   },
   "outputs": [
    {
     "name": "stderr",
     "output_type": "stream",
     "text": [
      "<ipython-input-25-e2631955cc8c>:8: SettingWithCopyWarning: \n",
      "A value is trying to be set on a copy of a slice from a DataFrame.\n",
      "Try using .loc[row_indexer,col_indexer] = value instead\n",
      "\n",
      "See the caveats in the documentation: https://pandas.pydata.org/pandas-docs/stable/user_guide/indexing.html#returning-a-view-versus-a-copy\n",
      "  text_data['text'] = [re.sub(pattern_num, repl, string, count=0, flags=0)\\\n"
     ]
    },
    {
     "data": {
      "text/plain": [
       "0    Blue Ridge Bank shares halted by NYSE after #b...\n",
       "1    ð Today, that's this #Thursday, we will do ...\n",
       "2    Guys evening, I have read this article about B...\n",
       "3    $BTC A big chance in a billion! Price: \\. (// ...\n",
       "4    This network is secured by   nodes as of today...\n",
       "Name: text, dtype: object"
      ]
     },
     "execution_count": 25,
     "metadata": {},
     "output_type": "execute_result"
    }
   ],
   "source": [
    "# remove numbers\n",
    "\n",
    "pattern_num = r\"\\b\\d+\\b\" #\"\\b(\\d+)\\b\"\n",
    "repl = ''\n",
    "\n",
    "#print(re.findall(pattern_num, text_data['text'][3]))\n",
    "\n",
    "text_data['text'] = [re.sub(pattern_num, repl, string, count=0, flags=0)\\\n",
    "                     for string in text_data['text']]\n",
    "\n",
    "text_data['text'].head()"
   ]
  },
  {
   "cell_type": "code",
   "execution_count": 26,
   "id": "7c58c3ac",
   "metadata": {
    "ExecuteTime": {
     "end_time": "2022-12-12T17:37:38.011771Z",
     "start_time": "2022-12-12T17:37:36.493496Z"
    }
   },
   "outputs": [
    {
     "name": "stderr",
     "output_type": "stream",
     "text": [
      "<ipython-input-26-93d5fd38cee5>:2: SettingWithCopyWarning: \n",
      "A value is trying to be set on a copy of a slice from a DataFrame.\n",
      "Try using .loc[row_indexer,col_indexer] = value instead\n",
      "\n",
      "See the caveats in the documentation: https://pandas.pydata.org/pandas-docs/stable/user_guide/indexing.html#returning-a-view-versus-a-copy\n",
      "  text_data['text'] = text_data[\"text\"].str.lower()\n"
     ]
    }
   ],
   "source": [
    "# converting everything into lower case\n",
    "text_data['text'] = text_data[\"text\"].str.lower()"
   ]
  },
  {
   "cell_type": "code",
   "execution_count": 35,
   "id": "06f43993",
   "metadata": {
    "ExecuteTime": {
     "end_time": "2022-12-12T18:28:22.811286Z",
     "start_time": "2022-12-12T18:27:51.019642Z"
    }
   },
   "outputs": [
    {
     "name": "stderr",
     "output_type": "stream",
     "text": [
      "<ipython-input-35-f9467aa1a345>:10: SettingWithCopyWarning: \n",
      "A value is trying to be set on a copy of a slice from a DataFrame.\n",
      "Try using .loc[row_indexer,col_indexer] = value instead\n",
      "\n",
      "See the caveats in the documentation: https://pandas.pydata.org/pandas-docs/stable/user_guide/indexing.html#returning-a-view-versus-a-copy\n",
      "  text_data['text2'] = [\" \".join(lst) for lst in text_data['text_tokenized']]\n",
      "<ipython-input-35-f9467aa1a345>:14: SettingWithCopyWarning: \n",
      "A value is trying to be set on a copy of a slice from a DataFrame.\n",
      "Try using .loc[row_indexer,col_indexer] = value instead\n",
      "\n",
      "See the caveats in the documentation: https://pandas.pydata.org/pandas-docs/stable/user_guide/indexing.html#returning-a-view-versus-a-copy\n",
      "  text_data['text2'] = [text_str.replace(key, abbv_dict[key]) for text_str in text_data['text2']]\n"
     ]
    },
    {
     "name": "stdout",
     "output_type": "stream",
     "text": [
      "ð today, that's this #thursday, we will do a \"ð¬ take \" with our friend , #btc #wallet #security expeâ¦ l5\n",
      "today that this thursday we will do take with our friend bitcoin wallet security expeâ l5\n"
     ]
    }
   ],
   "source": [
    "# replace domain-specific abbreviations with full word, for visualizations\n",
    "# grouping btc/bitcoin/bitcoina, eth/ethereum, crypto/cryptocurrency, doge/dogecoin\n",
    "\n",
    "\n",
    "# abbreviation dictionary\n",
    "abbv_dict = {'btc': 'bitcoin', \n",
    "             'ethereum': 'eth', \n",
    "             'cryptocurrency': 'crypto', \n",
    "             'dogecoin': 'doge'}\n",
    "\n",
    "# tokenized text back to single string for functionality\n",
    "text_data['text2'] = [\" \".join(lst) for lst in text_data['text_tokenized']]\n",
    "\n",
    "# replacing key with value\n",
    "for key in abbv_dict.keys():\n",
    "    text_data['text2'] = [text_str.replace(key, abbv_dict[key]) for text_str in text_data['text2']]\n",
    "\n",
    "# before and after    \n",
    "print(text_data['text'][1])\n",
    "print(text_data['text2'][1])"
   ]
  },
  {
   "cell_type": "code",
   "execution_count": 41,
   "id": "30ba1367",
   "metadata": {
    "ExecuteTime": {
     "end_time": "2022-12-12T18:53:19.761703Z",
     "start_time": "2022-12-12T18:52:28.356864Z"
    }
   },
   "outputs": [
    {
     "name": "stderr",
     "output_type": "stream",
     "text": [
      "<ipython-input-41-3e6e5bf090ea>:3: SettingWithCopyWarning: \n",
      "A value is trying to be set on a copy of a slice from a DataFrame.\n",
      "Try using .loc[row_indexer,col_indexer] = value instead\n",
      "\n",
      "See the caveats in the documentation: https://pandas.pydata.org/pandas-docs/stable/user_guide/indexing.html#returning-a-view-versus-a-copy\n",
      "  text_data['hashtag'] = text_data['text2'].\\\n"
     ]
    }
   ],
   "source": [
    "# creating column with hashtags\n",
    "\n",
    "text_data['hashtag'] = text_data['text'].\\\n",
    "apply(lambda x: re.findall(r'\\B#\\w*[a-zA-Z]+\\w*', x))"
   ]
  },
  {
   "cell_type": "code",
   "execution_count": 30,
   "id": "ed69752a",
   "metadata": {
    "ExecuteTime": {
     "end_time": "2022-12-12T17:38:31.110825Z",
     "start_time": "2022-12-12T17:38:31.087848Z"
    }
   },
   "outputs": [
    {
     "data": {
      "text/html": [
       "<div>\n",
       "<style scoped>\n",
       "    .dataframe tbody tr th:only-of-type {\n",
       "        vertical-align: middle;\n",
       "    }\n",
       "\n",
       "    .dataframe tbody tr th {\n",
       "        vertical-align: top;\n",
       "    }\n",
       "\n",
       "    .dataframe thead th {\n",
       "        text-align: right;\n",
       "    }\n",
       "</style>\n",
       "<table border=\"1\" class=\"dataframe\">\n",
       "  <thead>\n",
       "    <tr style=\"text-align: right;\">\n",
       "      <th></th>\n",
       "      <th>text</th>\n",
       "      <th>date</th>\n",
       "      <th>sentiment</th>\n",
       "      <th>is_retweet</th>\n",
       "      <th>hashtag</th>\n",
       "    </tr>\n",
       "  </thead>\n",
       "  <tbody>\n",
       "    <tr>\n",
       "      <th>0</th>\n",
       "      <td>blue ridge bank shares halted by nyse after #b...</td>\n",
       "      <td>2021-02-10</td>\n",
       "      <td>0.0</td>\n",
       "      <td>False</td>\n",
       "      <td>[#bitcoin]</td>\n",
       "    </tr>\n",
       "    <tr>\n",
       "      <th>1</th>\n",
       "      <td>ð today, that's this #thursday, we will do ...</td>\n",
       "      <td>2021-02-10</td>\n",
       "      <td>0.0</td>\n",
       "      <td>False</td>\n",
       "      <td>[#thursday, #btc, #wallet, #security]</td>\n",
       "    </tr>\n",
       "    <tr>\n",
       "      <th>2</th>\n",
       "      <td>guys evening, i have read this article about b...</td>\n",
       "      <td>2021-02-10</td>\n",
       "      <td>0.0</td>\n",
       "      <td>False</td>\n",
       "      <td>[]</td>\n",
       "    </tr>\n",
       "    <tr>\n",
       "      <th>3</th>\n",
       "      <td>$btc a big chance in a billion! price: \\. (// ...</td>\n",
       "      <td>2021-02-10</td>\n",
       "      <td>0.0</td>\n",
       "      <td>False</td>\n",
       "      <td>[#bitcoin, #fx, #btc, #crypto]</td>\n",
       "    </tr>\n",
       "    <tr>\n",
       "      <th>4</th>\n",
       "      <td>this network is secured by   nodes as of today...</td>\n",
       "      <td>2021-02-10</td>\n",
       "      <td>0.0</td>\n",
       "      <td>False</td>\n",
       "      <td>[#btc]</td>\n",
       "    </tr>\n",
       "  </tbody>\n",
       "</table>\n",
       "</div>"
      ],
      "text/plain": [
       "                                                text        date  sentiment  \\\n",
       "0  blue ridge bank shares halted by nyse after #b...  2021-02-10        0.0   \n",
       "1  ð today, that's this #thursday, we will do ...  2021-02-10        0.0   \n",
       "2  guys evening, i have read this article about b...  2021-02-10        0.0   \n",
       "3  $btc a big chance in a billion! price: \\. (// ...  2021-02-10        0.0   \n",
       "4  this network is secured by   nodes as of today...  2021-02-10        0.0   \n",
       "\n",
       "  is_retweet                                hashtag  \n",
       "0      False                             [#bitcoin]  \n",
       "1      False  [#thursday, #btc, #wallet, #security]  \n",
       "2      False                                     []  \n",
       "3      False         [#bitcoin, #fx, #btc, #crypto]  \n",
       "4      False                                 [#btc]  "
      ]
     },
     "metadata": {},
     "output_type": "display_data"
    },
    {
     "data": {
      "text/plain": [
       "'ð\\x9f\\x92¹ trade #crypto on #binance \\n\\nð\\x9f\\x93\\x8c enjoy #cashback % of the trading fee\\nð\\x9f\\x93\\x8c sign up link ð\\x9f\\x91\\x89 hcâ\\x80¦ 8w'"
      ]
     },
     "execution_count": 30,
     "metadata": {},
     "output_type": "execute_result"
    }
   ],
   "source": [
    "# visually inspecting\n",
    "display(text_data.head())"
   ]
  },
  {
   "cell_type": "code",
   "execution_count": 42,
   "id": "3631d704",
   "metadata": {
    "ExecuteTime": {
     "end_time": "2022-12-12T18:55:21.425551Z",
     "start_time": "2022-12-12T18:53:19.767744Z"
    }
   },
   "outputs": [
    {
     "name": "stderr",
     "output_type": "stream",
     "text": [
      "<ipython-input-42-6fb5ffeac6ef>:9: SettingWithCopyWarning: \n",
      "A value is trying to be set on a copy of a slice from a DataFrame.\n",
      "Try using .loc[row_indexer,col_indexer] = value instead\n",
      "\n",
      "See the caveats in the documentation: https://pandas.pydata.org/pandas-docs/stable/user_guide/indexing.html#returning-a-view-versus-a-copy\n",
      "  text_data[\"text_tokenized\"] = text_data[\"text2\"].apply(tokenizer.tokenize)\n"
     ]
    },
    {
     "data": {
      "text/plain": [
       "['today',\n",
       " 'that',\n",
       " 'this',\n",
       " 'thursday',\n",
       " 'we',\n",
       " 'will',\n",
       " 'do',\n",
       " 'take',\n",
       " 'with',\n",
       " 'our',\n",
       " 'friend',\n",
       " 'bitcoin',\n",
       " 'wallet',\n",
       " 'security',\n",
       " 'expeâ',\n",
       " 'l5']"
      ]
     },
     "execution_count": 42,
     "metadata": {},
     "output_type": "execute_result"
    }
   ],
   "source": [
    "# tokenizing with regex tokenizer\n",
    "basic_token_pattern = r\"(?u)\\b\\w\\w+\\b\"\n",
    "\n",
    "tokenizer = RegexpTokenizer(basic_token_pattern)\n",
    "tokenizer.tokenize(text_data['text'][1])[:10]\n",
    "\n",
    "# Create new column with tokenized data\n",
    "text_data[\"text_tokenized\"] = text_data[\"text2\"].apply(tokenizer.tokenize)\n",
    "text_data['text_tokenized'][1]"
   ]
  },
  {
   "cell_type": "code",
   "execution_count": 33,
   "id": "e5206812",
   "metadata": {
    "ExecuteTime": {
     "end_time": "2022-12-12T17:38:57.582386Z",
     "start_time": "2022-12-12T17:38:57.553948Z"
    }
   },
   "outputs": [],
   "source": [
    "# storing stopwords list and adding punctuation\n",
    "stopwords_list = stopwords.words('english')\n",
    "stopwords_list += list(string.punctuation)\n",
    "\n",
    "# function to remove stopwords\n",
    "def remove_stopwords(token_list):\n",
    "    \"\"\"\n",
    "    Given a list of tokens, return a list where the tokens\n",
    "    that are also present in stopwords_list have been\n",
    "    removed\n",
    "    \"\"\"\n",
    "    return [word for word in token_list if word not in stopwords_list]"
   ]
  },
  {
   "cell_type": "code",
   "execution_count": 43,
   "id": "b890688f",
   "metadata": {
    "ExecuteTime": {
     "end_time": "2022-12-12T18:57:26.172221Z",
     "start_time": "2022-12-12T18:55:39.700687Z"
    }
   },
   "outputs": [
    {
     "name": "stderr",
     "output_type": "stream",
     "text": [
      "<ipython-input-43-7dd90a1e5cb6>:2: SettingWithCopyWarning: \n",
      "A value is trying to be set on a copy of a slice from a DataFrame.\n",
      "Try using .loc[row_indexer,col_indexer] = value instead\n",
      "\n",
      "See the caveats in the documentation: https://pandas.pydata.org/pandas-docs/stable/user_guide/indexing.html#returning-a-view-versus-a-copy\n",
      "  text_data[\"text_without_stopwords\"] = text_data[\"text_tokenized\"].apply(remove_stopwords)\n"
     ]
    }
   ],
   "source": [
    "# applying remove stopwords function\n",
    "text_data[\"text_without_stopwords\"] = text_data[\"text_tokenized\"].apply(remove_stopwords)"
   ]
  },
  {
   "cell_type": "code",
   "execution_count": 51,
   "id": "47cd4684",
   "metadata": {
    "ExecuteTime": {
     "end_time": "2022-12-12T19:24:26.961091Z",
     "start_time": "2022-12-12T19:24:08.154974Z"
    }
   },
   "outputs": [
    {
     "name": "stdout",
     "output_type": "stream",
     "text": [
      "<class 'pandas.core.frame.DataFrame'>\n",
      "RangeIndex: 999981 entries, 0 to 999980\n",
      "Data columns (total 8 columns):\n",
      " #   Column                  Non-Null Count   Dtype  \n",
      "---  ------                  --------------   -----  \n",
      " 0   text                    999981 non-null  object \n",
      " 1   date                    999981 non-null  object \n",
      " 2   sentiment               999981 non-null  float64\n",
      " 3   is_retweet              999981 non-null  object \n",
      " 4   hashtag                 999981 non-null  object \n",
      " 5   text_tokenized          999981 non-null  object \n",
      " 6   text_without_stopwords  999981 non-null  object \n",
      " 7   text2                   999981 non-null  object \n",
      "dtypes: float64(1), object(7)\n",
      "memory usage: 61.0+ MB\n"
     ]
    }
   ],
   "source": [
    "text_data.info() # reinspecting datatypes"
   ]
  },
  {
   "cell_type": "code",
   "execution_count": 44,
   "id": "9e175d36",
   "metadata": {
    "ExecuteTime": {
     "end_time": "2022-12-12T18:57:26.857193Z",
     "start_time": "2022-12-12T18:57:26.330081Z"
    }
   },
   "outputs": [
    {
     "data": {
      "text/html": [
       "<div>\n",
       "<style scoped>\n",
       "    .dataframe tbody tr th:only-of-type {\n",
       "        vertical-align: middle;\n",
       "    }\n",
       "\n",
       "    .dataframe tbody tr th {\n",
       "        vertical-align: top;\n",
       "    }\n",
       "\n",
       "    .dataframe thead th {\n",
       "        text-align: right;\n",
       "    }\n",
       "</style>\n",
       "<table border=\"1\" class=\"dataframe\">\n",
       "  <thead>\n",
       "    <tr style=\"text-align: right;\">\n",
       "      <th></th>\n",
       "      <th>text</th>\n",
       "      <th>date</th>\n",
       "      <th>sentiment</th>\n",
       "      <th>is_retweet</th>\n",
       "      <th>hashtag</th>\n",
       "      <th>text_tokenized</th>\n",
       "      <th>text_without_stopwords</th>\n",
       "      <th>text2</th>\n",
       "    </tr>\n",
       "  </thead>\n",
       "  <tbody>\n",
       "    <tr>\n",
       "      <th>0</th>\n",
       "      <td>blue ridge bank shares halted by nyse after #b...</td>\n",
       "      <td>2021-02-10</td>\n",
       "      <td>0.0</td>\n",
       "      <td>False</td>\n",
       "      <td>[]</td>\n",
       "      <td>[blue, ridge, bank, shares, halted, by, nyse, ...</td>\n",
       "      <td>[blue, ridge, bank, shares, halted, nyse, bitc...</td>\n",
       "      <td>blue ridge bank shares halted by nyse after bi...</td>\n",
       "    </tr>\n",
       "    <tr>\n",
       "      <th>1</th>\n",
       "      <td>ð today, that's this #thursday, we will do ...</td>\n",
       "      <td>2021-02-10</td>\n",
       "      <td>0.0</td>\n",
       "      <td>False</td>\n",
       "      <td>[]</td>\n",
       "      <td>[today, that, this, thursday, we, will, do, ta...</td>\n",
       "      <td>[today, thursday, take, friend, bitcoin, walle...</td>\n",
       "      <td>today that this thursday we will do take with ...</td>\n",
       "    </tr>\n",
       "    <tr>\n",
       "      <th>2</th>\n",
       "      <td>guys evening, i have read this article about b...</td>\n",
       "      <td>2021-02-10</td>\n",
       "      <td>0.0</td>\n",
       "      <td>False</td>\n",
       "      <td>[]</td>\n",
       "      <td>[guys, evening, have, read, this, article, abo...</td>\n",
       "      <td>[guys, evening, read, article, bitcoin, would,...</td>\n",
       "      <td>guys evening have read this article about bitc...</td>\n",
       "    </tr>\n",
       "    <tr>\n",
       "      <th>3</th>\n",
       "      <td>$btc a big chance in a billion! price: \\. (// ...</td>\n",
       "      <td>2021-02-10</td>\n",
       "      <td>0.0</td>\n",
       "      <td>False</td>\n",
       "      <td>[]</td>\n",
       "      <td>[bitcoin, big, chance, in, billion, price, bit...</td>\n",
       "      <td>[bitcoin, big, chance, billion, price, bitcoin...</td>\n",
       "      <td>bitcoin big chance in billion price bitcoin fx...</td>\n",
       "    </tr>\n",
       "    <tr>\n",
       "      <th>4</th>\n",
       "      <td>this network is secured by   nodes as of today...</td>\n",
       "      <td>2021-02-10</td>\n",
       "      <td>0.0</td>\n",
       "      <td>False</td>\n",
       "      <td>[]</td>\n",
       "      <td>[this, network, is, secured, by, nodes, as, of...</td>\n",
       "      <td>[network, secured, nodes, today, soon, biggest...</td>\n",
       "      <td>this network is secured by nodes as of today s...</td>\n",
       "    </tr>\n",
       "  </tbody>\n",
       "</table>\n",
       "</div>"
      ],
      "text/plain": [
       "                                                text        date  sentiment  \\\n",
       "0  blue ridge bank shares halted by nyse after #b...  2021-02-10        0.0   \n",
       "1  ð today, that's this #thursday, we will do ...  2021-02-10        0.0   \n",
       "2  guys evening, i have read this article about b...  2021-02-10        0.0   \n",
       "3  $btc a big chance in a billion! price: \\. (// ...  2021-02-10        0.0   \n",
       "4  this network is secured by   nodes as of today...  2021-02-10        0.0   \n",
       "\n",
       "  is_retweet hashtag                                     text_tokenized  \\\n",
       "0      False      []  [blue, ridge, bank, shares, halted, by, nyse, ...   \n",
       "1      False      []  [today, that, this, thursday, we, will, do, ta...   \n",
       "2      False      []  [guys, evening, have, read, this, article, abo...   \n",
       "3      False      []  [bitcoin, big, chance, in, billion, price, bit...   \n",
       "4      False      []  [this, network, is, secured, by, nodes, as, of...   \n",
       "\n",
       "                              text_without_stopwords  \\\n",
       "0  [blue, ridge, bank, shares, halted, nyse, bitc...   \n",
       "1  [today, thursday, take, friend, bitcoin, walle...   \n",
       "2  [guys, evening, read, article, bitcoin, would,...   \n",
       "3  [bitcoin, big, chance, billion, price, bitcoin...   \n",
       "4  [network, secured, nodes, today, soon, biggest...   \n",
       "\n",
       "                                               text2  \n",
       "0  blue ridge bank shares halted by nyse after bi...  \n",
       "1  today that this thursday we will do take with ...  \n",
       "2  guys evening have read this article about bitc...  \n",
       "3  bitcoin big chance in billion price bitcoin fx...  \n",
       "4  this network is secured by nodes as of today s...  "
      ]
     },
     "execution_count": 44,
     "metadata": {},
     "output_type": "execute_result"
    }
   ],
   "source": [
    "# final tokenized text is lowercased, without urls, stopwords & numbers\n",
    "text_data.head() "
   ]
  },
  {
   "cell_type": "code",
   "execution_count": null,
   "id": "7641e6f6",
   "metadata": {},
   "outputs": [],
   "source": [
    "##############################"
   ]
  },
  {
   "cell_type": "code",
   "execution_count": null,
   "id": "ec904f98",
   "metadata": {},
   "outputs": [],
   "source": [
    "# Reduce words to their root form \n",
    "# takes too long to run, will do this within tfidf vectorizer\n",
    "\n",
    "#from nltk.stem.wordnet import WordNetLemmatizer\n",
    "\n",
    "# test on one row\n",
    "#words = text_data['text_without_abbv'][1]\n",
    "#lemmed = [WordNetLemmatizer().lemmatize(w) for w in words]\n",
    "#print(lemmed)\n",
    "\n",
    "# for entire dataset\n",
    "#for i in range(len(text_data['text_without_abbv'])):\n",
    "#    text_data['text_without_abbv'][i] = [WordNetLemmatizer().lemmatize(w) \\\n",
    "#                                         for w in text_data['text_without_abbv'][i]]"
   ]
  },
  {
   "cell_type": "code",
   "execution_count": null,
   "id": "92192e0c",
   "metadata": {
    "ExecuteTime": {
     "start_time": "2022-12-05T23:45:52.710Z"
    }
   },
   "outputs": [
    {
     "name": "stderr",
     "output_type": "stream",
     "text": [
      "<ipython-input-281-92d57f9a29cf>:2: SettingWithCopyWarning: \n",
      "A value is trying to be set on a copy of a slice from a DataFrame\n",
      "\n",
      "See the caveats in the documentation: https://pandas.pydata.org/pandas-docs/stable/user_guide/indexing.html#returning-a-view-versus-a-copy\n",
      "  text_data['text_without_abbv'][i] = [ele if ele not in abbv_dict else \\\n"
     ]
    }
   ],
   "source": [
    "# this takes too long to run\n",
    "#for i in range(len(text_data['text_without_abbv'])):\n",
    "#    text_data['text_without_abbv'][i] = [ele if ele not in abbv_dict else \\\n",
    "#                                         abbv_dict[ele] for ele in \\\n",
    "#                                         text_data['text_without_abbv'][i]]\n",
    "    \n",
    "#[ele if ele not in abbv_dict else abbv_dict[ele] for ele in text_data['text_without_abbv'][1]]\n",
    "\n",
    "#text_data['text_without_abbv'][1] "
   ]
  },
  {
   "cell_type": "code",
   "execution_count": 280,
   "id": "7585cfdd",
   "metadata": {
    "ExecuteTime": {
     "end_time": "2022-12-05T23:44:46.127486Z",
     "start_time": "2022-12-05T23:44:45.911213Z"
    }
   },
   "outputs": [
    {
     "name": "stderr",
     "output_type": "stream",
     "text": [
      "<ipython-input-280-fe2880153c1f>:8: SettingWithCopyWarning: \n",
      "A value is trying to be set on a copy of a slice from a DataFrame.\n",
      "Try using .loc[row_indexer,col_indexer] = value instead\n",
      "\n",
      "See the caveats in the documentation: https://pandas.pydata.org/pandas-docs/stable/user_guide/indexing.html#returning-a-view-versus-a-copy\n",
      "  text_data['text_without_abbv'] = text_data['text_without_stopwords']\n"
     ]
    },
    {
     "data": {
      "text/plain": [
       "['today',\n",
       " 'thursday',\n",
       " 'take',\n",
       " 'friend',\n",
       " 'btc',\n",
       " 'wallet',\n",
       " 'security',\n",
       " 'expeâ',\n",
       " 'l5']"
      ]
     },
     "execution_count": 280,
     "metadata": {},
     "output_type": "execute_result"
    }
   ],
   "source": [
    "# text data without crypto abbreviations\n",
    "\n",
    "abbv_dict = {'btc': 'bitcoin', \n",
    "             'eth': 'ethereum', \n",
    "             'crypto': 'cryptocurrency', \n",
    "             'doge': 'dogecoin'}\n",
    "\n",
    "#text_data['text_without_abbv'] = text_data['text_without_stopwords']\n",
    "\n",
    "#for item in text_data['text_without_abbv'][1]:\n",
    "#    for k,v in abbv_dict.items():\n",
    "#        item = item.replace(k, v)\n",
    "    \n",
    "#text_data['text_without_abbv'][1]"
   ]
  },
  {
   "cell_type": "code",
   "execution_count": 195,
   "id": "95f2d28c",
   "metadata": {
    "ExecuteTime": {
     "end_time": "2022-11-23T18:21:47.579077Z",
     "start_time": "2022-11-23T18:21:47.385404Z"
    }
   },
   "outputs": [
    {
     "data": {
      "text/plain": [
       "['today',\n",
       " \"that's\",\n",
       " 'thursday',\n",
       " 'take',\n",
       " 'friend',\n",
       " 'leowandersleb',\n",
       " 'btc',\n",
       " 'wallet',\n",
       " 'security',\n",
       " 'expe',\n",
       " 'l']"
      ]
     },
     "execution_count": 195,
     "metadata": {},
     "output_type": "execute_result"
    }
   ],
   "source": [
    "pattern = \"([a-zA-Z]+(?:'[a-z]+)?)\"\n",
    "tokenizer = RegexpTokenizer(pattern)\n",
    "\n",
    "first_tweet = tokenizer.tokenize(text_data['text'][1])\n",
    "first_tweet = [token.lower() for token in first_tweet]\n",
    "first_tweet = [token for token in first_tweet if token not in stopwords_list]\n",
    "first_tweet"
   ]
  },
  {
   "cell_type": "code",
   "execution_count": 124,
   "id": "f0e859a4",
   "metadata": {
    "ExecuteTime": {
     "end_time": "2022-11-22T02:45:26.621026Z",
     "start_time": "2022-11-22T02:45:26.599992Z"
    }
   },
   "outputs": [],
   "source": [
    "stops = [token for token in manual_cleanup if token in stopwords_list]\n",
    "stops[:10]\n",
    "\n",
    "print(f'There are {len(stops)} stopwords in the first document')\n",
    "\n",
    "fdist = FreqDist(manual_cleanup)\n",
    "plt.figure(figsize=(10, 10))\n",
    "fdist.plot(30);\n",
    "\n",
    "manual_cleanup = [token for token in manual_cleanup if\\\n",
    "                  token not in stopwords.words('english')]"
   ]
  },
  {
   "cell_type": "code",
   "execution_count": 179,
   "id": "42f31d1d",
   "metadata": {
    "ExecuteTime": {
     "end_time": "2022-11-23T17:48:39.570188Z",
     "start_time": "2022-11-23T17:38:27.269403Z"
    }
   },
   "outputs": [],
   "source": [
    "# this is all taking a long time\n",
    "import string\n",
    "\n",
    "manual_cleanup = [[s.translate(str.maketrans('', '', string.punctuation))\\\n",
    "                  for s in word] for word in manual_cleanup]"
   ]
  },
  {
   "cell_type": "code",
   "execution_count": 180,
   "id": "5a3c6955",
   "metadata": {
    "ExecuteTime": {
     "end_time": "2022-11-23T17:48:39.673886Z",
     "start_time": "2022-11-23T17:48:39.627200Z"
    }
   },
   "outputs": [
    {
     "data": {
      "text/plain": [
       "['ð\\x9f\\x98\\x8e',\n",
       " 'today',\n",
       " 'thats',\n",
       " 'this',\n",
       " 'thursday',\n",
       " 'we',\n",
       " 'will',\n",
       " 'do',\n",
       " 'a',\n",
       " 'ð\\x9f\\x8e¬',\n",
       " 'take',\n",
       " '2',\n",
       " 'with',\n",
       " 'our',\n",
       " 'friend',\n",
       " 'leowandersleb',\n",
       " 'btc',\n",
       " 'wallet',\n",
       " 'security',\n",
       " 'expeâ\\x80¦',\n",
       " 'l5']"
      ]
     },
     "execution_count": 180,
     "metadata": {},
     "output_type": "execute_result"
    }
   ],
   "source": [
    "manual_cleanup[1]"
   ]
  },
  {
   "cell_type": "code",
   "execution_count": 186,
   "id": "14b2c422",
   "metadata": {
    "ExecuteTime": {
     "end_time": "2022-11-23T18:01:59.031867Z",
     "start_time": "2022-11-23T18:01:58.988197Z"
    }
   },
   "outputs": [
    {
     "ename": "AttributeError",
     "evalue": "'Series' object has no attribute 'translate'",
     "output_type": "error",
     "traceback": [
      "\u001b[0;31m---------------------------------------------------------------------------\u001b[0m",
      "\u001b[0;31mAttributeError\u001b[0m                            Traceback (most recent call last)",
      "\u001b[0;32m<ipython-input-186-1e8819105b95>\u001b[0m in \u001b[0;36m<module>\u001b[0;34m\u001b[0m\n\u001b[0;32m----> 1\u001b[0;31m \u001b[0mtext_data\u001b[0m\u001b[0;34m[\u001b[0m\u001b[0;34m'text'\u001b[0m\u001b[0;34m]\u001b[0m \u001b[0;34m=\u001b[0m \u001b[0mtext_data\u001b[0m\u001b[0;34m[\u001b[0m\u001b[0;34m'text'\u001b[0m\u001b[0;34m]\u001b[0m\u001b[0;34m.\u001b[0m\u001b[0mtranslate\u001b[0m\u001b[0;34m(\u001b[0m\u001b[0mstr\u001b[0m\u001b[0;34m.\u001b[0m\u001b[0mmaketrans\u001b[0m\u001b[0;34m(\u001b[0m\u001b[0;34m''\u001b[0m\u001b[0;34m,\u001b[0m \u001b[0;34m''\u001b[0m\u001b[0;34m,\u001b[0m \u001b[0mstring\u001b[0m\u001b[0;34m.\u001b[0m\u001b[0mpunctuation\u001b[0m\u001b[0;34m)\u001b[0m\u001b[0;34m)\u001b[0m\u001b[0;34m\u001b[0m\u001b[0;34m\u001b[0m\u001b[0m\n\u001b[0m",
      "\u001b[0;32m~/opt/anaconda3/envs/learn-env/lib/python3.8/site-packages/pandas/core/generic.py\u001b[0m in \u001b[0;36m__getattr__\u001b[0;34m(self, name)\u001b[0m\n\u001b[1;32m   5137\u001b[0m             \u001b[0;32mif\u001b[0m \u001b[0mself\u001b[0m\u001b[0;34m.\u001b[0m\u001b[0m_info_axis\u001b[0m\u001b[0;34m.\u001b[0m\u001b[0m_can_hold_identifiers_and_holds_name\u001b[0m\u001b[0;34m(\u001b[0m\u001b[0mname\u001b[0m\u001b[0;34m)\u001b[0m\u001b[0;34m:\u001b[0m\u001b[0;34m\u001b[0m\u001b[0;34m\u001b[0m\u001b[0m\n\u001b[1;32m   5138\u001b[0m                 \u001b[0;32mreturn\u001b[0m \u001b[0mself\u001b[0m\u001b[0;34m[\u001b[0m\u001b[0mname\u001b[0m\u001b[0;34m]\u001b[0m\u001b[0;34m\u001b[0m\u001b[0;34m\u001b[0m\u001b[0m\n\u001b[0;32m-> 5139\u001b[0;31m             \u001b[0;32mreturn\u001b[0m \u001b[0mobject\u001b[0m\u001b[0;34m.\u001b[0m\u001b[0m__getattribute__\u001b[0m\u001b[0;34m(\u001b[0m\u001b[0mself\u001b[0m\u001b[0;34m,\u001b[0m \u001b[0mname\u001b[0m\u001b[0;34m)\u001b[0m\u001b[0;34m\u001b[0m\u001b[0;34m\u001b[0m\u001b[0m\n\u001b[0m\u001b[1;32m   5140\u001b[0m \u001b[0;34m\u001b[0m\u001b[0m\n\u001b[1;32m   5141\u001b[0m     \u001b[0;32mdef\u001b[0m \u001b[0m__setattr__\u001b[0m\u001b[0;34m(\u001b[0m\u001b[0mself\u001b[0m\u001b[0;34m,\u001b[0m \u001b[0mname\u001b[0m\u001b[0;34m:\u001b[0m \u001b[0mstr\u001b[0m\u001b[0;34m,\u001b[0m \u001b[0mvalue\u001b[0m\u001b[0;34m)\u001b[0m \u001b[0;34m->\u001b[0m \u001b[0;32mNone\u001b[0m\u001b[0;34m:\u001b[0m\u001b[0;34m\u001b[0m\u001b[0;34m\u001b[0m\u001b[0m\n",
      "\u001b[0;31mAttributeError\u001b[0m: 'Series' object has no attribute 'translate'"
     ]
    }
   ],
   "source": [
    "# would have to do this in list comprehension\n",
    "text_data['text'][0].translate(str.maketrans('', '', string.punctuation))"
   ]
  },
  {
   "cell_type": "markdown",
   "id": "d056bed7",
   "metadata": {},
   "source": [
    "### Data Exploration"
   ]
  },
  {
   "cell_type": "code",
   "execution_count": 37,
   "id": "93ce98e8",
   "metadata": {
    "ExecuteTime": {
     "end_time": "2022-12-12T18:31:50.242028Z",
     "start_time": "2022-12-12T18:31:46.906887Z"
    }
   },
   "outputs": [
    {
     "data": {
      "text/plain": [
       "<AxesSubplot:xlabel='count', ylabel='sentiment'>"
      ]
     },
     "execution_count": 37,
     "metadata": {},
     "output_type": "execute_result"
    },
    {
     "data": {
      "image/png": "[encoded data removed]",
      "text/plain": [
       "<Figure size 432x288 with 1 Axes>"
      ]
     },
     "metadata": {
      "needs_background": "light"
     },
     "output_type": "display_data"
    }
   ],
   "source": [
    "# dataset looks fairly balanced\n",
    "sns.countplot(data = text_data, y = 'sentiment')"
   ]
  },
  {
   "cell_type": "code",
   "execution_count": 38,
   "id": "d258d6ef",
   "metadata": {
    "ExecuteTime": {
     "end_time": "2022-12-12T18:31:54.070513Z",
     "start_time": "2022-12-12T18:31:52.525756Z"
    }
   },
   "outputs": [
    {
     "data": {
      "text/plain": [
       "<AxesSubplot:xlabel='Date'>"
      ]
     },
     "execution_count": 38,
     "metadata": {},
     "output_type": "execute_result"
    },
    {
     "data": {
      "image/png": "[encoded data removed]",
      "text/plain": [
       "<Figure size 432x288 with 1 Axes>"
      ]
     },
     "metadata": {
      "needs_background": "light"
     },
     "output_type": "display_data"
    }
   ],
   "source": [
    "# price of bitcoin from feb 2021 to sept 2021\n",
    "price_df.plot(x='Date')"
   ]
  },
  {
   "cell_type": "code",
   "execution_count": 39,
   "id": "2dadc46d",
   "metadata": {
    "ExecuteTime": {
     "end_time": "2022-12-12T18:32:26.296631Z",
     "start_time": "2022-12-12T18:31:56.643778Z"
    }
   },
   "outputs": [
    {
     "data": {
      "text/plain": [
       "72"
      ]
     },
     "execution_count": 39,
     "metadata": {},
     "output_type": "execute_result"
    },
    {
     "data": {
      "image/png": "[encoded data removed]",
      "text/plain": [
       "<Figure size 432x288 with 1 Axes>"
      ]
     },
     "metadata": {
      "needs_background": "light"
     },
     "output_type": "display_data"
    }
   ],
   "source": [
    "# percent of positive tweets per day\n",
    "grouped = text_data[['date', 'sentiment']].groupby('date').mean()\n",
    "grouped.plot()\n",
    "len(grouped) # only 72 observations (unique days with tweets)"
   ]
  },
  {
   "cell_type": "code",
   "execution_count": 40,
   "id": "a5736460",
   "metadata": {
    "ExecuteTime": {
     "end_time": "2022-12-12T18:35:54.856254Z",
     "start_time": "2022-12-12T18:35:52.705901Z"
    }
   },
   "outputs": [
    {
     "data": {
      "text/plain": [
       "<AxesSubplot:xlabel='date'>"
      ]
     },
     "execution_count": 40,
     "metadata": {},
     "output_type": "execute_result"
    },
    {
     "data": {
      "image/png": "[encoded data removed]",
      "text/plain": [
       "<Figure size 432x288 with 1 Axes>"
      ]
     },
     "metadata": {
      "needs_background": "light"
     },
     "output_type": "display_data"
    }
   ],
   "source": [
    "# count of tweets per day\n",
    "\n",
    "count = text_data[['date', 'sentiment']].groupby('date').count()\n",
    "count.plot() # seems like activity spikes in the summer"
   ]
  },
  {
   "cell_type": "code",
   "execution_count": 94,
   "id": "13d3fbff",
   "metadata": {
    "ExecuteTime": {
     "end_time": "2022-12-12T23:31:00.503529Z",
     "start_time": "2022-12-12T23:31:00.461184Z"
    }
   },
   "outputs": [],
   "source": [
    "def visualize_top_10(freq_dist, title):\n",
    "    \n",
    "    '''\n",
    "    Function to visualize the top 10 most common words\n",
    "    '''\n",
    "\n",
    "    # Extract data for plotting\n",
    "    top_10 = list(zip(*freq_dist.most_common(10)))\n",
    "    tokens = top_10[0]\n",
    "    counts = top_10[1]\n",
    "\n",
    "    # Set up plot and plot data\n",
    "    fig, ax = plt.subplots()\n",
    "    ax.bar(tokens, counts)\n",
    "\n",
    "    # Customize plot appearance\n",
    "    ax.set_title(title)\n",
    "    ax.set_ylabel(\"Count\")\n",
    "    ax.yaxis.set_major_locator(MaxNLocator(integer=True))\n",
    "    ax.tick_params(axis=\"x\", rotation=90)"
   ]
  },
  {
   "cell_type": "code",
   "execution_count": null,
   "id": "d09f741a",
   "metadata": {},
   "outputs": [],
   "source": [
    "# top 10 word freq for all tweets\n",
    "sample_freq_dist = FreqDist(text_data[\"text_without_stopwords\"].explode())\n",
    "visualize_top_10(sample_freq_dist, \"Top 10 Word Frequency\")"
   ]
  },
  {
   "cell_type": "code",
   "execution_count": 239,
   "id": "87360425",
   "metadata": {
    "ExecuteTime": {
     "end_time": "2022-11-28T22:14:49.806005Z",
     "start_time": "2022-11-28T22:14:27.216282Z"
    }
   },
   "outputs": [
    {
     "data": {
      "image/png": "[encoded data removed]",
      "text/plain": [
       "<Figure size 432x288 with 1 Axes>"
      ]
     },
     "metadata": {
      "needs_background": "light"
     },
     "output_type": "display_data"
    }
   ],
   "source": [
    "# top 10 word freq for positive tweets  \n",
    "sample_freq_dist = FreqDist(text_data[\"text_without_stopwords\"][text_data['sentiment']==1].explode())\n",
    "visualize_top_10(sample_freq_dist, \"Top 10 Word Frequency Positive Tweets\")"
   ]
  },
  {
   "cell_type": "code",
   "execution_count": null,
   "id": "f5c0fbde",
   "metadata": {},
   "outputs": [],
   "source": [
    "# top 10 word freq for negative tweets  \n",
    "sample_freq_dist = FreqDist(text_data[\"text_without_stopwords\"][text_data['sentiment']==0].explode())\n",
    "visualize_top_10(sample_freq_dist, \"Top 10 Word Frequency Positive Tweets\")"
   ]
  },
  {
   "cell_type": "code",
   "execution_count": 48,
   "id": "56ca7b3b",
   "metadata": {
    "ExecuteTime": {
     "end_time": "2022-12-12T19:21:08.077833Z",
     "start_time": "2022-12-12T19:20:13.958195Z"
    }
   },
   "outputs": [
    {
     "data": {
      "image/png": "[encoded data removed]",
      "text/plain": [
       "<Figure size 720x720 with 1 Axes>"
      ]
     },
     "metadata": {
      "needs_background": "light"
     },
     "output_type": "display_data"
    }
   ],
   "source": [
    "# word cloud for positive sentiment tweets\n",
    "wordcloud = WordCloud(max_words = 200, stopwords = None, collocations = False, width = 600, height = 400, \n",
    "                       background_color = 'black', colormap = 'plasma') #Make wordcloud\n",
    "wordcloud.generate(\",\".join(text_data[\"text_without_stopwords\"][text_data['sentiment']==1].explode())) \n",
    "                    #Generates wordcloud from input list\n",
    "\n",
    "plt.figure(figsize = (10, 10), facecolor = None) #set figure size\n",
    "plt.imshow(wordcloud) #shows wordcloud\n",
    "plt.axis('off') #sets axis\n",
    "plt.title('Word Cloud of Positive Tweets'); #plot title"
   ]
  },
  {
   "cell_type": "code",
   "execution_count": 95,
   "id": "15a24989",
   "metadata": {
    "ExecuteTime": {
     "end_time": "2022-12-12T23:31:31.915078Z",
     "start_time": "2022-12-12T23:31:08.136141Z"
    }
   },
   "outputs": [
    {
     "data": {
      "image/png": "[encoded data removed]",
      "text/plain": [
       "<Figure size 432x288 with 1 Axes>"
      ]
     },
     "metadata": {
      "needs_background": "light"
     },
     "output_type": "display_data"
    }
   ],
   "source": [
    "# top 10 word freq for positive tweets  \n",
    "sample_freq_dist = FreqDist(text_data[\"text_without_stopwords\"][text_data['sentiment']==0].explode())\n",
    "visualize_top_10(sample_freq_dist, \"Top 10 Word Frequency Negative Tweets\")"
   ]
  },
  {
   "cell_type": "code",
   "execution_count": 96,
   "id": "db24b885",
   "metadata": {
    "ExecuteTime": {
     "end_time": "2022-12-12T23:31:34.746627Z",
     "start_time": "2022-12-12T23:31:31.920174Z"
    }
   },
   "outputs": [
    {
     "ename": "TypeError",
     "evalue": "sequence item 89103: expected str instance, float found",
     "output_type": "error",
     "traceback": [
      "\u001b[0;31m---------------------------------------------------------------------------\u001b[0m",
      "\u001b[0;31mTypeError\u001b[0m                                 Traceback (most recent call last)",
      "\u001b[0;32m<ipython-input-96-decac90538c6>\u001b[0m in \u001b[0;36m<module>\u001b[0;34m\u001b[0m\n\u001b[1;32m      1\u001b[0m wordcloud = WordCloud(max_words = 200, stopwords = None, collocations = False, width = 600, height = 400, \n\u001b[1;32m      2\u001b[0m                        background_color = 'black', colormap = 'plasma') #Make wordcloud\n\u001b[0;32m----> 3\u001b[0;31m \u001b[0mwordcloud\u001b[0m\u001b[0;34m.\u001b[0m\u001b[0mgenerate\u001b[0m\u001b[0;34m(\u001b[0m\u001b[0;34m\",\"\u001b[0m\u001b[0;34m.\u001b[0m\u001b[0mjoin\u001b[0m\u001b[0;34m(\u001b[0m\u001b[0mtext_data\u001b[0m\u001b[0;34m[\u001b[0m\u001b[0;34m\"text_without_stopwords\"\u001b[0m\u001b[0;34m]\u001b[0m\u001b[0;34m[\u001b[0m\u001b[0mtext_data\u001b[0m\u001b[0;34m[\u001b[0m\u001b[0;34m'sentiment'\u001b[0m\u001b[0;34m]\u001b[0m\u001b[0;34m==\u001b[0m\u001b[0;36m0\u001b[0m\u001b[0;34m]\u001b[0m\u001b[0;34m.\u001b[0m\u001b[0mexplode\u001b[0m\u001b[0;34m(\u001b[0m\u001b[0;34m)\u001b[0m\u001b[0;34m)\u001b[0m\u001b[0;34m)\u001b[0m\u001b[0;34m\u001b[0m\u001b[0;34m\u001b[0m\u001b[0m\n\u001b[0m\u001b[1;32m      4\u001b[0m                     \u001b[0;31m#Generates wordcloud from input list\u001b[0m\u001b[0;34m\u001b[0m\u001b[0;34m\u001b[0m\u001b[0;34m\u001b[0m\u001b[0m\n\u001b[1;32m      5\u001b[0m \u001b[0;34m\u001b[0m\u001b[0m\n",
      "\u001b[0;31mTypeError\u001b[0m: sequence item 89103: expected str instance, float found"
     ]
    }
   ],
   "source": [
    "wordcloud = WordCloud(max_words = 200, stopwords = None, collocations = False, width = 600, height = 400, \n",
    "                       background_color = 'black', colormap = 'plasma') #Make wordcloud\n",
    "wordcloud.generate(\",\".join(text_data[\"text_without_stopwords\"][text_data['sentiment']==0].explode())) \n",
    "                    #Generates wordcloud from input list\n",
    "\n",
    "plt.figure(figsize = (10, 10), facecolor = None) #set figure size\n",
    "plt.imshow(wordcloud) #shows wordcloud\n",
    "plt.axis('off') #sets axis\n",
    "plt.title('Word Cloud of Negative Tweets'); #plot title"
   ]
  },
  {
   "cell_type": "code",
   "execution_count": 100,
   "id": "18c9d70c",
   "metadata": {
    "ExecuteTime": {
     "end_time": "2022-12-12T23:32:23.618470Z",
     "start_time": "2022-12-12T23:32:23.606922Z"
    }
   },
   "outputs": [
    {
     "data": {
      "text/plain": [
       "['live',\n",
       " 'info',\n",
       " 'forex',\n",
       " 'bitcoin',\n",
       " 'bitcoin',\n",
       " 'video',\n",
       " 'boc',\n",
       " 'breaks',\n",
       " 'ranks',\n",
       " 'global',\n",
       " 'central',\n",
       " 'banks',\n",
       " 'loonie',\n",
       " 'soars',\n",
       " 'next',\n",
       " 'lt']"
      ]
     },
     "execution_count": 100,
     "metadata": {},
     "output_type": "execute_result"
    }
   ],
   "source": [
    "text_data['text_without_stopwords'][89103]"
   ]
  },
  {
   "cell_type": "code",
   "execution_count": null,
   "id": "2a314799",
   "metadata": {},
   "outputs": [],
   "source": [
    "#### NEED TO CLEAN ###"
   ]
  },
  {
   "cell_type": "code",
   "execution_count": 238,
   "id": "7ca13f57",
   "metadata": {
    "ExecuteTime": {
     "end_time": "2022-11-28T22:14:26.972088Z",
     "start_time": "2022-11-28T22:10:20.701648Z"
    }
   },
   "outputs": [
    {
     "data": {
      "text/plain": [
       "[('bitcoin', 794774),\n",
       " ('btc', 387515),\n",
       " ('crypto', 216500),\n",
       " ('cryptocurrency', 152141),\n",
       " ('ethereum', 104335),\n",
       " ('eth', 99088),\n",
       " ('bsc', 77311),\n",
       " ('bnb', 77038),\n",
       " ('airdrop', 75359),\n",
       " ('blockchain', 74450),\n",
       " ('binance', 71522),\n",
       " ('dogecoin', 53182),\n",
       " ('defi', 50063),\n",
       " ('doge', 46238),\n",
       " ('airdrops', 44098),\n",
       " ('xrp', 31965),\n",
       " ('cryptocurrencies', 31870),\n",
       " ('binancesmartchain', 29404),\n",
       " ('nft', 29173),\n",
       " ('bitcoinâ', 27928),\n",
       " ('cryptonews', 26363),\n",
       " ('altcoin', 25266),\n",
       " ('trading', 23302),\n",
       " ('ada', 22369),\n",
       " ('pancakeswap', 19873)]"
      ]
     },
     "execution_count": 238,
     "metadata": {},
     "output_type": "execute_result"
    }
   ],
   "source": [
    "# most common hashtags\n",
    "\n",
    "ListOfHashtags = text_data['hashtag'].to_list() #Converting hashtags to list\n",
    "RawHashBag = ','.join(map(str, ListOfHashtags)) #Converting list to bag of words\n",
    "RawHashTokens = word_tokenize(RawHashBag) #Tokenize bag of words\n",
    "\n",
    "hashstops = (list(string.punctuation) + ['“','”','...',\"''\",'’','``',\"'\",',','#','[',']']) #New hashstops\n",
    "\n",
    "def remove_hashstops(bag, stopwords = hashstops): #Defining new stopword removal function\n",
    "    stops_removed = [word.lower() for word in bag if word.lower() not in stopwords] #Remove if in list\n",
    "    return stops_removed #Return lowercase word if not in list\n",
    "\n",
    "CleanHashTokens = remove_hashstops(RawHashTokens) #Remove hashstops from list of cleaned hashtag tokens\n",
    "\n",
    "frequency = FreqDist(CleanHashTokens) #Setting frequency to CleanHashTokens\n",
    "frequency.most_common(25) #Looking at 25 most common tokens"
   ]
  },
  {
   "cell_type": "markdown",
   "id": "f634e479",
   "metadata": {},
   "source": [
    "### Preparing to Model"
   ]
  },
  {
   "cell_type": "code",
   "execution_count": 81,
   "id": "515485c8",
   "metadata": {
    "ExecuteTime": {
     "end_time": "2022-12-12T21:04:19.317349Z",
     "start_time": "2022-12-12T21:04:19.272706Z"
    }
   },
   "outputs": [],
   "source": [
    "''' \n",
    "Function that stores relevant scoring metrics\n",
    "'''\n",
    "\n",
    "def return_scores(y_train, y_hat_train, y_test, y_hat_test):\n",
    "    r_train = recall_score(y_train, y_hat_train)\n",
    "    r_test = recall_score(y_test, y_hat_test)\n",
    "         \n",
    "    f1_train = f1_score(y_train, y_hat_train)\n",
    "    f1_test = f1_score(y_test, y_hat_test)\n",
    "\n",
    "    false_positive_rate, true_positive_rate, thresholds = roc_curve(y_test, y_hat_test)\n",
    "    roc_auc = auc(false_positive_rate, true_positive_rate)\n",
    "    \n",
    "    pr_auc = average_precision_score(y_test, y_hat_test)\n",
    "    \n",
    "    ac_train = accuracy_score(y_train, y_hat_train)\n",
    "    ac_test = accuracy_score(y_test, y_hat_test)\n",
    "    \n",
    "    return r_train, r_test, f1_train, f1_test, ac_train, ac_test, roc_auc, pr_auc"
   ]
  },
  {
   "cell_type": "code",
   "execution_count": 82,
   "id": "cfb8bbca",
   "metadata": {
    "ExecuteTime": {
     "end_time": "2022-12-12T21:04:19.743389Z",
     "start_time": "2022-12-12T21:04:19.533812Z"
    }
   },
   "outputs": [],
   "source": [
    "'''\n",
    "Creates a data frame with various scores for each model\n",
    "'''\n",
    "# column names\n",
    "scores = pd.DataFrame(columns = ['recall_train', 'recall_test', 'f1_train', \n",
    "                                 'f1_test', 'accuracy_train', 'accuracy_test', \n",
    "                                 'roc_auc', 'pr_auc', 'params'])\n",
    "    \n",
    "\n",
    "def scoreTable(model, model_name, y_train, y_hat_train, y_test, y_hat_test):\n",
    "    \n",
    "\n",
    "    # storing scores\n",
    "    r_train, r_test, f1_train, f1_test, ac_train, ac_test, roc_auc, pr_auc = \\\n",
    "    return_scores(y_train, y_hat_train, y_test, y_hat_test)\n",
    "    \n",
    "    # list of scores\n",
    "    score_list = []\n",
    "    score_list.extend((r_train, r_test, f1_train, f1_test, \n",
    "                       ac_train, ac_test, roc_auc, pr_auc, str(model)))\n",
    "    \n",
    "    # adding scores to score table\n",
    "    scores.loc[model_name] = score_list\n",
    "    return scores"
   ]
  },
  {
   "cell_type": "markdown",
   "id": "b2ae3a10",
   "metadata": {},
   "source": [
    "### Train Test Split"
   ]
  },
  {
   "cell_type": "code",
   "execution_count": 47,
   "id": "16e5101f",
   "metadata": {
    "ExecuteTime": {
     "end_time": "2022-12-12T18:57:28.761492Z",
     "start_time": "2022-12-12T18:57:28.214830Z"
    }
   },
   "outputs": [
    {
     "data": {
      "text/html": [
       "<div>\n",
       "<style scoped>\n",
       "    .dataframe tbody tr th:only-of-type {\n",
       "        vertical-align: middle;\n",
       "    }\n",
       "\n",
       "    .dataframe tbody tr th {\n",
       "        vertical-align: top;\n",
       "    }\n",
       "\n",
       "    .dataframe thead th {\n",
       "        text-align: right;\n",
       "    }\n",
       "</style>\n",
       "<table border=\"1\" class=\"dataframe\">\n",
       "  <thead>\n",
       "    <tr style=\"text-align: right;\">\n",
       "      <th></th>\n",
       "      <th>text</th>\n",
       "      <th>date</th>\n",
       "      <th>sentiment</th>\n",
       "      <th>is_retweet</th>\n",
       "      <th>hashtag</th>\n",
       "      <th>text_tokenized</th>\n",
       "      <th>text_without_stopwords</th>\n",
       "      <th>text2</th>\n",
       "    </tr>\n",
       "  </thead>\n",
       "  <tbody>\n",
       "    <tr>\n",
       "      <th>0</th>\n",
       "      <td>blue ridge bank shares halted by nyse after #b...</td>\n",
       "      <td>2021-02-10</td>\n",
       "      <td>0.0</td>\n",
       "      <td>False</td>\n",
       "      <td>[]</td>\n",
       "      <td>[blue, ridge, bank, shares, halted, by, nyse, ...</td>\n",
       "      <td>[blue, ridge, bank, shares, halted, nyse, bitc...</td>\n",
       "      <td>blue ridge bank shares halted by nyse after bi...</td>\n",
       "    </tr>\n",
       "    <tr>\n",
       "      <th>1</th>\n",
       "      <td>ð today, that's this #thursday, we will do ...</td>\n",
       "      <td>2021-02-10</td>\n",
       "      <td>0.0</td>\n",
       "      <td>False</td>\n",
       "      <td>[]</td>\n",
       "      <td>[today, that, this, thursday, we, will, do, ta...</td>\n",
       "      <td>[today, thursday, take, friend, bitcoin, walle...</td>\n",
       "      <td>today that this thursday we will do take with ...</td>\n",
       "    </tr>\n",
       "    <tr>\n",
       "      <th>2</th>\n",
       "      <td>guys evening, i have read this article about b...</td>\n",
       "      <td>2021-02-10</td>\n",
       "      <td>0.0</td>\n",
       "      <td>False</td>\n",
       "      <td>[]</td>\n",
       "      <td>[guys, evening, have, read, this, article, abo...</td>\n",
       "      <td>[guys, evening, read, article, bitcoin, would,...</td>\n",
       "      <td>guys evening have read this article about bitc...</td>\n",
       "    </tr>\n",
       "    <tr>\n",
       "      <th>3</th>\n",
       "      <td>$btc a big chance in a billion! price: \\. (// ...</td>\n",
       "      <td>2021-02-10</td>\n",
       "      <td>0.0</td>\n",
       "      <td>False</td>\n",
       "      <td>[]</td>\n",
       "      <td>[bitcoin, big, chance, in, billion, price, bit...</td>\n",
       "      <td>[bitcoin, big, chance, billion, price, bitcoin...</td>\n",
       "      <td>bitcoin big chance in billion price bitcoin fx...</td>\n",
       "    </tr>\n",
       "    <tr>\n",
       "      <th>4</th>\n",
       "      <td>this network is secured by   nodes as of today...</td>\n",
       "      <td>2021-02-10</td>\n",
       "      <td>0.0</td>\n",
       "      <td>False</td>\n",
       "      <td>[]</td>\n",
       "      <td>[this, network, is, secured, by, nodes, as, of...</td>\n",
       "      <td>[network, secured, nodes, today, soon, biggest...</td>\n",
       "      <td>this network is secured by nodes as of today s...</td>\n",
       "    </tr>\n",
       "  </tbody>\n",
       "</table>\n",
       "</div>"
      ],
      "text/plain": [
       "                                                text        date  sentiment  \\\n",
       "0  blue ridge bank shares halted by nyse after #b...  2021-02-10        0.0   \n",
       "1  ð today, that's this #thursday, we will do ...  2021-02-10        0.0   \n",
       "2  guys evening, i have read this article about b...  2021-02-10        0.0   \n",
       "3  $btc a big chance in a billion! price: \\. (// ...  2021-02-10        0.0   \n",
       "4  this network is secured by   nodes as of today...  2021-02-10        0.0   \n",
       "\n",
       "  is_retweet hashtag                                     text_tokenized  \\\n",
       "0      False      []  [blue, ridge, bank, shares, halted, by, nyse, ...   \n",
       "1      False      []  [today, that, this, thursday, we, will, do, ta...   \n",
       "2      False      []  [guys, evening, have, read, this, article, abo...   \n",
       "3      False      []  [bitcoin, big, chance, in, billion, price, bit...   \n",
       "4      False      []  [this, network, is, secured, by, nodes, as, of...   \n",
       "\n",
       "                              text_without_stopwords  \\\n",
       "0  [blue, ridge, bank, shares, halted, nyse, bitc...   \n",
       "1  [today, thursday, take, friend, bitcoin, walle...   \n",
       "2  [guys, evening, read, article, bitcoin, would,...   \n",
       "3  [bitcoin, big, chance, billion, price, bitcoin...   \n",
       "4  [network, secured, nodes, today, soon, biggest...   \n",
       "\n",
       "                                               text2  \n",
       "0  blue ridge bank shares halted by nyse after bi...  \n",
       "1  today that this thursday we will do take with ...  \n",
       "2  guys evening have read this article about bitc...  \n",
       "3  bitcoin big chance in billion price bitcoin fx...  \n",
       "4  this network is secured by nodes as of today s...  "
      ]
     },
     "execution_count": 47,
     "metadata": {},
     "output_type": "execute_result"
    }
   ],
   "source": [
    "text_data.head()"
   ]
  },
  {
   "cell_type": "code",
   "execution_count": 67,
   "id": "6b4b607b",
   "metadata": {
    "ExecuteTime": {
     "end_time": "2022-12-12T20:49:04.848190Z",
     "start_time": "2022-12-12T20:48:32.378377Z"
    }
   },
   "outputs": [],
   "source": [
    "X = text_data.drop('sentiment', axis=1)\n",
    "y = text_data['sentiment']\n",
    "\n",
    "X_train, X_test, y_train, y_test = train_test_split(X, y, random_state=42)"
   ]
  },
  {
   "cell_type": "code",
   "execution_count": 68,
   "id": "92f94666",
   "metadata": {
    "ExecuteTime": {
     "end_time": "2022-12-12T20:49:05.379856Z",
     "start_time": "2022-12-12T20:49:04.911689Z"
    }
   },
   "outputs": [
    {
     "name": "stdout",
     "output_type": "stream",
     "text": [
      "0.0    0.527191\n",
      "1.0    0.472809\n",
      "Name: sentiment, dtype: float64\n",
      "0.0    0.526648\n",
      "1.0    0.473352\n",
      "Name: sentiment, dtype: float64\n"
     ]
    }
   ],
   "source": [
    "print(y_train.value_counts(normalize=True)) #fairly balanced\n",
    "print(y_test.value_counts(normalize=True))"
   ]
  },
  {
   "cell_type": "markdown",
   "id": "ef49d55d",
   "metadata": {},
   "source": [
    "### Models"
   ]
  },
  {
   "cell_type": "code",
   "execution_count": 69,
   "id": "ae576c0e",
   "metadata": {
    "ExecuteTime": {
     "end_time": "2022-12-12T20:49:46.936337Z",
     "start_time": "2022-12-12T20:49:05.390518Z"
    }
   },
   "outputs": [
    {
     "data": {
      "text/html": [
       "<div>\n",
       "<style scoped>\n",
       "    .dataframe tbody tr th:only-of-type {\n",
       "        vertical-align: middle;\n",
       "    }\n",
       "\n",
       "    .dataframe tbody tr th {\n",
       "        vertical-align: top;\n",
       "    }\n",
       "\n",
       "    .dataframe thead th {\n",
       "        text-align: right;\n",
       "    }\n",
       "</style>\n",
       "<table border=\"1\" class=\"dataframe\">\n",
       "  <thead>\n",
       "    <tr style=\"text-align: right;\">\n",
       "      <th></th>\n",
       "      <th>and</th>\n",
       "      <th>bitcoin</th>\n",
       "      <th>btc</th>\n",
       "      <th>crypto</th>\n",
       "      <th>for</th>\n",
       "      <th>in</th>\n",
       "      <th>is</th>\n",
       "      <th>of</th>\n",
       "      <th>the</th>\n",
       "      <th>to</th>\n",
       "    </tr>\n",
       "  </thead>\n",
       "  <tbody>\n",
       "    <tr>\n",
       "      <th>0</th>\n",
       "      <td>0.000000</td>\n",
       "      <td>0.000000</td>\n",
       "      <td>0.000000</td>\n",
       "      <td>0.000000</td>\n",
       "      <td>0.000000</td>\n",
       "      <td>0.000000</td>\n",
       "      <td>0.000000</td>\n",
       "      <td>0.000000</td>\n",
       "      <td>0.000000</td>\n",
       "      <td>0.000000</td>\n",
       "    </tr>\n",
       "    <tr>\n",
       "      <th>1</th>\n",
       "      <td>0.000000</td>\n",
       "      <td>0.542054</td>\n",
       "      <td>0.400337</td>\n",
       "      <td>0.518461</td>\n",
       "      <td>0.000000</td>\n",
       "      <td>0.000000</td>\n",
       "      <td>0.526409</td>\n",
       "      <td>0.000000</td>\n",
       "      <td>0.000000</td>\n",
       "      <td>0.000000</td>\n",
       "    </tr>\n",
       "    <tr>\n",
       "      <th>2</th>\n",
       "      <td>0.000000</td>\n",
       "      <td>0.379205</td>\n",
       "      <td>0.560128</td>\n",
       "      <td>0.000000</td>\n",
       "      <td>0.000000</td>\n",
       "      <td>0.000000</td>\n",
       "      <td>0.736519</td>\n",
       "      <td>0.000000</td>\n",
       "      <td>0.000000</td>\n",
       "      <td>0.000000</td>\n",
       "    </tr>\n",
       "    <tr>\n",
       "      <th>3</th>\n",
       "      <td>0.000000</td>\n",
       "      <td>0.312480</td>\n",
       "      <td>0.461567</td>\n",
       "      <td>0.000000</td>\n",
       "      <td>0.000000</td>\n",
       "      <td>0.000000</td>\n",
       "      <td>0.000000</td>\n",
       "      <td>0.663909</td>\n",
       "      <td>0.498535</td>\n",
       "      <td>0.000000</td>\n",
       "    </tr>\n",
       "    <tr>\n",
       "      <th>4</th>\n",
       "      <td>0.308514</td>\n",
       "      <td>0.159558</td>\n",
       "      <td>0.000000</td>\n",
       "      <td>0.000000</td>\n",
       "      <td>0.000000</td>\n",
       "      <td>0.324156</td>\n",
       "      <td>0.309905</td>\n",
       "      <td>0.339004</td>\n",
       "      <td>0.509122</td>\n",
       "      <td>0.551465</td>\n",
       "    </tr>\n",
       "    <tr>\n",
       "      <th>...</th>\n",
       "      <td>...</td>\n",
       "      <td>...</td>\n",
       "      <td>...</td>\n",
       "      <td>...</td>\n",
       "      <td>...</td>\n",
       "      <td>...</td>\n",
       "      <td>...</td>\n",
       "      <td>...</td>\n",
       "      <td>...</td>\n",
       "      <td>...</td>\n",
       "    </tr>\n",
       "    <tr>\n",
       "      <th>749980</th>\n",
       "      <td>0.431153</td>\n",
       "      <td>0.222984</td>\n",
       "      <td>0.658746</td>\n",
       "      <td>0.426558</td>\n",
       "      <td>0.000000</td>\n",
       "      <td>0.000000</td>\n",
       "      <td>0.000000</td>\n",
       "      <td>0.000000</td>\n",
       "      <td>0.000000</td>\n",
       "      <td>0.385340</td>\n",
       "    </tr>\n",
       "    <tr>\n",
       "      <th>749981</th>\n",
       "      <td>0.000000</td>\n",
       "      <td>0.000000</td>\n",
       "      <td>0.000000</td>\n",
       "      <td>0.000000</td>\n",
       "      <td>0.808723</td>\n",
       "      <td>0.000000</td>\n",
       "      <td>0.000000</td>\n",
       "      <td>0.000000</td>\n",
       "      <td>0.588190</td>\n",
       "      <td>0.000000</td>\n",
       "    </tr>\n",
       "    <tr>\n",
       "      <th>749982</th>\n",
       "      <td>0.000000</td>\n",
       "      <td>1.000000</td>\n",
       "      <td>0.000000</td>\n",
       "      <td>0.000000</td>\n",
       "      <td>0.000000</td>\n",
       "      <td>0.000000</td>\n",
       "      <td>0.000000</td>\n",
       "      <td>0.000000</td>\n",
       "      <td>0.000000</td>\n",
       "      <td>0.000000</td>\n",
       "    </tr>\n",
       "    <tr>\n",
       "      <th>749983</th>\n",
       "      <td>0.000000</td>\n",
       "      <td>0.000000</td>\n",
       "      <td>0.361747</td>\n",
       "      <td>0.468484</td>\n",
       "      <td>0.000000</td>\n",
       "      <td>0.000000</td>\n",
       "      <td>0.475666</td>\n",
       "      <td>0.520329</td>\n",
       "      <td>0.390719</td>\n",
       "      <td>0.000000</td>\n",
       "    </tr>\n",
       "    <tr>\n",
       "      <th>749984</th>\n",
       "      <td>0.000000</td>\n",
       "      <td>0.209244</td>\n",
       "      <td>0.309077</td>\n",
       "      <td>0.400273</td>\n",
       "      <td>0.458995</td>\n",
       "      <td>0.425097</td>\n",
       "      <td>0.000000</td>\n",
       "      <td>0.444570</td>\n",
       "      <td>0.333831</td>\n",
       "      <td>0.000000</td>\n",
       "    </tr>\n",
       "  </tbody>\n",
       "</table>\n",
       "<p>749985 rows × 10 columns</p>\n",
       "</div>"
      ],
      "text/plain": [
       "             and   bitcoin       btc    crypto       for        in        is  \\\n",
       "0       0.000000  0.000000  0.000000  0.000000  0.000000  0.000000  0.000000   \n",
       "1       0.000000  0.542054  0.400337  0.518461  0.000000  0.000000  0.526409   \n",
       "2       0.000000  0.379205  0.560128  0.000000  0.000000  0.000000  0.736519   \n",
       "3       0.000000  0.312480  0.461567  0.000000  0.000000  0.000000  0.000000   \n",
       "4       0.308514  0.159558  0.000000  0.000000  0.000000  0.324156  0.309905   \n",
       "...          ...       ...       ...       ...       ...       ...       ...   \n",
       "749980  0.431153  0.222984  0.658746  0.426558  0.000000  0.000000  0.000000   \n",
       "749981  0.000000  0.000000  0.000000  0.000000  0.808723  0.000000  0.000000   \n",
       "749982  0.000000  1.000000  0.000000  0.000000  0.000000  0.000000  0.000000   \n",
       "749983  0.000000  0.000000  0.361747  0.468484  0.000000  0.000000  0.475666   \n",
       "749984  0.000000  0.209244  0.309077  0.400273  0.458995  0.425097  0.000000   \n",
       "\n",
       "              of       the        to  \n",
       "0       0.000000  0.000000  0.000000  \n",
       "1       0.000000  0.000000  0.000000  \n",
       "2       0.000000  0.000000  0.000000  \n",
       "3       0.663909  0.498535  0.000000  \n",
       "4       0.339004  0.509122  0.551465  \n",
       "...          ...       ...       ...  \n",
       "749980  0.000000  0.000000  0.385340  \n",
       "749981  0.000000  0.588190  0.000000  \n",
       "749982  0.000000  0.000000  0.000000  \n",
       "749983  0.520329  0.390719  0.000000  \n",
       "749984  0.444570  0.333831  0.000000  \n",
       "\n",
       "[749985 rows x 10 columns]"
      ]
     },
     "execution_count": 69,
     "metadata": {},
     "output_type": "execute_result"
    }
   ],
   "source": [
    "tfidf = TfidfVectorizer(max_features=10)\n",
    "\n",
    "# Fit the vectorizer on X_train[\"text\"] and transform it\n",
    "X_train_vectorized = tfidf.fit(X_train['text']).transform(X_train['text']) # run on non-tokenized text\n",
    "\n",
    "# Visually inspect the 10 most common words\n",
    "pd.DataFrame.sparse.from_spmatrix(X_train_vectorized, columns=tfidf.get_feature_names())"
   ]
  },
  {
   "cell_type": "code",
   "execution_count": 70,
   "id": "cebebc64",
   "metadata": {
    "ExecuteTime": {
     "end_time": "2022-12-12T20:49:46.982079Z",
     "start_time": "2022-12-12T20:49:46.951022Z"
    }
   },
   "outputs": [],
   "source": [
    "# We should still have the same number of rows\n",
    "assert X_train_vectorized.shape[0] == X_train.shape[0]\n",
    "\n",
    "# The vectorized version should have 10 columns, since we set\n",
    "# max_features=10\n",
    "assert X_train_vectorized.shape[1] == 10"
   ]
  },
  {
   "cell_type": "markdown",
   "id": "70999076",
   "metadata": {},
   "source": [
    "#### Baseline"
   ]
  },
  {
   "cell_type": "code",
   "execution_count": 71,
   "id": "690dc3de",
   "metadata": {
    "ExecuteTime": {
     "end_time": "2022-12-12T20:49:49.179692Z",
     "start_time": "2022-12-12T20:49:46.985635Z"
    }
   },
   "outputs": [
    {
     "data": {
      "text/plain": [
       "array([0.61998573, 0.61863237, 0.61932572, 0.62060575, 0.61970573])"
      ]
     },
     "execution_count": 71,
     "metadata": {},
     "output_type": "execute_result"
    }
   ],
   "source": [
    "# Instantiate a MultinomialNB classifier\n",
    "baseline_model = MultinomialNB()\n",
    "\n",
    "# Evaluate the classifier on X_train_vectorized and y_train\n",
    "baseline_cv = cross_val_score(baseline_model, X_train_vectorized, y_train)\n",
    "baseline_cv"
   ]
  },
  {
   "cell_type": "markdown",
   "id": "0c065ecc",
   "metadata": {},
   "source": [
    "#### Pipelines"
   ]
  },
  {
   "cell_type": "markdown",
   "id": "cf62ef66",
   "metadata": {},
   "source": [
    "##### Prepping the Vectorizers"
   ]
  },
  {
   "cell_type": "code",
   "execution_count": 72,
   "id": "8be26321",
   "metadata": {
    "ExecuteTime": {
     "end_time": "2022-12-12T20:49:49.327786Z",
     "start_time": "2022-12-12T20:49:49.215939Z"
    }
   },
   "outputs": [],
   "source": [
    "# Snowball Stemmer\n",
    "\n",
    "stemmer = SnowballStemmer(language=\"english\")\n",
    "\n",
    "def stem_and_tokenize(document):\n",
    "    tokens = tokenizer.tokenize(document)\n",
    "    return [stemmer.stem(token) for token in tokens]"
   ]
  },
  {
   "cell_type": "code",
   "execution_count": null,
   "id": "155e17c4",
   "metadata": {},
   "outputs": [],
   "source": [
    "# number of sentences - do i need this? maybe we just do number of words?\n",
    "#from nltk.tokenize import sent_tokenize\n",
    "#X_train[\"num_sentences\"] = X_train[\"text\"].apply(lambda x: len(sent_tokenize(x)))"
   ]
  },
  {
   "cell_type": "code",
   "execution_count": 78,
   "id": "a4f05f49",
   "metadata": {
    "ExecuteTime": {
     "end_time": "2022-12-12T21:00:49.708303Z",
     "start_time": "2022-12-12T21:00:43.130583Z"
    }
   },
   "outputs": [],
   "source": [
    "glove = {}\n",
    "with open('data/glove.6B.50d.txt', 'rb') as f:\n",
    "    for line in f:\n",
    "        parts = line.split()\n",
    "        word = parts[0].decode('utf-8')\n",
    "        if word in total_vocabulary:\n",
    "            vector = np.array(parts[1:], dtype=np.float32)\n",
    "            glove[word] = vector"
   ]
  },
  {
   "cell_type": "code",
   "execution_count": 313,
   "id": "63bac54d",
   "metadata": {
    "ExecuteTime": {
     "end_time": "2022-12-09T18:23:10.448037Z",
     "start_time": "2022-12-09T18:12:10.106674Z"
    }
   },
   "outputs": [
    {
     "data": {
      "text/plain": [
       "array([0.60387208, 0.60453876, 0.60488543, 0.60501877, 0.60291873])"
      ]
     },
     "execution_count": 313,
     "metadata": {},
     "output_type": "execute_result"
    }
   ],
   "source": [
    "# revisit this later\n",
    "X_train_tokenized = X_train['text'].map(word_tokenize)\n",
    "model_wv = Word2Vec(X_train_tokenized, size=100, window=5, min_count=1, workers=4)\n",
    "model_wv.train(X_train_tokenized, total_examples=model_wv.corpus_count, epochs=10)\n",
    "wv = model_wv.wv\n",
    "\n",
    "model_wv_cv = cross_val_score(model_wv, wv, y_train)\n",
    "model_wv_cv"
   ]
  },
  {
   "cell_type": "code",
   "execution_count": 79,
   "id": "29b181a0",
   "metadata": {
    "ExecuteTime": {
     "end_time": "2022-12-12T21:00:53.189639Z",
     "start_time": "2022-12-12T21:00:49.737702Z"
    }
   },
   "outputs": [],
   "source": [
    "class W2vVectorizer(object):\n",
    "    \n",
    "    def __init__(self, w2v):\n",
    "        # Takes in a dictionary of words and vectors as input\n",
    "        self.w2v = w2v\n",
    "        if len(w2v) == 0:\n",
    "            self.dimensions = 0\n",
    "        else:\n",
    "            self.dimensions = len(w2v[next(iter(glove))])\n",
    "    \n",
    "    # Note: Even though it doesn't do anything, it's required that this object implement a fit method or else\n",
    "    # it can't be used in a scikit-learn pipeline  \n",
    "    def fit(self, X, y):\n",
    "        return self\n",
    "            \n",
    "    def transform(self, X):\n",
    "        return np.array([\n",
    "            np.mean([self.w2v[w] for w in words if w in self.w2v]\n",
    "                   or [np.zeros(self.dimensions)], axis=0) for words in X])"
   ]
  },
  {
   "cell_type": "code",
   "execution_count": 77,
   "id": "6864fcc3",
   "metadata": {
    "ExecuteTime": {
     "end_time": "2022-12-12T21:00:43.057319Z",
     "start_time": "2022-12-12T20:52:06.980002Z"
    }
   },
   "outputs": [
    {
     "name": "stdout",
     "output_type": "stream",
     "text": [
      "There are 267670 unique tokens in the dataset.\n"
     ]
    }
   ],
   "source": [
    "X_train_tokenized = X_train['text'].map(word_tokenize)\n",
    "total_vocabulary = set(word for row in X_train_tokenized for word in row)\n",
    "len(total_vocabulary)\n",
    "print('There are {} unique tokens in the dataset.'.format(len(total_vocabulary)))"
   ]
  },
  {
   "cell_type": "code",
   "execution_count": null,
   "id": "7de163c8",
   "metadata": {},
   "outputs": [],
   "source": [
    "# word to vectorizer with glove\n",
    "w2v_glove = W2vVectorizer(glove)\n",
    "\n",
    "# word to vec\n",
    "w2v = \n",
    "\n",
    "# tfidf base\n",
    "tfidf = TfidfVectorizer(max_features=10)\n",
    "\n",
    "# tfidf w/ 50 max features, stopwords removed\n",
    "tdidf_50 = TfidfVectorizer(max_features=50, stop_words=stopwords_list)\n",
    "\n",
    "# tfidf w/ 100 max features, stopwords removed\n",
    "tfidf_100 = TfidfVectorizer(max_features=100,stop_words=stopwords_list)"
   ]
  },
  {
   "cell_type": "markdown",
   "id": "344b6d76",
   "metadata": {},
   "source": [
    "##### Storing and Executing Pipelines"
   ]
  },
  {
   "cell_type": "code",
   "execution_count": null,
   "id": "bec98785",
   "metadata": {},
   "outputs": [],
   "source": [
    "rf =  Pipeline([('Word2Vec Vectorizer', W2vVectorizer(glove)),\n",
    "              ('Random Forest', RandomForestClassifier(n_estimators=100, \n",
    "                                                       verbose=True))])\n",
    "svc = Pipeline([('Word2Vec Vectorizer', W2vVectorizer(glove)),\n",
    "                ('Support Vector Machine', SVC())])\n",
    "lr = Pipeline([('Word2Vec Vectorizer', W2vVectorizer(glove)),\n",
    "              ('Logistic Regression', LogisticRegression())])"
   ]
  },
  {
   "cell_type": "code",
   "execution_count": null,
   "id": "b8ffc737",
   "metadata": {},
   "outputs": [],
   "source": [
    "models = [('Random Forest', rf),\n",
    "          ('Support Vector Machine', svc),\n",
    "          ('Logistic Regression', lr)]"
   ]
  },
  {
   "cell_type": "code",
   "execution_count": null,
   "id": "851553b1",
   "metadata": {},
   "outputs": [],
   "source": [
    "scores = [(name, cross_val_score(model, data, target, cv=2).mean()) for name, model, in models]"
   ]
  },
  {
   "cell_type": "markdown",
   "id": "ee997e8e",
   "metadata": {},
   "source": [
    "#### Model Tuning"
   ]
  },
  {
   "cell_type": "code",
   "execution_count": 75,
   "id": "7da4044b",
   "metadata": {
    "ExecuteTime": {
     "end_time": "2022-12-12T20:50:56.591361Z",
     "start_time": "2022-12-12T20:50:36.917129Z"
    }
   },
   "outputs": [
    {
     "data": {
      "text/html": [
       "<div>\n",
       "<style scoped>\n",
       "    .dataframe tbody tr th:only-of-type {\n",
       "        vertical-align: middle;\n",
       "    }\n",
       "\n",
       "    .dataframe tbody tr th {\n",
       "        vertical-align: top;\n",
       "    }\n",
       "\n",
       "    .dataframe thead th {\n",
       "        text-align: right;\n",
       "    }\n",
       "</style>\n",
       "<table border=\"1\" class=\"dataframe\">\n",
       "  <thead>\n",
       "    <tr style=\"text-align: right;\">\n",
       "      <th></th>\n",
       "      <th>airdrop</th>\n",
       "      <th>amp</th>\n",
       "      <th>binance</th>\n",
       "      <th>bitcoin</th>\n",
       "      <th>blockchain</th>\n",
       "      <th>bnb</th>\n",
       "      <th>bsc</th>\n",
       "      <th>btc</th>\n",
       "      <th>buy</th>\n",
       "      <th>crypto</th>\n",
       "      <th>cryptocurrency</th>\n",
       "      <th>defi</th>\n",
       "      <th>doge</th>\n",
       "      <th>dogecoin</th>\n",
       "      <th>eth</th>\n",
       "      <th>ethereum</th>\n",
       "      <th>get</th>\n",
       "      <th>good</th>\n",
       "      <th>price</th>\n",
       "      <th>project</th>\n",
       "    </tr>\n",
       "  </thead>\n",
       "  <tbody>\n",
       "    <tr>\n",
       "      <th>0</th>\n",
       "      <td>0.000000</td>\n",
       "      <td>0.0</td>\n",
       "      <td>0.0</td>\n",
       "      <td>0.000000</td>\n",
       "      <td>0.000000</td>\n",
       "      <td>0.0</td>\n",
       "      <td>0.00000</td>\n",
       "      <td>0.000000</td>\n",
       "      <td>0.00000</td>\n",
       "      <td>0.000000</td>\n",
       "      <td>0.000000</td>\n",
       "      <td>0.000000</td>\n",
       "      <td>0.000000</td>\n",
       "      <td>0.000000</td>\n",
       "      <td>0.000000</td>\n",
       "      <td>0.000000</td>\n",
       "      <td>0.0</td>\n",
       "      <td>0.0</td>\n",
       "      <td>0.0</td>\n",
       "      <td>0.000000</td>\n",
       "    </tr>\n",
       "    <tr>\n",
       "      <th>1</th>\n",
       "      <td>0.000000</td>\n",
       "      <td>0.0</td>\n",
       "      <td>0.0</td>\n",
       "      <td>0.367582</td>\n",
       "      <td>0.515910</td>\n",
       "      <td>0.0</td>\n",
       "      <td>0.00000</td>\n",
       "      <td>0.271480</td>\n",
       "      <td>0.00000</td>\n",
       "      <td>0.351583</td>\n",
       "      <td>0.418549</td>\n",
       "      <td>0.000000</td>\n",
       "      <td>0.000000</td>\n",
       "      <td>0.000000</td>\n",
       "      <td>0.000000</td>\n",
       "      <td>0.475630</td>\n",
       "      <td>0.0</td>\n",
       "      <td>0.0</td>\n",
       "      <td>0.0</td>\n",
       "      <td>0.000000</td>\n",
       "    </tr>\n",
       "    <tr>\n",
       "      <th>2</th>\n",
       "      <td>0.000000</td>\n",
       "      <td>0.0</td>\n",
       "      <td>0.0</td>\n",
       "      <td>0.560608</td>\n",
       "      <td>0.000000</td>\n",
       "      <td>0.0</td>\n",
       "      <td>0.00000</td>\n",
       "      <td>0.828081</td>\n",
       "      <td>0.00000</td>\n",
       "      <td>0.000000</td>\n",
       "      <td>0.000000</td>\n",
       "      <td>0.000000</td>\n",
       "      <td>0.000000</td>\n",
       "      <td>0.000000</td>\n",
       "      <td>0.000000</td>\n",
       "      <td>0.000000</td>\n",
       "      <td>0.0</td>\n",
       "      <td>0.0</td>\n",
       "      <td>0.0</td>\n",
       "      <td>0.000000</td>\n",
       "    </tr>\n",
       "    <tr>\n",
       "      <th>3</th>\n",
       "      <td>0.000000</td>\n",
       "      <td>0.0</td>\n",
       "      <td>0.0</td>\n",
       "      <td>0.147746</td>\n",
       "      <td>0.000000</td>\n",
       "      <td>0.0</td>\n",
       "      <td>0.00000</td>\n",
       "      <td>0.218237</td>\n",
       "      <td>0.47032</td>\n",
       "      <td>0.000000</td>\n",
       "      <td>0.000000</td>\n",
       "      <td>0.000000</td>\n",
       "      <td>0.459305</td>\n",
       "      <td>0.465175</td>\n",
       "      <td>0.368513</td>\n",
       "      <td>0.382350</td>\n",
       "      <td>0.0</td>\n",
       "      <td>0.0</td>\n",
       "      <td>0.0</td>\n",
       "      <td>0.000000</td>\n",
       "    </tr>\n",
       "    <tr>\n",
       "      <th>4</th>\n",
       "      <td>0.560314</td>\n",
       "      <td>0.0</td>\n",
       "      <td>0.0</td>\n",
       "      <td>0.194015</td>\n",
       "      <td>0.000000</td>\n",
       "      <td>0.0</td>\n",
       "      <td>0.00000</td>\n",
       "      <td>0.000000</td>\n",
       "      <td>0.00000</td>\n",
       "      <td>0.000000</td>\n",
       "      <td>0.000000</td>\n",
       "      <td>0.613894</td>\n",
       "      <td>0.000000</td>\n",
       "      <td>0.000000</td>\n",
       "      <td>0.000000</td>\n",
       "      <td>0.000000</td>\n",
       "      <td>0.0</td>\n",
       "      <td>0.0</td>\n",
       "      <td>0.0</td>\n",
       "      <td>0.521095</td>\n",
       "    </tr>\n",
       "    <tr>\n",
       "      <th>...</th>\n",
       "      <td>...</td>\n",
       "      <td>...</td>\n",
       "      <td>...</td>\n",
       "      <td>...</td>\n",
       "      <td>...</td>\n",
       "      <td>...</td>\n",
       "      <td>...</td>\n",
       "      <td>...</td>\n",
       "      <td>...</td>\n",
       "      <td>...</td>\n",
       "      <td>...</td>\n",
       "      <td>...</td>\n",
       "      <td>...</td>\n",
       "      <td>...</td>\n",
       "      <td>...</td>\n",
       "      <td>...</td>\n",
       "      <td>...</td>\n",
       "      <td>...</td>\n",
       "      <td>...</td>\n",
       "      <td>...</td>\n",
       "    </tr>\n",
       "    <tr>\n",
       "      <th>749980</th>\n",
       "      <td>0.000000</td>\n",
       "      <td>0.0</td>\n",
       "      <td>0.0</td>\n",
       "      <td>0.232038</td>\n",
       "      <td>0.000000</td>\n",
       "      <td>0.0</td>\n",
       "      <td>0.00000</td>\n",
       "      <td>0.685493</td>\n",
       "      <td>0.00000</td>\n",
       "      <td>0.443878</td>\n",
       "      <td>0.528423</td>\n",
       "      <td>0.000000</td>\n",
       "      <td>0.000000</td>\n",
       "      <td>0.000000</td>\n",
       "      <td>0.000000</td>\n",
       "      <td>0.000000</td>\n",
       "      <td>0.0</td>\n",
       "      <td>0.0</td>\n",
       "      <td>0.0</td>\n",
       "      <td>0.000000</td>\n",
       "    </tr>\n",
       "    <tr>\n",
       "      <th>749981</th>\n",
       "      <td>0.000000</td>\n",
       "      <td>0.0</td>\n",
       "      <td>0.0</td>\n",
       "      <td>0.000000</td>\n",
       "      <td>0.000000</td>\n",
       "      <td>0.0</td>\n",
       "      <td>0.00000</td>\n",
       "      <td>0.000000</td>\n",
       "      <td>0.00000</td>\n",
       "      <td>0.000000</td>\n",
       "      <td>0.000000</td>\n",
       "      <td>0.000000</td>\n",
       "      <td>0.000000</td>\n",
       "      <td>0.000000</td>\n",
       "      <td>0.000000</td>\n",
       "      <td>0.000000</td>\n",
       "      <td>0.0</td>\n",
       "      <td>0.0</td>\n",
       "      <td>0.0</td>\n",
       "      <td>0.000000</td>\n",
       "    </tr>\n",
       "    <tr>\n",
       "      <th>749982</th>\n",
       "      <td>0.742301</td>\n",
       "      <td>0.0</td>\n",
       "      <td>0.0</td>\n",
       "      <td>0.128515</td>\n",
       "      <td>0.000000</td>\n",
       "      <td>0.0</td>\n",
       "      <td>0.36532</td>\n",
       "      <td>0.000000</td>\n",
       "      <td>0.00000</td>\n",
       "      <td>0.000000</td>\n",
       "      <td>0.292668</td>\n",
       "      <td>0.000000</td>\n",
       "      <td>0.000000</td>\n",
       "      <td>0.000000</td>\n",
       "      <td>0.320546</td>\n",
       "      <td>0.332582</td>\n",
       "      <td>0.0</td>\n",
       "      <td>0.0</td>\n",
       "      <td>0.0</td>\n",
       "      <td>0.000000</td>\n",
       "    </tr>\n",
       "    <tr>\n",
       "      <th>749983</th>\n",
       "      <td>0.000000</td>\n",
       "      <td>0.0</td>\n",
       "      <td>0.0</td>\n",
       "      <td>0.000000</td>\n",
       "      <td>0.645565</td>\n",
       "      <td>0.0</td>\n",
       "      <td>0.00000</td>\n",
       "      <td>0.339706</td>\n",
       "      <td>0.00000</td>\n",
       "      <td>0.439940</td>\n",
       "      <td>0.523735</td>\n",
       "      <td>0.000000</td>\n",
       "      <td>0.000000</td>\n",
       "      <td>0.000000</td>\n",
       "      <td>0.000000</td>\n",
       "      <td>0.000000</td>\n",
       "      <td>0.0</td>\n",
       "      <td>0.0</td>\n",
       "      <td>0.0</td>\n",
       "      <td>0.000000</td>\n",
       "    </tr>\n",
       "    <tr>\n",
       "      <th>749984</th>\n",
       "      <td>0.000000</td>\n",
       "      <td>0.0</td>\n",
       "      <td>0.0</td>\n",
       "      <td>0.130864</td>\n",
       "      <td>0.000000</td>\n",
       "      <td>0.0</td>\n",
       "      <td>0.00000</td>\n",
       "      <td>0.193300</td>\n",
       "      <td>0.00000</td>\n",
       "      <td>0.250336</td>\n",
       "      <td>0.298017</td>\n",
       "      <td>0.000000</td>\n",
       "      <td>0.406822</td>\n",
       "      <td>0.412021</td>\n",
       "      <td>0.000000</td>\n",
       "      <td>0.677320</td>\n",
       "      <td>0.0</td>\n",
       "      <td>0.0</td>\n",
       "      <td>0.0</td>\n",
       "      <td>0.000000</td>\n",
       "    </tr>\n",
       "  </tbody>\n",
       "</table>\n",
       "<p>749985 rows × 20 columns</p>\n",
       "</div>"
      ],
      "text/plain": [
       "         airdrop  amp  binance   bitcoin  blockchain  bnb      bsc       btc  \\\n",
       "0       0.000000  0.0      0.0  0.000000    0.000000  0.0  0.00000  0.000000   \n",
       "1       0.000000  0.0      0.0  0.367582    0.515910  0.0  0.00000  0.271480   \n",
       "2       0.000000  0.0      0.0  0.560608    0.000000  0.0  0.00000  0.828081   \n",
       "3       0.000000  0.0      0.0  0.147746    0.000000  0.0  0.00000  0.218237   \n",
       "4       0.560314  0.0      0.0  0.194015    0.000000  0.0  0.00000  0.000000   \n",
       "...          ...  ...      ...       ...         ...  ...      ...       ...   \n",
       "749980  0.000000  0.0      0.0  0.232038    0.000000  0.0  0.00000  0.685493   \n",
       "749981  0.000000  0.0      0.0  0.000000    0.000000  0.0  0.00000  0.000000   \n",
       "749982  0.742301  0.0      0.0  0.128515    0.000000  0.0  0.36532  0.000000   \n",
       "749983  0.000000  0.0      0.0  0.000000    0.645565  0.0  0.00000  0.339706   \n",
       "749984  0.000000  0.0      0.0  0.130864    0.000000  0.0  0.00000  0.193300   \n",
       "\n",
       "            buy    crypto  cryptocurrency      defi      doge  dogecoin  \\\n",
       "0       0.00000  0.000000        0.000000  0.000000  0.000000  0.000000   \n",
       "1       0.00000  0.351583        0.418549  0.000000  0.000000  0.000000   \n",
       "2       0.00000  0.000000        0.000000  0.000000  0.000000  0.000000   \n",
       "3       0.47032  0.000000        0.000000  0.000000  0.459305  0.465175   \n",
       "4       0.00000  0.000000        0.000000  0.613894  0.000000  0.000000   \n",
       "...         ...       ...             ...       ...       ...       ...   \n",
       "749980  0.00000  0.443878        0.528423  0.000000  0.000000  0.000000   \n",
       "749981  0.00000  0.000000        0.000000  0.000000  0.000000  0.000000   \n",
       "749982  0.00000  0.000000        0.292668  0.000000  0.000000  0.000000   \n",
       "749983  0.00000  0.439940        0.523735  0.000000  0.000000  0.000000   \n",
       "749984  0.00000  0.250336        0.298017  0.000000  0.406822  0.412021   \n",
       "\n",
       "             eth  ethereum  get  good  price   project  \n",
       "0       0.000000  0.000000  0.0   0.0    0.0  0.000000  \n",
       "1       0.000000  0.475630  0.0   0.0    0.0  0.000000  \n",
       "2       0.000000  0.000000  0.0   0.0    0.0  0.000000  \n",
       "3       0.368513  0.382350  0.0   0.0    0.0  0.000000  \n",
       "4       0.000000  0.000000  0.0   0.0    0.0  0.521095  \n",
       "...          ...       ...  ...   ...    ...       ...  \n",
       "749980  0.000000  0.000000  0.0   0.0    0.0  0.000000  \n",
       "749981  0.000000  0.000000  0.0   0.0    0.0  0.000000  \n",
       "749982  0.320546  0.332582  0.0   0.0    0.0  0.000000  \n",
       "749983  0.000000  0.000000  0.0   0.0    0.0  0.000000  \n",
       "749984  0.000000  0.677320  0.0   0.0    0.0  0.000000  \n",
       "\n",
       "[749985 rows x 20 columns]"
      ]
     },
     "execution_count": 75,
     "metadata": {},
     "output_type": "execute_result"
    }
   ],
   "source": [
    "# Instantiate the vectorizer\n",
    "tfidf = TfidfVectorizer(\n",
    "    max_features=20,\n",
    "    stop_words=stopwords_list,\n",
    ")\n",
    "\n",
    "# Fit the vectorizer on X_train[\"text\"] and transform it\n",
    "X_train_vectorized = tfidf.fit_transform(X_train['text'])\n",
    "\n",
    "# Visually inspect the vectorized data\n",
    "pd.DataFrame.sparse.from_spmatrix(X_train_vectorized, columns=tfidf.get_feature_names())"
   ]
  },
  {
   "cell_type": "code",
   "execution_count": 76,
   "id": "c35cf410",
   "metadata": {
    "ExecuteTime": {
     "end_time": "2022-12-12T20:50:58.047891Z",
     "start_time": "2022-12-12T20:50:56.594726Z"
    }
   },
   "outputs": [
    {
     "data": {
      "text/plain": [
       "array([0.63872611, 0.63721274, 0.63870611, 0.6399928 , 0.63730608])"
      ]
     },
     "execution_count": 76,
     "metadata": {},
     "output_type": "execute_result"
    }
   ],
   "source": [
    "# Instantiate a MultinomialNB classifier\n",
    "model_1 = MultinomialNB()\n",
    "\n",
    "# Evaluate the classifier on X_train_vectorized and y_train\n",
    "model_1_cv = cross_val_score(model_1, X_train_vectorized, y_train)\n",
    "model_1_cv"
   ]
  },
  {
   "cell_type": "code",
   "execution_count": null,
   "id": "e84b4ff5",
   "metadata": {},
   "outputs": [],
   "source": [
    "# word2vec"
   ]
  },
  {
   "cell_type": "code",
   "execution_count": 320,
   "id": "8aafb0b0",
   "metadata": {
    "ExecuteTime": {
     "end_time": "2022-12-09T19:08:54.456660Z",
     "start_time": "2022-12-09T18:44:46.194876Z"
    }
   },
   "outputs": [
    {
     "name": "stderr",
     "output_type": "stream",
     "text": [
      "[Parallel(n_jobs=1)]: Using backend SequentialBackend with 1 concurrent workers.\n",
      "[Parallel(n_jobs=1)]: Done 100 out of 100 | elapsed: 10.8min finished\n",
      "[Parallel(n_jobs=1)]: Using backend SequentialBackend with 1 concurrent workers.\n",
      "[Parallel(n_jobs=1)]: Done 100 out of 100 | elapsed:   21.1s finished\n",
      "[Parallel(n_jobs=1)]: Using backend SequentialBackend with 1 concurrent workers.\n",
      "[Parallel(n_jobs=1)]: Done 100 out of 100 | elapsed: 10.7min finished\n",
      "[Parallel(n_jobs=1)]: Using backend SequentialBackend with 1 concurrent workers.\n",
      "[Parallel(n_jobs=1)]: Done 100 out of 100 | elapsed:   20.3s finished\n"
     ]
    }
   ],
   "source": [
    "rf =  Pipeline([('Word2Vec Vectorizer', W2vVectorizer(glove)),\n",
    "              ('Random Forest', RandomForestClassifier(n_estimators=100, verbose=True))])\n",
    "\n",
    "models = [('Random Forest', rf)]\n",
    "\n",
    "scores = [(name, cross_val_score(model, X_train_tokenized, y_train, cv=2).mean()) \\\n",
    "          for name, model, in models]"
   ]
  },
  {
   "cell_type": "code",
   "execution_count": 321,
   "id": "2b970968",
   "metadata": {
    "ExecuteTime": {
     "end_time": "2022-12-09T19:08:54.835178Z",
     "start_time": "2022-12-09T19:08:54.568132Z"
    }
   },
   "outputs": [
    {
     "data": {
      "text/plain": [
       "[('Random Forest', 0.7643725286649151)]"
      ]
     },
     "execution_count": 321,
     "metadata": {},
     "output_type": "execute_result"
    }
   ],
   "source": [
    "scores"
   ]
  },
  {
   "cell_type": "code",
   "execution_count": 86,
   "id": "6a6cf5f7",
   "metadata": {
    "ExecuteTime": {
     "end_time": "2022-12-12T21:54:18.053640Z",
     "start_time": "2022-12-12T21:51:20.942599Z"
    }
   },
   "outputs": [
    {
     "data": {
      "text/html": [
       "<div>\n",
       "<style scoped>\n",
       "    .dataframe tbody tr th:only-of-type {\n",
       "        vertical-align: middle;\n",
       "    }\n",
       "\n",
       "    .dataframe tbody tr th {\n",
       "        vertical-align: top;\n",
       "    }\n",
       "\n",
       "    .dataframe thead th {\n",
       "        text-align: right;\n",
       "    }\n",
       "</style>\n",
       "<table border=\"1\" class=\"dataframe\">\n",
       "  <thead>\n",
       "    <tr style=\"text-align: right;\">\n",
       "      <th></th>\n",
       "      <th>recall_train</th>\n",
       "      <th>recall_test</th>\n",
       "      <th>f1_train</th>\n",
       "      <th>f1_test</th>\n",
       "      <th>accuracy_train</th>\n",
       "      <th>accuracy_test</th>\n",
       "      <th>roc_auc</th>\n",
       "      <th>pr_auc</th>\n",
       "      <th>params</th>\n",
       "    </tr>\n",
       "  </thead>\n",
       "  <tbody>\n",
       "    <tr>\n",
       "      <th>tdidf_rf</th>\n",
       "      <td>0.671046</td>\n",
       "      <td>0.616042</td>\n",
       "      <td>0.778288</td>\n",
       "      <td>0.719609</td>\n",
       "      <td>0.819234</td>\n",
       "      <td>0.772756</td>\n",
       "      <td>0.764827</td>\n",
       "      <td>0.714645</td>\n",
       "      <td>Pipeline(steps=[('Vector',\\n                 T...</td>\n",
       "    </tr>\n",
       "    <tr>\n",
       "      <th>tdidf_lr2</th>\n",
       "      <td>0.487118</td>\n",
       "      <td>0.489124</td>\n",
       "      <td>0.617232</td>\n",
       "      <td>0.618661</td>\n",
       "      <td>0.714348</td>\n",
       "      <td>0.714575</td>\n",
       "      <td>0.703168</td>\n",
       "      <td>0.653435</td>\n",
       "      <td>Pipeline(steps=[('Vector',\\n                 T...</td>\n",
       "    </tr>\n",
       "    <tr>\n",
       "      <th>tdidf_lr</th>\n",
       "      <td>0.599078</td>\n",
       "      <td>0.601423</td>\n",
       "      <td>0.717772</td>\n",
       "      <td>0.719754</td>\n",
       "      <td>0.777253</td>\n",
       "      <td>0.778308</td>\n",
       "      <td>0.769358</td>\n",
       "      <td>0.727575</td>\n",
       "      <td>Pipeline(steps=[('Vector',\\n                 T...</td>\n",
       "    </tr>\n",
       "  </tbody>\n",
       "</table>\n",
       "</div>"
      ],
      "text/plain": [
       "           recall_train  recall_test  f1_train   f1_test  accuracy_train  \\\n",
       "tdidf_rf       0.671046     0.616042  0.778288  0.719609        0.819234   \n",
       "tdidf_lr2      0.487118     0.489124  0.617232  0.618661        0.714348   \n",
       "tdidf_lr       0.599078     0.601423  0.717772  0.719754        0.777253   \n",
       "\n",
       "           accuracy_test   roc_auc    pr_auc  \\\n",
       "tdidf_rf        0.772756  0.764827  0.714645   \n",
       "tdidf_lr2       0.714575  0.703168  0.653435   \n",
       "tdidf_lr        0.778308  0.769358  0.727575   \n",
       "\n",
       "                                                      params  \n",
       "tdidf_rf   Pipeline(steps=[('Vector',\\n                 T...  \n",
       "tdidf_lr2  Pipeline(steps=[('Vector',\\n                 T...  \n",
       "tdidf_lr   Pipeline(steps=[('Vector',\\n                 T...  "
      ]
     },
     "metadata": {},
     "output_type": "display_data"
    },
    {
     "name": "stderr",
     "output_type": "stream",
     "text": [
      "/Users/natalyadoris/opt/anaconda3/envs/learn-env/lib/python3.8/site-packages/sklearn/linear_model/_logistic.py:762: ConvergenceWarning: lbfgs failed to converge (status=1):\n",
      "STOP: TOTAL NO. of ITERATIONS REACHED LIMIT.\n",
      "\n",
      "Increase the number of iterations (max_iter) or scale the data as shown in:\n",
      "    https://scikit-learn.org/stable/modules/preprocessing.html\n",
      "Please also refer to the documentation for alternative solver options:\n",
      "    https://scikit-learn.org/stable/modules/linear_model.html#logistic-regression\n",
      "  n_iter_i = _check_optimize_result(\n",
      "/Users/natalyadoris/opt/anaconda3/envs/learn-env/lib/python3.8/site-packages/sklearn/linear_model/_logistic.py:762: ConvergenceWarning: lbfgs failed to converge (status=1):\n",
      "STOP: TOTAL NO. of ITERATIONS REACHED LIMIT.\n",
      "\n",
      "Increase the number of iterations (max_iter) or scale the data as shown in:\n",
      "    https://scikit-learn.org/stable/modules/preprocessing.html\n",
      "Please also refer to the documentation for alternative solver options:\n",
      "    https://scikit-learn.org/stable/modules/linear_model.html#logistic-regression\n",
      "  n_iter_i = _check_optimize_result(\n"
     ]
    },
    {
     "data": {
      "text/plain": [
       "array([0.77848224, 0.77734221, 0.77728888, 0.77754888, 0.77743555])"
      ]
     },
     "metadata": {},
     "output_type": "display_data"
    }
   ],
   "source": [
    "# prep pipeline\n",
    "\n",
    "pipe1 = Pipeline([\n",
    "    ('Vector', TfidfVectorizer(max_features=100, stop_words=stopwords_list)), \n",
    "    ('Classifier', LogisticRegression()), \n",
    "]) #Creating Logistic Regression pipeline with Tfidf vectorizer\n",
    "\n",
    "pipe1.fit(X_train['text'], y_train)\n",
    "\n",
    "y_hat_train = pipe1.predict(X_train['text'])\n",
    "y_hat_test = pipe1.predict(X_test['text'])\n",
    "\n",
    "display(scoreTable(pipe1, 'tdidf_lr', y_train, y_hat_train, y_test, y_hat_test))\n",
    "display(cross_val_score(pipe1, X_train['text'], y_train))"
   ]
  },
  {
   "cell_type": "code",
   "execution_count": 329,
   "id": "586ba990",
   "metadata": {
    "ExecuteTime": {
     "end_time": "2022-12-09T20:15:14.283349Z",
     "start_time": "2022-12-09T20:14:50.743794Z"
    }
   },
   "outputs": [
    {
     "data": {
      "text/html": [
       "<div>\n",
       "<style scoped>\n",
       "    .dataframe tbody tr th:only-of-type {\n",
       "        vertical-align: middle;\n",
       "    }\n",
       "\n",
       "    .dataframe tbody tr th {\n",
       "        vertical-align: top;\n",
       "    }\n",
       "\n",
       "    .dataframe thead th {\n",
       "        text-align: right;\n",
       "    }\n",
       "</style>\n",
       "<table border=\"1\" class=\"dataframe\">\n",
       "  <thead>\n",
       "    <tr style=\"text-align: right;\">\n",
       "      <th></th>\n",
       "      <th>recall_train</th>\n",
       "      <th>recall_test</th>\n",
       "      <th>f1_train</th>\n",
       "      <th>f1_test</th>\n",
       "      <th>accuracy_train</th>\n",
       "      <th>accuracy_test</th>\n",
       "      <th>roc_auc</th>\n",
       "      <th>pr_auc</th>\n",
       "      <th>params</th>\n",
       "    </tr>\n",
       "  </thead>\n",
       "  <tbody>\n",
       "    <tr>\n",
       "      <th>tdidf_lr</th>\n",
       "      <td>0.348017</td>\n",
       "      <td>0.349082</td>\n",
       "      <td>0.464255</td>\n",
       "      <td>0.465606</td>\n",
       "      <td>0.620232</td>\n",
       "      <td>0.620698</td>\n",
       "      <td>0.606954</td>\n",
       "      <td>0.552085</td>\n",
       "      <td>Pipeline(steps=[('Vector',\\n                 T...</td>\n",
       "    </tr>\n",
       "  </tbody>\n",
       "</table>\n",
       "</div>"
      ],
      "text/plain": [
       "          recall_train  recall_test  f1_train   f1_test  accuracy_train  \\\n",
       "tdidf_lr      0.348017     0.349082  0.464255  0.465606        0.620232   \n",
       "\n",
       "          accuracy_test   roc_auc    pr_auc  \\\n",
       "tdidf_lr       0.620698  0.606954  0.552085   \n",
       "\n",
       "                                                     params  \n",
       "tdidf_lr  Pipeline(steps=[('Vector',\\n                 T...  "
      ]
     },
     "execution_count": 329,
     "metadata": {},
     "output_type": "execute_result"
    }
   ],
   "source": [
    "#scoreTable(pipe1, 'tdidf_lr', y_train, y_hat_train, y_test, y_hat_test)"
   ]
  },
  {
   "cell_type": "code",
   "execution_count": 85,
   "id": "1bd5997c",
   "metadata": {
    "ExecuteTime": {
     "end_time": "2022-12-12T21:50:49.086475Z",
     "start_time": "2022-12-12T21:49:53.801696Z"
    }
   },
   "outputs": [
    {
     "data": {
      "text/html": [
       "<div>\n",
       "<style scoped>\n",
       "    .dataframe tbody tr th:only-of-type {\n",
       "        vertical-align: middle;\n",
       "    }\n",
       "\n",
       "    .dataframe tbody tr th {\n",
       "        vertical-align: top;\n",
       "    }\n",
       "\n",
       "    .dataframe thead th {\n",
       "        text-align: right;\n",
       "    }\n",
       "</style>\n",
       "<table border=\"1\" class=\"dataframe\">\n",
       "  <thead>\n",
       "    <tr style=\"text-align: right;\">\n",
       "      <th></th>\n",
       "      <th>recall_train</th>\n",
       "      <th>recall_test</th>\n",
       "      <th>f1_train</th>\n",
       "      <th>f1_test</th>\n",
       "      <th>accuracy_train</th>\n",
       "      <th>accuracy_test</th>\n",
       "      <th>roc_auc</th>\n",
       "      <th>pr_auc</th>\n",
       "      <th>params</th>\n",
       "    </tr>\n",
       "  </thead>\n",
       "  <tbody>\n",
       "    <tr>\n",
       "      <th>tdidf_rf</th>\n",
       "      <td>0.671046</td>\n",
       "      <td>0.616042</td>\n",
       "      <td>0.778288</td>\n",
       "      <td>0.719609</td>\n",
       "      <td>0.819234</td>\n",
       "      <td>0.772756</td>\n",
       "      <td>0.764827</td>\n",
       "      <td>0.714645</td>\n",
       "      <td>Pipeline(steps=[('Vector',\\n                 T...</td>\n",
       "    </tr>\n",
       "    <tr>\n",
       "      <th>tdidf_lr2</th>\n",
       "      <td>0.487118</td>\n",
       "      <td>0.489124</td>\n",
       "      <td>0.617232</td>\n",
       "      <td>0.618661</td>\n",
       "      <td>0.714348</td>\n",
       "      <td>0.714575</td>\n",
       "      <td>0.703168</td>\n",
       "      <td>0.653435</td>\n",
       "      <td>Pipeline(steps=[('Vector',\\n                 T...</td>\n",
       "    </tr>\n",
       "  </tbody>\n",
       "</table>\n",
       "</div>"
      ],
      "text/plain": [
       "           recall_train  recall_test  f1_train   f1_test  accuracy_train  \\\n",
       "tdidf_rf       0.671046     0.616042  0.778288  0.719609        0.819234   \n",
       "tdidf_lr2      0.487118     0.489124  0.617232  0.618661        0.714348   \n",
       "\n",
       "           accuracy_test   roc_auc    pr_auc  \\\n",
       "tdidf_rf        0.772756  0.764827  0.714645   \n",
       "tdidf_lr2       0.714575  0.703168  0.653435   \n",
       "\n",
       "                                                      params  \n",
       "tdidf_rf   Pipeline(steps=[('Vector',\\n                 T...  \n",
       "tdidf_lr2  Pipeline(steps=[('Vector',\\n                 T...  "
      ]
     },
     "metadata": {},
     "output_type": "display_data"
    }
   ],
   "source": [
    "pipe2 = Pipeline([\n",
    "    ('Vector', TfidfVectorizer(max_features=50,stop_words=stopwords_list)), \n",
    "    ('Classifier', LogisticRegression(solver='lbfgs', C=1e12, penalty='l2')), \n",
    "]) #Creating Logistic Regression pipeline with Tfidf vectorizer\n",
    "\n",
    "pipe2.fit(X_train['text'], y_train)\n",
    "\n",
    "y_hat_train = pipe2.predict(X_train['text'])\n",
    "y_hat_test = pipe2.predict(X_test['text'])\n",
    "\n",
    "display(scoreTable(pipe2, 'tdidf_lr2', y_train, y_hat_train, y_test, y_hat_test))"
   ]
  },
  {
   "cell_type": "code",
   "execution_count": 84,
   "id": "7aa0d532",
   "metadata": {
    "ExecuteTime": {
     "end_time": "2022-12-12T21:47:14.345347Z",
     "start_time": "2022-12-12T21:05:09.008969Z"
    }
   },
   "outputs": [
    {
     "name": "stderr",
     "output_type": "stream",
     "text": [
      "[Parallel(n_jobs=1)]: Using backend SequentialBackend with 1 concurrent workers.\n",
      "[Parallel(n_jobs=1)]: Done 100 out of 100 | elapsed: 40.1min finished\n",
      "[Parallel(n_jobs=1)]: Using backend SequentialBackend with 1 concurrent workers.\n",
      "[Parallel(n_jobs=1)]: Done 100 out of 100 | elapsed:   41.0s finished\n",
      "[Parallel(n_jobs=1)]: Using backend SequentialBackend with 1 concurrent workers.\n",
      "[Parallel(n_jobs=1)]: Done 100 out of 100 | elapsed:   15.6s finished\n"
     ]
    },
    {
     "data": {
      "text/html": [
       "<div>\n",
       "<style scoped>\n",
       "    .dataframe tbody tr th:only-of-type {\n",
       "        vertical-align: middle;\n",
       "    }\n",
       "\n",
       "    .dataframe tbody tr th {\n",
       "        vertical-align: top;\n",
       "    }\n",
       "\n",
       "    .dataframe thead th {\n",
       "        text-align: right;\n",
       "    }\n",
       "</style>\n",
       "<table border=\"1\" class=\"dataframe\">\n",
       "  <thead>\n",
       "    <tr style=\"text-align: right;\">\n",
       "      <th></th>\n",
       "      <th>recall_train</th>\n",
       "      <th>recall_test</th>\n",
       "      <th>f1_train</th>\n",
       "      <th>f1_test</th>\n",
       "      <th>accuracy_train</th>\n",
       "      <th>accuracy_test</th>\n",
       "      <th>roc_auc</th>\n",
       "      <th>pr_auc</th>\n",
       "      <th>params</th>\n",
       "    </tr>\n",
       "  </thead>\n",
       "  <tbody>\n",
       "    <tr>\n",
       "      <th>tdidf_rf</th>\n",
       "      <td>0.671046</td>\n",
       "      <td>0.616042</td>\n",
       "      <td>0.778288</td>\n",
       "      <td>0.719609</td>\n",
       "      <td>0.819234</td>\n",
       "      <td>0.772756</td>\n",
       "      <td>0.764827</td>\n",
       "      <td>0.714645</td>\n",
       "      <td>Pipeline(steps=[('Vector',\\n                 T...</td>\n",
       "    </tr>\n",
       "  </tbody>\n",
       "</table>\n",
       "</div>"
      ],
      "text/plain": [
       "          recall_train  recall_test  f1_train   f1_test  accuracy_train  \\\n",
       "tdidf_rf      0.671046     0.616042  0.778288  0.719609        0.819234   \n",
       "\n",
       "          accuracy_test   roc_auc    pr_auc  \\\n",
       "tdidf_rf       0.772756  0.764827  0.714645   \n",
       "\n",
       "                                                     params  \n",
       "tdidf_rf  Pipeline(steps=[('Vector',\\n                 T...  "
      ]
     },
     "metadata": {},
     "output_type": "display_data"
    }
   ],
   "source": [
    "# 30min runtime\n",
    "pipe3 = Pipeline([\n",
    "    ('Vector', TfidfVectorizer(max_features=50,stop_words=stopwords_list)), \n",
    "    ('Classifier', RandomForestClassifier(n_estimators=100, verbose=True)), \n",
    "]) #Creating Logistic Regression pipeline with Tfidf vectorizer\n",
    "\n",
    "pipe3.fit(X_train['text'], y_train)\n",
    "\n",
    "y_hat_train = pipe3.predict(X_train['text'])\n",
    "y_hat_test = pipe3.predict(X_test['text'])\n",
    "\n",
    "display(scoreTable(pipe3, 'tdidf_rf', y_train, y_hat_train, y_test, y_hat_test))"
   ]
  },
  {
   "cell_type": "code",
   "execution_count": null,
   "id": "becb554b",
   "metadata": {},
   "outputs": [],
   "source": [
    "## deal with these later - super long runtime / not sure which X_train\n",
    "## to use\n",
    "\n",
    "# random forest is likely causing long runtime"
   ]
  },
  {
   "cell_type": "code",
   "execution_count": 342,
   "id": "e37ff7fc",
   "metadata": {
    "ExecuteTime": {
     "end_time": "2022-12-09T21:03:09.171196Z",
     "start_time": "2022-12-09T20:54:33.375007Z"
    }
   },
   "outputs": [
    {
     "name": "stderr",
     "output_type": "stream",
     "text": [
      "[Parallel(n_jobs=1)]: Using backend SequentialBackend with 1 concurrent workers.\n"
     ]
    },
    {
     "ename": "KeyboardInterrupt",
     "evalue": "",
     "output_type": "error",
     "traceback": [
      "\u001b[0;31m---------------------------------------------------------------------------\u001b[0m",
      "\u001b[0;31mKeyboardInterrupt\u001b[0m                         Traceback (most recent call last)",
      "\u001b[0;32m<ipython-input-342-fa7edb23819d>\u001b[0m in \u001b[0;36m<module>\u001b[0;34m\u001b[0m\n\u001b[1;32m      4\u001b[0m                                                              verbose=True))])\n\u001b[1;32m      5\u001b[0m \u001b[0;34m\u001b[0m\u001b[0m\n\u001b[0;32m----> 6\u001b[0;31m \u001b[0mw2v_rf\u001b[0m\u001b[0;34m.\u001b[0m\u001b[0mfit\u001b[0m\u001b[0;34m(\u001b[0m\u001b[0mX_train_tokenized\u001b[0m\u001b[0;34m,\u001b[0m \u001b[0my_train\u001b[0m\u001b[0;34m)\u001b[0m\u001b[0;34m\u001b[0m\u001b[0;34m\u001b[0m\u001b[0m\n\u001b[0m\u001b[1;32m      7\u001b[0m \u001b[0;34m\u001b[0m\u001b[0m\n\u001b[1;32m      8\u001b[0m \u001b[0my_hat_train\u001b[0m \u001b[0;34m=\u001b[0m \u001b[0mw2v_rf\u001b[0m\u001b[0;34m.\u001b[0m\u001b[0mpredict\u001b[0m\u001b[0;34m(\u001b[0m\u001b[0mX_train_tokenized\u001b[0m\u001b[0;34m)\u001b[0m\u001b[0;34m\u001b[0m\u001b[0;34m\u001b[0m\u001b[0m\n",
      "\u001b[0;32m~/opt/anaconda3/envs/learn-env/lib/python3.8/site-packages/sklearn/pipeline.py\u001b[0m in \u001b[0;36mfit\u001b[0;34m(self, X, y, **fit_params)\u001b[0m\n\u001b[1;32m    333\u001b[0m             \u001b[0;32mif\u001b[0m \u001b[0mself\u001b[0m\u001b[0;34m.\u001b[0m\u001b[0m_final_estimator\u001b[0m \u001b[0;34m!=\u001b[0m \u001b[0;34m'passthrough'\u001b[0m\u001b[0;34m:\u001b[0m\u001b[0;34m\u001b[0m\u001b[0;34m\u001b[0m\u001b[0m\n\u001b[1;32m    334\u001b[0m                 \u001b[0mfit_params_last_step\u001b[0m \u001b[0;34m=\u001b[0m \u001b[0mfit_params_steps\u001b[0m\u001b[0;34m[\u001b[0m\u001b[0mself\u001b[0m\u001b[0;34m.\u001b[0m\u001b[0msteps\u001b[0m\u001b[0;34m[\u001b[0m\u001b[0;34m-\u001b[0m\u001b[0;36m1\u001b[0m\u001b[0;34m]\u001b[0m\u001b[0;34m[\u001b[0m\u001b[0;36m0\u001b[0m\u001b[0;34m]\u001b[0m\u001b[0;34m]\u001b[0m\u001b[0;34m\u001b[0m\u001b[0;34m\u001b[0m\u001b[0m\n\u001b[0;32m--> 335\u001b[0;31m                 \u001b[0mself\u001b[0m\u001b[0;34m.\u001b[0m\u001b[0m_final_estimator\u001b[0m\u001b[0;34m.\u001b[0m\u001b[0mfit\u001b[0m\u001b[0;34m(\u001b[0m\u001b[0mXt\u001b[0m\u001b[0;34m,\u001b[0m \u001b[0my\u001b[0m\u001b[0;34m,\u001b[0m \u001b[0;34m**\u001b[0m\u001b[0mfit_params_last_step\u001b[0m\u001b[0;34m)\u001b[0m\u001b[0;34m\u001b[0m\u001b[0;34m\u001b[0m\u001b[0m\n\u001b[0m\u001b[1;32m    336\u001b[0m \u001b[0;34m\u001b[0m\u001b[0m\n\u001b[1;32m    337\u001b[0m         \u001b[0;32mreturn\u001b[0m \u001b[0mself\u001b[0m\u001b[0;34m\u001b[0m\u001b[0;34m\u001b[0m\u001b[0m\n",
      "\u001b[0;32m~/opt/anaconda3/envs/learn-env/lib/python3.8/site-packages/sklearn/ensemble/_forest.py\u001b[0m in \u001b[0;36mfit\u001b[0;34m(self, X, y, sample_weight)\u001b[0m\n\u001b[1;32m    384\u001b[0m             \u001b[0;31m# parallel_backend contexts set at a higher level,\u001b[0m\u001b[0;34m\u001b[0m\u001b[0;34m\u001b[0m\u001b[0;34m\u001b[0m\u001b[0m\n\u001b[1;32m    385\u001b[0m             \u001b[0;31m# since correctness does not rely on using threads.\u001b[0m\u001b[0;34m\u001b[0m\u001b[0;34m\u001b[0m\u001b[0;34m\u001b[0m\u001b[0m\n\u001b[0;32m--> 386\u001b[0;31m             trees = Parallel(n_jobs=self.n_jobs, verbose=self.verbose,\n\u001b[0m\u001b[1;32m    387\u001b[0m                              \u001b[0;34m**\u001b[0m\u001b[0m_joblib_parallel_args\u001b[0m\u001b[0;34m(\u001b[0m\u001b[0mprefer\u001b[0m\u001b[0;34m=\u001b[0m\u001b[0;34m'threads'\u001b[0m\u001b[0;34m)\u001b[0m\u001b[0;34m)\u001b[0m\u001b[0;34m(\u001b[0m\u001b[0;34m\u001b[0m\u001b[0;34m\u001b[0m\u001b[0m\n\u001b[1;32m    388\u001b[0m                 delayed(_parallel_build_trees)(\n",
      "\u001b[0;32m~/opt/anaconda3/envs/learn-env/lib/python3.8/site-packages/joblib/parallel.py\u001b[0m in \u001b[0;36m__call__\u001b[0;34m(self, iterable)\u001b[0m\n\u001b[1;32m   1049\u001b[0m                 \u001b[0mself\u001b[0m\u001b[0;34m.\u001b[0m\u001b[0m_iterating\u001b[0m \u001b[0;34m=\u001b[0m \u001b[0mself\u001b[0m\u001b[0;34m.\u001b[0m\u001b[0m_original_iterator\u001b[0m \u001b[0;32mis\u001b[0m \u001b[0;32mnot\u001b[0m \u001b[0;32mNone\u001b[0m\u001b[0;34m\u001b[0m\u001b[0;34m\u001b[0m\u001b[0m\n\u001b[1;32m   1050\u001b[0m \u001b[0;34m\u001b[0m\u001b[0m\n\u001b[0;32m-> 1051\u001b[0;31m             \u001b[0;32mwhile\u001b[0m \u001b[0mself\u001b[0m\u001b[0;34m.\u001b[0m\u001b[0mdispatch_one_batch\u001b[0m\u001b[0;34m(\u001b[0m\u001b[0miterator\u001b[0m\u001b[0;34m)\u001b[0m\u001b[0;34m:\u001b[0m\u001b[0;34m\u001b[0m\u001b[0;34m\u001b[0m\u001b[0m\n\u001b[0m\u001b[1;32m   1052\u001b[0m                 \u001b[0;32mpass\u001b[0m\u001b[0;34m\u001b[0m\u001b[0;34m\u001b[0m\u001b[0m\n\u001b[1;32m   1053\u001b[0m \u001b[0;34m\u001b[0m\u001b[0m\n",
      "\u001b[0;32m~/opt/anaconda3/envs/learn-env/lib/python3.8/site-packages/joblib/parallel.py\u001b[0m in \u001b[0;36mdispatch_one_batch\u001b[0;34m(self, iterator)\u001b[0m\n\u001b[1;32m    864\u001b[0m                 \u001b[0;32mreturn\u001b[0m \u001b[0;32mFalse\u001b[0m\u001b[0;34m\u001b[0m\u001b[0;34m\u001b[0m\u001b[0m\n\u001b[1;32m    865\u001b[0m             \u001b[0;32melse\u001b[0m\u001b[0;34m:\u001b[0m\u001b[0;34m\u001b[0m\u001b[0;34m\u001b[0m\u001b[0m\n\u001b[0;32m--> 866\u001b[0;31m                 \u001b[0mself\u001b[0m\u001b[0;34m.\u001b[0m\u001b[0m_dispatch\u001b[0m\u001b[0;34m(\u001b[0m\u001b[0mtasks\u001b[0m\u001b[0;34m)\u001b[0m\u001b[0;34m\u001b[0m\u001b[0;34m\u001b[0m\u001b[0m\n\u001b[0m\u001b[1;32m    867\u001b[0m                 \u001b[0;32mreturn\u001b[0m \u001b[0;32mTrue\u001b[0m\u001b[0;34m\u001b[0m\u001b[0;34m\u001b[0m\u001b[0m\n\u001b[1;32m    868\u001b[0m \u001b[0;34m\u001b[0m\u001b[0m\n",
      "\u001b[0;32m~/opt/anaconda3/envs/learn-env/lib/python3.8/site-packages/joblib/parallel.py\u001b[0m in \u001b[0;36m_dispatch\u001b[0;34m(self, batch)\u001b[0m\n\u001b[1;32m    782\u001b[0m         \u001b[0;32mwith\u001b[0m \u001b[0mself\u001b[0m\u001b[0;34m.\u001b[0m\u001b[0m_lock\u001b[0m\u001b[0;34m:\u001b[0m\u001b[0;34m\u001b[0m\u001b[0;34m\u001b[0m\u001b[0m\n\u001b[1;32m    783\u001b[0m             \u001b[0mjob_idx\u001b[0m \u001b[0;34m=\u001b[0m \u001b[0mlen\u001b[0m\u001b[0;34m(\u001b[0m\u001b[0mself\u001b[0m\u001b[0;34m.\u001b[0m\u001b[0m_jobs\u001b[0m\u001b[0;34m)\u001b[0m\u001b[0;34m\u001b[0m\u001b[0;34m\u001b[0m\u001b[0m\n\u001b[0;32m--> 784\u001b[0;31m             \u001b[0mjob\u001b[0m \u001b[0;34m=\u001b[0m \u001b[0mself\u001b[0m\u001b[0;34m.\u001b[0m\u001b[0m_backend\u001b[0m\u001b[0;34m.\u001b[0m\u001b[0mapply_async\u001b[0m\u001b[0;34m(\u001b[0m\u001b[0mbatch\u001b[0m\u001b[0;34m,\u001b[0m \u001b[0mcallback\u001b[0m\u001b[0;34m=\u001b[0m\u001b[0mcb\u001b[0m\u001b[0;34m)\u001b[0m\u001b[0;34m\u001b[0m\u001b[0;34m\u001b[0m\u001b[0m\n\u001b[0m\u001b[1;32m    785\u001b[0m             \u001b[0;31m# A job can complete so quickly than its callback is\u001b[0m\u001b[0;34m\u001b[0m\u001b[0;34m\u001b[0m\u001b[0;34m\u001b[0m\u001b[0m\n\u001b[1;32m    786\u001b[0m             \u001b[0;31m# called before we get here, causing self._jobs to\u001b[0m\u001b[0;34m\u001b[0m\u001b[0;34m\u001b[0m\u001b[0;34m\u001b[0m\u001b[0m\n",
      "\u001b[0;32m~/opt/anaconda3/envs/learn-env/lib/python3.8/site-packages/joblib/_parallel_backends.py\u001b[0m in \u001b[0;36mapply_async\u001b[0;34m(self, func, callback)\u001b[0m\n\u001b[1;32m    206\u001b[0m     \u001b[0;32mdef\u001b[0m \u001b[0mapply_async\u001b[0m\u001b[0;34m(\u001b[0m\u001b[0mself\u001b[0m\u001b[0;34m,\u001b[0m \u001b[0mfunc\u001b[0m\u001b[0;34m,\u001b[0m \u001b[0mcallback\u001b[0m\u001b[0;34m=\u001b[0m\u001b[0;32mNone\u001b[0m\u001b[0;34m)\u001b[0m\u001b[0;34m:\u001b[0m\u001b[0;34m\u001b[0m\u001b[0;34m\u001b[0m\u001b[0m\n\u001b[1;32m    207\u001b[0m         \u001b[0;34m\"\"\"Schedule a func to be run\"\"\"\u001b[0m\u001b[0;34m\u001b[0m\u001b[0;34m\u001b[0m\u001b[0m\n\u001b[0;32m--> 208\u001b[0;31m         \u001b[0mresult\u001b[0m \u001b[0;34m=\u001b[0m \u001b[0mImmediateResult\u001b[0m\u001b[0;34m(\u001b[0m\u001b[0mfunc\u001b[0m\u001b[0;34m)\u001b[0m\u001b[0;34m\u001b[0m\u001b[0;34m\u001b[0m\u001b[0m\n\u001b[0m\u001b[1;32m    209\u001b[0m         \u001b[0;32mif\u001b[0m \u001b[0mcallback\u001b[0m\u001b[0;34m:\u001b[0m\u001b[0;34m\u001b[0m\u001b[0;34m\u001b[0m\u001b[0m\n\u001b[1;32m    210\u001b[0m             \u001b[0mcallback\u001b[0m\u001b[0;34m(\u001b[0m\u001b[0mresult\u001b[0m\u001b[0;34m)\u001b[0m\u001b[0;34m\u001b[0m\u001b[0;34m\u001b[0m\u001b[0m\n",
      "\u001b[0;32m~/opt/anaconda3/envs/learn-env/lib/python3.8/site-packages/joblib/_parallel_backends.py\u001b[0m in \u001b[0;36m__init__\u001b[0;34m(self, batch)\u001b[0m\n\u001b[1;32m    570\u001b[0m         \u001b[0;31m# Don't delay the application, to avoid keeping the input\u001b[0m\u001b[0;34m\u001b[0m\u001b[0;34m\u001b[0m\u001b[0;34m\u001b[0m\u001b[0m\n\u001b[1;32m    571\u001b[0m         \u001b[0;31m# arguments in memory\u001b[0m\u001b[0;34m\u001b[0m\u001b[0;34m\u001b[0m\u001b[0;34m\u001b[0m\u001b[0m\n\u001b[0;32m--> 572\u001b[0;31m         \u001b[0mself\u001b[0m\u001b[0;34m.\u001b[0m\u001b[0mresults\u001b[0m \u001b[0;34m=\u001b[0m \u001b[0mbatch\u001b[0m\u001b[0;34m(\u001b[0m\u001b[0;34m)\u001b[0m\u001b[0;34m\u001b[0m\u001b[0;34m\u001b[0m\u001b[0m\n\u001b[0m\u001b[1;32m    573\u001b[0m \u001b[0;34m\u001b[0m\u001b[0m\n\u001b[1;32m    574\u001b[0m     \u001b[0;32mdef\u001b[0m \u001b[0mget\u001b[0m\u001b[0;34m(\u001b[0m\u001b[0mself\u001b[0m\u001b[0;34m)\u001b[0m\u001b[0;34m:\u001b[0m\u001b[0;34m\u001b[0m\u001b[0;34m\u001b[0m\u001b[0m\n",
      "\u001b[0;32m~/opt/anaconda3/envs/learn-env/lib/python3.8/site-packages/joblib/parallel.py\u001b[0m in \u001b[0;36m__call__\u001b[0;34m(self)\u001b[0m\n\u001b[1;32m    260\u001b[0m         \u001b[0;31m# change the default number of processes to -1\u001b[0m\u001b[0;34m\u001b[0m\u001b[0;34m\u001b[0m\u001b[0;34m\u001b[0m\u001b[0m\n\u001b[1;32m    261\u001b[0m         \u001b[0;32mwith\u001b[0m \u001b[0mparallel_backend\u001b[0m\u001b[0;34m(\u001b[0m\u001b[0mself\u001b[0m\u001b[0;34m.\u001b[0m\u001b[0m_backend\u001b[0m\u001b[0;34m,\u001b[0m \u001b[0mn_jobs\u001b[0m\u001b[0;34m=\u001b[0m\u001b[0mself\u001b[0m\u001b[0;34m.\u001b[0m\u001b[0m_n_jobs\u001b[0m\u001b[0;34m)\u001b[0m\u001b[0;34m:\u001b[0m\u001b[0;34m\u001b[0m\u001b[0;34m\u001b[0m\u001b[0m\n\u001b[0;32m--> 262\u001b[0;31m             return [func(*args, **kwargs)\n\u001b[0m\u001b[1;32m    263\u001b[0m                     for func, args, kwargs in self.items]\n\u001b[1;32m    264\u001b[0m \u001b[0;34m\u001b[0m\u001b[0m\n",
      "\u001b[0;32m~/opt/anaconda3/envs/learn-env/lib/python3.8/site-packages/joblib/parallel.py\u001b[0m in \u001b[0;36m<listcomp>\u001b[0;34m(.0)\u001b[0m\n\u001b[1;32m    260\u001b[0m         \u001b[0;31m# change the default number of processes to -1\u001b[0m\u001b[0;34m\u001b[0m\u001b[0;34m\u001b[0m\u001b[0;34m\u001b[0m\u001b[0m\n\u001b[1;32m    261\u001b[0m         \u001b[0;32mwith\u001b[0m \u001b[0mparallel_backend\u001b[0m\u001b[0;34m(\u001b[0m\u001b[0mself\u001b[0m\u001b[0;34m.\u001b[0m\u001b[0m_backend\u001b[0m\u001b[0;34m,\u001b[0m \u001b[0mn_jobs\u001b[0m\u001b[0;34m=\u001b[0m\u001b[0mself\u001b[0m\u001b[0;34m.\u001b[0m\u001b[0m_n_jobs\u001b[0m\u001b[0;34m)\u001b[0m\u001b[0;34m:\u001b[0m\u001b[0;34m\u001b[0m\u001b[0;34m\u001b[0m\u001b[0m\n\u001b[0;32m--> 262\u001b[0;31m             return [func(*args, **kwargs)\n\u001b[0m\u001b[1;32m    263\u001b[0m                     for func, args, kwargs in self.items]\n\u001b[1;32m    264\u001b[0m \u001b[0;34m\u001b[0m\u001b[0m\n",
      "\u001b[0;32m~/opt/anaconda3/envs/learn-env/lib/python3.8/site-packages/sklearn/ensemble/_forest.py\u001b[0m in \u001b[0;36m_parallel_build_trees\u001b[0;34m(tree, forest, X, y, sample_weight, tree_idx, n_trees, verbose, class_weight, n_samples_bootstrap)\u001b[0m\n\u001b[1;32m    166\u001b[0m                                                         indices=indices)\n\u001b[1;32m    167\u001b[0m \u001b[0;34m\u001b[0m\u001b[0m\n\u001b[0;32m--> 168\u001b[0;31m         \u001b[0mtree\u001b[0m\u001b[0;34m.\u001b[0m\u001b[0mfit\u001b[0m\u001b[0;34m(\u001b[0m\u001b[0mX\u001b[0m\u001b[0;34m,\u001b[0m \u001b[0my\u001b[0m\u001b[0;34m,\u001b[0m \u001b[0msample_weight\u001b[0m\u001b[0;34m=\u001b[0m\u001b[0mcurr_sample_weight\u001b[0m\u001b[0;34m,\u001b[0m \u001b[0mcheck_input\u001b[0m\u001b[0;34m=\u001b[0m\u001b[0;32mFalse\u001b[0m\u001b[0;34m)\u001b[0m\u001b[0;34m\u001b[0m\u001b[0;34m\u001b[0m\u001b[0m\n\u001b[0m\u001b[1;32m    169\u001b[0m     \u001b[0;32melse\u001b[0m\u001b[0;34m:\u001b[0m\u001b[0;34m\u001b[0m\u001b[0;34m\u001b[0m\u001b[0m\n\u001b[1;32m    170\u001b[0m         \u001b[0mtree\u001b[0m\u001b[0;34m.\u001b[0m\u001b[0mfit\u001b[0m\u001b[0;34m(\u001b[0m\u001b[0mX\u001b[0m\u001b[0;34m,\u001b[0m \u001b[0my\u001b[0m\u001b[0;34m,\u001b[0m \u001b[0msample_weight\u001b[0m\u001b[0;34m=\u001b[0m\u001b[0msample_weight\u001b[0m\u001b[0;34m,\u001b[0m \u001b[0mcheck_input\u001b[0m\u001b[0;34m=\u001b[0m\u001b[0;32mFalse\u001b[0m\u001b[0;34m)\u001b[0m\u001b[0;34m\u001b[0m\u001b[0;34m\u001b[0m\u001b[0m\n",
      "\u001b[0;32m~/opt/anaconda3/envs/learn-env/lib/python3.8/site-packages/sklearn/tree/_classes.py\u001b[0m in \u001b[0;36mfit\u001b[0;34m(self, X, y, sample_weight, check_input, X_idx_sorted)\u001b[0m\n\u001b[1;32m    888\u001b[0m         \"\"\"\n\u001b[1;32m    889\u001b[0m \u001b[0;34m\u001b[0m\u001b[0m\n\u001b[0;32m--> 890\u001b[0;31m         super().fit(\n\u001b[0m\u001b[1;32m    891\u001b[0m             \u001b[0mX\u001b[0m\u001b[0;34m,\u001b[0m \u001b[0my\u001b[0m\u001b[0;34m,\u001b[0m\u001b[0;34m\u001b[0m\u001b[0;34m\u001b[0m\u001b[0m\n\u001b[1;32m    892\u001b[0m             \u001b[0msample_weight\u001b[0m\u001b[0;34m=\u001b[0m\u001b[0msample_weight\u001b[0m\u001b[0;34m,\u001b[0m\u001b[0;34m\u001b[0m\u001b[0;34m\u001b[0m\u001b[0m\n",
      "\u001b[0;32m~/opt/anaconda3/envs/learn-env/lib/python3.8/site-packages/sklearn/tree/_classes.py\u001b[0m in \u001b[0;36mfit\u001b[0;34m(self, X, y, sample_weight, check_input, X_idx_sorted)\u001b[0m\n\u001b[1;32m    373\u001b[0m                                            min_impurity_split)\n\u001b[1;32m    374\u001b[0m \u001b[0;34m\u001b[0m\u001b[0m\n\u001b[0;32m--> 375\u001b[0;31m         \u001b[0mbuilder\u001b[0m\u001b[0;34m.\u001b[0m\u001b[0mbuild\u001b[0m\u001b[0;34m(\u001b[0m\u001b[0mself\u001b[0m\u001b[0;34m.\u001b[0m\u001b[0mtree_\u001b[0m\u001b[0;34m,\u001b[0m \u001b[0mX\u001b[0m\u001b[0;34m,\u001b[0m \u001b[0my\u001b[0m\u001b[0;34m,\u001b[0m \u001b[0msample_weight\u001b[0m\u001b[0;34m,\u001b[0m \u001b[0mX_idx_sorted\u001b[0m\u001b[0;34m)\u001b[0m\u001b[0;34m\u001b[0m\u001b[0;34m\u001b[0m\u001b[0m\n\u001b[0m\u001b[1;32m    376\u001b[0m \u001b[0;34m\u001b[0m\u001b[0m\n\u001b[1;32m    377\u001b[0m         \u001b[0;32mif\u001b[0m \u001b[0mself\u001b[0m\u001b[0;34m.\u001b[0m\u001b[0mn_outputs_\u001b[0m \u001b[0;34m==\u001b[0m \u001b[0;36m1\u001b[0m \u001b[0;32mand\u001b[0m \u001b[0mis_classifier\u001b[0m\u001b[0;34m(\u001b[0m\u001b[0mself\u001b[0m\u001b[0;34m)\u001b[0m\u001b[0;34m:\u001b[0m\u001b[0;34m\u001b[0m\u001b[0;34m\u001b[0m\u001b[0m\n",
      "\u001b[0;31mKeyboardInterrupt\u001b[0m: "
     ]
    }
   ],
   "source": [
    "w2v_rf =  Pipeline([('Word2Vec Vectorizer', W2vVectorizer(glove)),\n",
    "                    ('Random Forest', RandomForestClassifier(n_estimators=100, \n",
    "                                                             verbose=True))])\n",
    "\n",
    "w2v_rf.fit(X_train_tokenized, y_train)\n",
    "\n",
    "y_hat_train = w2v_rf.predict(X_train_tokenized)\n",
    "y_hat_test = w2v_rf.predict(X_test['text2']) # do I need to tokenize??\n",
    "\n",
    "display(scoreTable(w2v_rf, 'w2v_rf', y_train, y_hat_train, y_test, y_hat_test))"
   ]
  },
  {
   "cell_type": "code",
   "execution_count": 340,
   "id": "e951efaa",
   "metadata": {
    "ExecuteTime": {
     "end_time": "2022-12-09T20:45:16.544048Z",
     "start_time": "2022-12-09T20:44:22.680850Z"
    }
   },
   "outputs": [
    {
     "data": {
      "text/html": [
       "<div>\n",
       "<style scoped>\n",
       "    .dataframe tbody tr th:only-of-type {\n",
       "        vertical-align: middle;\n",
       "    }\n",
       "\n",
       "    .dataframe tbody tr th {\n",
       "        vertical-align: top;\n",
       "    }\n",
       "\n",
       "    .dataframe thead th {\n",
       "        text-align: right;\n",
       "    }\n",
       "</style>\n",
       "<table border=\"1\" class=\"dataframe\">\n",
       "  <thead>\n",
       "    <tr style=\"text-align: right;\">\n",
       "      <th></th>\n",
       "      <th>recall_train</th>\n",
       "      <th>recall_test</th>\n",
       "      <th>f1_train</th>\n",
       "      <th>f1_test</th>\n",
       "      <th>accuracy_train</th>\n",
       "      <th>accuracy_test</th>\n",
       "      <th>roc_auc</th>\n",
       "      <th>pr_auc</th>\n",
       "      <th>params</th>\n",
       "    </tr>\n",
       "  </thead>\n",
       "  <tbody>\n",
       "    <tr>\n",
       "      <th>tdidf_lr2</th>\n",
       "      <td>0.508835</td>\n",
       "      <td>0.510935</td>\n",
       "      <td>0.638865</td>\n",
       "      <td>0.640766</td>\n",
       "      <td>0.728009</td>\n",
       "      <td>0.728820</td>\n",
       "      <td>0.717795</td>\n",
       "      <td>0.670421</td>\n",
       "      <td>Pipeline(steps=[('Vector',\\n                 T...</td>\n",
       "    </tr>\n",
       "    <tr>\n",
       "      <th>w2v_rf</th>\n",
       "      <td>0.000000</td>\n",
       "      <td>0.000000</td>\n",
       "      <td>0.000000</td>\n",
       "      <td>0.000000</td>\n",
       "      <td>0.527191</td>\n",
       "      <td>0.526648</td>\n",
       "      <td>0.500000</td>\n",
       "      <td>0.473352</td>\n",
       "      <td>Pipeline(steps=[('Word2Vec Vectorizer',\\n     ...</td>\n",
       "    </tr>\n",
       "    <tr>\n",
       "      <th>w2v_lr</th>\n",
       "      <td>0.000000</td>\n",
       "      <td>0.000000</td>\n",
       "      <td>0.000000</td>\n",
       "      <td>0.000000</td>\n",
       "      <td>0.527191</td>\n",
       "      <td>0.526648</td>\n",
       "      <td>0.500000</td>\n",
       "      <td>0.473352</td>\n",
       "      <td>Pipeline(steps=[('Word2Vec Vectorizer',\\n     ...</td>\n",
       "    </tr>\n",
       "  </tbody>\n",
       "</table>\n",
       "</div>"
      ],
      "text/plain": [
       "           recall_train  recall_test  f1_train   f1_test  accuracy_train  \\\n",
       "tdidf_lr2      0.508835     0.510935  0.638865  0.640766        0.728009   \n",
       "w2v_rf         0.000000     0.000000  0.000000  0.000000        0.527191   \n",
       "w2v_lr         0.000000     0.000000  0.000000  0.000000        0.527191   \n",
       "\n",
       "           accuracy_test   roc_auc    pr_auc  \\\n",
       "tdidf_lr2       0.728820  0.717795  0.670421   \n",
       "w2v_rf          0.526648  0.500000  0.473352   \n",
       "w2v_lr          0.526648  0.500000  0.473352   \n",
       "\n",
       "                                                      params  \n",
       "tdidf_lr2  Pipeline(steps=[('Vector',\\n                 T...  \n",
       "w2v_rf     Pipeline(steps=[('Word2Vec Vectorizer',\\n     ...  \n",
       "w2v_lr     Pipeline(steps=[('Word2Vec Vectorizer',\\n     ...  "
      ]
     },
     "metadata": {},
     "output_type": "display_data"
    }
   ],
   "source": [
    "w2v_lr =  Pipeline([('Word2Vec Vectorizer', W2vVectorizer(glove)),\n",
    "                    ('Logistic Regression', LogisticRegression(solver='lbfgs', \n",
    "                                                               C=1e12, penalty='l2'))])\n",
    "\n",
    "w2v_lr.fit(X_train_tokenized, y_train)\n",
    "\n",
    "y_hat_train = w2v_lr.predict(X_train['text2'])\n",
    "y_hat_test = w2v_lr.predict(X_test['text2'])\n",
    "\n",
    "display(scoreTable(w2v_lr, 'w2v_lr', y_train, y_hat_train, y_test, y_hat_test))"
   ]
  },
  {
   "cell_type": "markdown",
   "id": "f882bba3",
   "metadata": {},
   "source": [
    "#### (Pretend) Final Model"
   ]
  },
  {
   "cell_type": "code",
   "execution_count": 90,
   "id": "b2e2950b",
   "metadata": {
    "ExecuteTime": {
     "end_time": "2022-12-12T23:25:16.541995Z",
     "start_time": "2022-12-12T23:24:14.120231Z"
    }
   },
   "outputs": [
    {
     "name": "stdout",
     "output_type": "stream",
     "text": [
      "0.7772528783909012\n",
      "0.778308452935247\n"
     ]
    },
    {
     "data": {
      "text/plain": [
       "<sklearn.metrics._plot.confusion_matrix.ConfusionMatrixDisplay at 0x7fb452367e80>"
      ]
     },
     "execution_count": 90,
     "metadata": {},
     "output_type": "execute_result"
    },
    {
     "data": {
      "image/png": "[encoded data removed]",
      "text/plain": [
       "<Figure size 432x288 with 2 Axes>"
      ]
     },
     "metadata": {
      "needs_background": "light"
     },
     "output_type": "display_data"
    }
   ],
   "source": [
    "final_model = LogisticRegression()\n",
    "\n",
    "tfidf = TfidfVectorizer(max_features=100, stop_words=stopwords_list)\n",
    "\n",
    "final_X_train = tfidf.fit_transform(X_train['text'])\n",
    "\n",
    "final_model.fit(final_X_train, y_train)\n",
    "print(final_model.score(final_X_train, y_train))\n",
    "\n",
    "# Note that we just transform, don't fit_transform\n",
    "final_X_test = tfidf.transform(X_test[\"text\"])\n",
    "\n",
    "# Insert feature Engineering for test data\n",
    "#X_test[\"num_sentences\"] = X_test[\"text\"].apply(lambda x: len(sent_tokenize(x)))\n",
    "\n",
    "# if there are feature engineered columns\n",
    "#X_test_vectorized_df = pd.DataFrame(X_test_vectorized.toarray(), columns=tfidf.get_feature_names())\n",
    "#final_X_test = pd.concat([\n",
    "#    X_test_vectorized_df, X_test[[\"num_sentences\", \"contains_price\", \"contains_emoticon\"]]\n",
    "#], axis=1)\n",
    "#final_X_test\n",
    "\n",
    "print(final_model.score(final_X_test, y_test))\n",
    "\n",
    "from sklearn.metrics import plot_confusion_matrix\n",
    "plot_confusion_matrix(final_model, final_X_test, y_test)\n"
   ]
  },
  {
   "cell_type": "code",
   "execution_count": null,
   "id": "2cb11516",
   "metadata": {},
   "outputs": [],
   "source": [
    "# these results are same as above, proving pipeline works and there is no data leakage"
   ]
  },
  {
   "cell_type": "code",
   "execution_count": 92,
   "id": "1cee5330",
   "metadata": {
    "ExecuteTime": {
     "end_time": "2022-12-12T23:26:47.719268Z",
     "start_time": "2022-12-12T23:26:46.423244Z"
    }
   },
   "outputs": [
    {
     "data": {
      "text/html": [
       "<div>\n",
       "<style scoped>\n",
       "    .dataframe tbody tr th:only-of-type {\n",
       "        vertical-align: middle;\n",
       "    }\n",
       "\n",
       "    .dataframe tbody tr th {\n",
       "        vertical-align: top;\n",
       "    }\n",
       "\n",
       "    .dataframe thead th {\n",
       "        text-align: right;\n",
       "    }\n",
       "</style>\n",
       "<table border=\"1\" class=\"dataframe\">\n",
       "  <thead>\n",
       "    <tr style=\"text-align: right;\">\n",
       "      <th></th>\n",
       "      <th>recall_train</th>\n",
       "      <th>recall_test</th>\n",
       "      <th>f1_train</th>\n",
       "      <th>f1_test</th>\n",
       "      <th>accuracy_train</th>\n",
       "      <th>accuracy_test</th>\n",
       "      <th>roc_auc</th>\n",
       "      <th>pr_auc</th>\n",
       "      <th>params</th>\n",
       "    </tr>\n",
       "  </thead>\n",
       "  <tbody>\n",
       "    <tr>\n",
       "      <th>tdidf_rf</th>\n",
       "      <td>0.671046</td>\n",
       "      <td>0.616042</td>\n",
       "      <td>0.778288</td>\n",
       "      <td>0.719609</td>\n",
       "      <td>0.819234</td>\n",
       "      <td>0.772756</td>\n",
       "      <td>0.764827</td>\n",
       "      <td>0.714645</td>\n",
       "      <td>Pipeline(steps=[('Vector',\\n                 T...</td>\n",
       "    </tr>\n",
       "    <tr>\n",
       "      <th>tdidf_lr2</th>\n",
       "      <td>0.487118</td>\n",
       "      <td>0.489124</td>\n",
       "      <td>0.617232</td>\n",
       "      <td>0.618661</td>\n",
       "      <td>0.714348</td>\n",
       "      <td>0.714575</td>\n",
       "      <td>0.703168</td>\n",
       "      <td>0.653435</td>\n",
       "      <td>Pipeline(steps=[('Vector',\\n                 T...</td>\n",
       "    </tr>\n",
       "    <tr>\n",
       "      <th>tdidf_lr</th>\n",
       "      <td>0.599078</td>\n",
       "      <td>0.601423</td>\n",
       "      <td>0.717772</td>\n",
       "      <td>0.719754</td>\n",
       "      <td>0.777253</td>\n",
       "      <td>0.778308</td>\n",
       "      <td>0.769358</td>\n",
       "      <td>0.727575</td>\n",
       "      <td>Pipeline(steps=[('Vector',\\n                 T...</td>\n",
       "    </tr>\n",
       "    <tr>\n",
       "      <th>final_model</th>\n",
       "      <td>0.599078</td>\n",
       "      <td>0.601423</td>\n",
       "      <td>0.717772</td>\n",
       "      <td>0.719754</td>\n",
       "      <td>0.777253</td>\n",
       "      <td>0.778308</td>\n",
       "      <td>0.769358</td>\n",
       "      <td>0.727575</td>\n",
       "      <td>LogisticRegression()</td>\n",
       "    </tr>\n",
       "  </tbody>\n",
       "</table>\n",
       "</div>"
      ],
      "text/plain": [
       "             recall_train  recall_test  f1_train   f1_test  accuracy_train  \\\n",
       "tdidf_rf         0.671046     0.616042  0.778288  0.719609        0.819234   \n",
       "tdidf_lr2        0.487118     0.489124  0.617232  0.618661        0.714348   \n",
       "tdidf_lr         0.599078     0.601423  0.717772  0.719754        0.777253   \n",
       "final_model      0.599078     0.601423  0.717772  0.719754        0.777253   \n",
       "\n",
       "             accuracy_test   roc_auc    pr_auc  \\\n",
       "tdidf_rf          0.772756  0.764827  0.714645   \n",
       "tdidf_lr2         0.714575  0.703168  0.653435   \n",
       "tdidf_lr          0.778308  0.769358  0.727575   \n",
       "final_model       0.778308  0.769358  0.727575   \n",
       "\n",
       "                                                        params  \n",
       "tdidf_rf     Pipeline(steps=[('Vector',\\n                 T...  \n",
       "tdidf_lr2    Pipeline(steps=[('Vector',\\n                 T...  \n",
       "tdidf_lr     Pipeline(steps=[('Vector',\\n                 T...  \n",
       "final_model                               LogisticRegression()  "
      ]
     },
     "metadata": {},
     "output_type": "display_data"
    }
   ],
   "source": [
    "y_hat_train_final = final_model.predict(final_X_train)\n",
    "y_hat_test_final = final_model.predict(final_X_test)\n",
    "display(scoreTable(final_model, 'final_model', y_train, y_hat_train_final, y_test, y_hat_test_final))"
   ]
  }
 ],
 "metadata": {
  "kernelspec": {
   "display_name": "Python (learn-env)",
   "language": "python",
   "name": "learn-env"
  },
  "language_info": {
   "codemirror_mode": {
    "name": "ipython",
    "version": 3
   },
   "file_extension": ".py",
   "mimetype": "text/x-python",
   "name": "python",
   "nbconvert_exporter": "python",
   "pygments_lexer": "ipython3",
   "version": "3.8.5"
  },
  "toc": {
   "base_numbering": 1,
   "nav_menu": {},
   "number_sections": true,
   "sideBar": true,
   "skip_h1_title": false,
   "title_cell": "Table of Contents",
   "title_sidebar": "Contents",
   "toc_cell": false,
   "toc_position": {},
   "toc_section_display": true,
   "toc_window_display": true
  }
 },
 "nbformat": 4,
 "nbformat_minor": 5
}
